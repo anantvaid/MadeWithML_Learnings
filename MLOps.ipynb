{
 "cells": [
  {
   "cell_type": "markdown",
   "id": "f7a79568",
   "metadata": {},
   "source": [
    "Our objective was to augment authors to add the appropriate tags for their project so the community can discover them. So we want to use the metadata provided in each project to determine what the relevant tags are. We'll want to start with the highly influential features and iteratively experiment with additional features."
   ]
  },
  {
   "cell_type": "markdown",
   "id": "45c105aa",
   "metadata": {},
   "source": [
    "### Load data"
   ]
  },
  {
   "cell_type": "code",
   "execution_count": 27,
   "id": "ec00a2bf",
   "metadata": {},
   "outputs": [],
   "source": [
    "from collections import Counter, OrderedDict\n",
    "import ipywidgets as widgets\n",
    "import itertools\n",
    "import json\n",
    "import pandas as pd\n",
    "from urllib.request import urlopen"
   ]
  },
  {
   "cell_type": "code",
   "execution_count": 28,
   "id": "7c0d322e",
   "metadata": {},
   "outputs": [
    {
     "name": "stdout",
     "output_type": "stream",
     "text": [
      "{\n",
      "  \"id\": 2106,\n",
      "  \"created_on\": \"2020-08-08 15:06:18\",\n",
      "  \"title\": \"Fast NST for Videos (+ person segmentation) \\ud83c\\udfa5 + \\u26a1\\ud83d\\udcbb + \\ud83c\\udfa8 = \\u2764\\ufe0f\",\n",
      "  \"description\": \"Create NST videos and pick separate styles for the person in the video and for the background.\",\n",
      "  \"tags\": [\n",
      "    \"code\",\n",
      "    \"tutorial\",\n",
      "    \"video\",\n",
      "    \"computer-vision\",\n",
      "    \"style-transfer\",\n",
      "    \"neural-style-transfer\"\n",
      "  ]\n",
      "}\n"
     ]
    }
   ],
   "source": [
    "# Load projects\n",
    "url = \"https://raw.githubusercontent.com/GokuMohandas/MadeWithML/main/datasets/projects.json\"\n",
    "projects = json.loads(urlopen(url).read())\n",
    "print (json.dumps(projects[-305], indent=2))"
   ]
  },
  {
   "cell_type": "code",
   "execution_count": 29,
   "id": "dac29087",
   "metadata": {},
   "outputs": [],
   "source": [
    "# import requests\n",
    "# req = requests.get(url)\n",
    "# proj = json.loads(req.content)\n",
    "# print(json.dumps(proj[-305], indent = 2))"
   ]
  },
  {
   "cell_type": "code",
   "execution_count": 30,
   "id": "2a69598a",
   "metadata": {},
   "outputs": [
    {
     "name": "stdout",
     "output_type": "stream",
     "text": [
      "2032 projects\n"
     ]
    },
    {
     "data": {
      "text/html": [
       "<div>\n",
       "<style scoped>\n",
       "    .dataframe tbody tr th:only-of-type {\n",
       "        vertical-align: middle;\n",
       "    }\n",
       "\n",
       "    .dataframe tbody tr th {\n",
       "        vertical-align: top;\n",
       "    }\n",
       "\n",
       "    .dataframe thead th {\n",
       "        text-align: right;\n",
       "    }\n",
       "</style>\n",
       "<table border=\"1\" class=\"dataframe\">\n",
       "  <thead>\n",
       "    <tr style=\"text-align: right;\">\n",
       "      <th></th>\n",
       "      <th>id</th>\n",
       "      <th>created_on</th>\n",
       "      <th>title</th>\n",
       "      <th>description</th>\n",
       "      <th>tags</th>\n",
       "    </tr>\n",
       "  </thead>\n",
       "  <tbody>\n",
       "    <tr>\n",
       "      <th>0</th>\n",
       "      <td>1</td>\n",
       "      <td>2020-02-17 06:30:41</td>\n",
       "      <td>Machine Learning Basics</td>\n",
       "      <td>A practical set of notebooks on machine learni...</td>\n",
       "      <td>[code, tutorial, keras, pytorch, tensorflow, d...</td>\n",
       "    </tr>\n",
       "    <tr>\n",
       "      <th>1</th>\n",
       "      <td>2</td>\n",
       "      <td>2020-02-17 06:41:45</td>\n",
       "      <td>Deep Learning with Electronic Health Record (E...</td>\n",
       "      <td>A comprehensive look at recent machine learnin...</td>\n",
       "      <td>[article, tutorial, deep-learning, health, ehr]</td>\n",
       "    </tr>\n",
       "    <tr>\n",
       "      <th>2</th>\n",
       "      <td>3</td>\n",
       "      <td>2020-02-20 06:07:59</td>\n",
       "      <td>Automatic Parking Management using computer vi...</td>\n",
       "      <td>Detecting empty and parked spaces in car parki...</td>\n",
       "      <td>[code, tutorial, video, python, machine-learni...</td>\n",
       "    </tr>\n",
       "    <tr>\n",
       "      <th>3</th>\n",
       "      <td>4</td>\n",
       "      <td>2020-02-20 06:21:57</td>\n",
       "      <td>Easy street parking using region proposal netw...</td>\n",
       "      <td>Get a text on your phone whenever a nearby par...</td>\n",
       "      <td>[code, tutorial, python, pytorch, machine-lear...</td>\n",
       "    </tr>\n",
       "    <tr>\n",
       "      <th>4</th>\n",
       "      <td>5</td>\n",
       "      <td>2020-02-20 06:29:18</td>\n",
       "      <td>Deep Learning based parking management system ...</td>\n",
       "      <td>Fastai provides easy to use wrappers to quickl...</td>\n",
       "      <td>[code, tutorial, fastai, deep-learning, parkin...</td>\n",
       "    </tr>\n",
       "  </tbody>\n",
       "</table>\n",
       "</div>"
      ],
      "text/plain": [
       "   id           created_on                                              title  \\\n",
       "0   1  2020-02-17 06:30:41                            Machine Learning Basics   \n",
       "1   2  2020-02-17 06:41:45  Deep Learning with Electronic Health Record (E...   \n",
       "2   3  2020-02-20 06:07:59  Automatic Parking Management using computer vi...   \n",
       "3   4  2020-02-20 06:21:57  Easy street parking using region proposal netw...   \n",
       "4   5  2020-02-20 06:29:18  Deep Learning based parking management system ...   \n",
       "\n",
       "                                         description  \\\n",
       "0  A practical set of notebooks on machine learni...   \n",
       "1  A comprehensive look at recent machine learnin...   \n",
       "2  Detecting empty and parked spaces in car parki...   \n",
       "3  Get a text on your phone whenever a nearby par...   \n",
       "4  Fastai provides easy to use wrappers to quickl...   \n",
       "\n",
       "                                                tags  \n",
       "0  [code, tutorial, keras, pytorch, tensorflow, d...  \n",
       "1    [article, tutorial, deep-learning, health, ehr]  \n",
       "2  [code, tutorial, video, python, machine-learni...  \n",
       "3  [code, tutorial, python, pytorch, machine-lear...  \n",
       "4  [code, tutorial, fastai, deep-learning, parkin...  "
      ]
     },
     "execution_count": 30,
     "metadata": {},
     "output_type": "execute_result"
    }
   ],
   "source": [
    "# Create dataframe\n",
    "df = pd.DataFrame(projects)\n",
    "print (f\"{len(df)} projects\")\n",
    "df.head(5)"
   ]
  },
  {
   "cell_type": "markdown",
   "id": "ac19c26e",
   "metadata": {},
   "source": [
    "The reason we want to iteratively add more features is because it introduces more complexity and effort. We may have additional data about each feature such as author info, html from links in the description, etc. While these may have meaningful signal, we want to slowly introduce these after we close the loop."
   ]
  },
  {
   "cell_type": "markdown",
   "id": "58a4413a",
   "metadata": {},
   "source": [
    "### Auxiliary Data"
   ]
  },
  {
   "cell_type": "markdown",
   "id": "34302538",
   "metadata": {},
   "source": [
    "We're also going to be using an auxiliary dataset which contains a collection of all the tags with their aliases and parent/child relationships. This auxiliary dataset was used by our application to automatically add the relevant parent tags when the child tags were present."
   ]
  },
  {
   "cell_type": "code",
   "execution_count": 31,
   "id": "50d70b4c",
   "metadata": {},
   "outputs": [
    {
     "name": "stdout",
     "output_type": "stream",
     "text": [
      "400 tags\n"
     ]
    }
   ],
   "source": [
    "# Load tags\n",
    "url = \"https://raw.githubusercontent.com/GokuMohandas/MadeWithML/main/datasets/tags.json\"\n",
    "tags = json.loads(urlopen(url).read())\n",
    "tags_dict = {}\n",
    "for item in tags:\n",
    "    key = item.pop(\"tag\")\n",
    "    tags_dict[key] = item\n",
    "print (f\"{len(tags_dict)} tags\")"
   ]
  },
  {
   "cell_type": "code",
   "execution_count": 32,
   "id": "a7e8f019",
   "metadata": {},
   "outputs": [
    {
     "data": {
      "application/vnd.jupyter.widget-view+json": {
       "model_id": "2d32f9d619b94951a8972b4607777b72",
       "version_major": 2,
       "version_minor": 0
      },
      "text/plain": [
       "interactive(children=(Dropdown(description='tag', index=283, options=('3d', 'action-localization', 'action-rec…"
      ]
     },
     "metadata": {},
     "output_type": "display_data"
    }
   ],
   "source": [
    "@widgets.interact(tag=list(tags_dict.keys()))\n",
    "def display_tag_details(tag='question-answering'):\n",
    "    print (json.dumps(tags_dict[tag], indent=2))"
   ]
  },
  {
   "cell_type": "markdown",
   "id": "f8f7ce16",
   "metadata": {},
   "source": [
    "## Data Imbalance"
   ]
  },
  {
   "cell_type": "markdown",
   "id": "02dfd2dc",
   "metadata": {},
   "source": [
    "There are several techniques to mitigate data imbalance, including resampling (oversampling from minority classes / undersampling from majority classes), account for the data distributions via the loss function (since that drives the learning process), etc."
   ]
  },
  {
   "cell_type": "markdown",
   "id": "d8cf7e6a",
   "metadata": {},
   "source": [
    "## Libraries"
   ]
  },
  {
   "cell_type": "markdown",
   "id": "c253cf28",
   "metadata": {},
   "source": [
    "We could have used the user provided tags as our labels but what if the user added a wrong tag or forgot to add a relevant one. To remove this dependency on the user to provide the gold standard labels, we can leverage labeling tools and platforms. These tools allow for quick and organized labeling of the dataset to ensure its quality. And instead of starting from scratch and asking our labeler to provide all the relevant tags for a given project, we can provide the author's original tags and ask the labeler to add / remove as necessary. The specific labeling tool may be something that needs to be custom built or leverages something from the ecosystem."
   ]
  },
  {
   "cell_type": "markdown",
   "id": "85a0a01c",
   "metadata": {},
   "source": [
    "### General\n",
    "\n",
    "- <a href=\"https://scale.com/\">Scale AI</a>: the data platform for high quality training and validation data for AI applications.\n",
    "- <a href=\"https://github.com/heartexlabs/label-studio\">Label Studio</a>: a multi-type data labeling and annotation tool with standardized output format.\n",
    "- <a href=\"https://github.com/UniversalDataTool/universal-data-tool\">Universal Data Tool</a>: collaborate and label any type of data, images, text, or documents in an easy web interface or desktop app.\n",
    "- <a href=\"https://github.com/explosion/prodigy-recipes\">Prodigy</a>: recipes for the Prodigy, our fully scriptable annotation tool.\n",
    "- <a href=\"https://github.com/janfreyberg/superintendent\">Superintendent</a>: an ipywidget-based interactive labeling tool for your data to enable active learning."
   ]
  },
  {
   "cell_type": "markdown",
   "id": "c342da1e",
   "metadata": {},
   "source": [
    "### Natural language processing\n",
    "\n",
    "- <a href=\"https://github.com/doccano/doccano\">Doccano</a>: an open source text annotation tool for text classification, sequence labeling and sequence to sequence tasks.\n",
    "- <a href=\"https://github.com/nlplab/brat\">BRAT</a>: a rapid annotation tool for all your textual annotation needs."
   ]
  },
  {
   "cell_type": "markdown",
   "id": "74f79c87",
   "metadata": {},
   "source": [
    "### Computer Vision\n",
    "- <a href=\"https://github.com/tzutalin/labelImg\">LabelImg</a>: a graphical image annotation tool and label object bounding boxes in images.\n",
    "- <a href=\"https://github.com/openvinotoolkit/cvat\">CVAT</a>: a free, online, interactive video and image annotation tool for computer vision.\n",
    "- <a href=\"https://github.com/Microsoft/VoTT\">VoTT</a>: an electron app for building end-to-end object detection models from images and videos.\n",
    "- <a href=\"https://github.com/SkalskiP/make-sense\">makesense.ai</a>: a free to use online tool for labelling photos.\n",
    "- <a href=\"https://github.com/rediscovery-io/remo-python\">remo</a>: an app for annotations and images management in computer vision.\n",
    "- <a href=\"https://github.com/aralroca/labelai\">Labelai</a>: an online tool designed to label images, useful for training AI models."
   ]
  },
  {
   "cell_type": "markdown",
   "id": "058e7f40",
   "metadata": {},
   "source": [
    "### Audio\n",
    "- <a href=\"https://github.com/midas-research/audino\">Audino</a>: an open source audio annotation tool for voice activity detection (VAD), diarization, speaker identification, automated speech recognition, emotion recognition tasks, etc.\n",
    "- <a href=\"https://github.com/CrowdCurio/audio-annotator\">audio-annotator</a>: a JavaScript interface for annotating and labeling audio files.\n",
    "- <a href=\"https://github.com/ritazh/EchoML\">EchoML</a>: a web app to play, visualize, and annotate your audio files for machine learning."
   ]
  },
  {
   "cell_type": "markdown",
   "id": "1d9dca12",
   "metadata": {},
   "source": [
    "### Miscellaneous\n",
    "- <a href=\"https://github.com/CogStack/MedCAT\">MedCAT</a>: a medical concept annotation tool that can extract information from Electronic Health Records(EHRs) and link it to biomedical ontologies like SNOMED-CT and UMLs."
   ]
  },
  {
   "cell_type": "markdown",
   "id": "9e839b6c",
   "metadata": {},
   "source": [
    "## Active Learning\n",
    "Even with a powerful labeling tool and established workflows, it's easy to see how involved and expensive labeling can be. Therefore, many teams employ active learning to iteratively label the dataset and evaluate the model.\n",
    "1. Label a small, initial dataset to train a model.\n",
    "2. Ask the trained model to predict on some unlabeled data.\n",
    "3. Determine which new data points to label from the unlabeled data based on:\n",
    "   - entropy over the predicted class probabilities.\n",
    "   - samples with lowest predicted, calibrated, confidence (uncertainty sampling)\n",
    "   - discrepancy in predictions from an ensemble of trained models\n",
    "4. Repeat until the desired perdormance is achieved.\n",
    "\n",
    "> This can be significantly more cost-effective and faster than labeling the entire dataset."
   ]
  },
  {
   "cell_type": "markdown",
   "id": "1b6c985b",
   "metadata": {},
   "source": [
    "### Libraries\n",
    "- <a href=\"https://github.com/modAL-python/modAL\">ModAL</a>: a modular active learning framework for Python.\n",
    "- <a href=\"https://github.com/ntucllab/libact\">libact</a>: pool-based active learning in Python.\n",
    "- <a href=\"https://github.com/NUAA-AL/ALiPy\">ALiPy</a>: active learning python toolbox, which allows users to conveniently evaluate, compare and analyze the performance of active learning methods."
   ]
  },
  {
   "cell_type": "markdown",
   "id": "4a893dda",
   "metadata": {},
   "source": [
    "## Weak supervision\n",
    "If we had samples that needed labeling or if we simply wanted to validate existing labels, we can use weak supervision to generate labels as opposed to hand labeling all of them. We could utilize weak supervision via labeling functions to label our existing and new data. We can create constructs based on keywords, pattern expressions, knowledge bases and generalized models to create these labeling functions to label our data. And we can add to the labeling functions over time and even mitigate conflicts amongst the different labeling functions."
   ]
  },
  {
   "cell_type": "code",
   "execution_count": 33,
   "id": "5e282ca8",
   "metadata": {},
   "outputs": [
    {
     "name": "stdout",
     "output_type": "stream",
     "text": [
      "Requirement already satisfied: snorkel in /home/anantvaid/anaconda3/envs/nlp/lib/python3.9/site-packages (0.9.7)\n",
      "Requirement already satisfied: pandas<2.0.0,>=1.0.0 in /home/anantvaid/anaconda3/envs/nlp/lib/python3.9/site-packages (from snorkel) (1.3.3)\n",
      "Requirement already satisfied: torch<2.0.0,>=1.2.0 in /home/anantvaid/anaconda3/envs/nlp/lib/python3.9/site-packages (from snorkel) (1.9.1)\n",
      "Requirement already satisfied: scikit-learn<0.25.0,>=0.20.2 in /home/anantvaid/anaconda3/envs/nlp/lib/python3.9/site-packages (from snorkel) (0.24.2)\n",
      "Requirement already satisfied: networkx<2.4,>=2.2 in /home/anantvaid/anaconda3/envs/nlp/lib/python3.9/site-packages (from snorkel) (2.3)\n",
      "Requirement already satisfied: tqdm<5.0.0,>=4.33.0 in /home/anantvaid/anaconda3/envs/nlp/lib/python3.9/site-packages (from snorkel) (4.62.3)\n",
      "Requirement already satisfied: tensorboard<2.0.0,>=1.14.0 in /home/anantvaid/anaconda3/envs/nlp/lib/python3.9/site-packages (from snorkel) (1.15.0)\n",
      "Requirement already satisfied: munkres>=1.0.6 in /home/anantvaid/anaconda3/envs/nlp/lib/python3.9/site-packages (from snorkel) (1.1.4)\n",
      "Requirement already satisfied: scipy<2.0.0,>=1.2.0 in /home/anantvaid/anaconda3/envs/nlp/lib/python3.9/site-packages (from snorkel) (1.7.1)\n",
      "Requirement already satisfied: numpy<1.20.0,>=1.16.5 in /home/anantvaid/anaconda3/envs/nlp/lib/python3.9/site-packages (from snorkel) (1.19.5)\n",
      "Requirement already satisfied: decorator>=4.3.0 in /home/anantvaid/anaconda3/envs/nlp/lib/python3.9/site-packages (from networkx<2.4,>=2.2->snorkel) (5.1.0)\n",
      "Requirement already satisfied: python-dateutil>=2.7.3 in /home/anantvaid/anaconda3/envs/nlp/lib/python3.9/site-packages (from pandas<2.0.0,>=1.0.0->snorkel) (2.8.2)\n",
      "Requirement already satisfied: pytz>=2017.3 in /home/anantvaid/anaconda3/envs/nlp/lib/python3.9/site-packages (from pandas<2.0.0,>=1.0.0->snorkel) (2021.3)\n",
      "Requirement already satisfied: six>=1.5 in /home/anantvaid/anaconda3/envs/nlp/lib/python3.9/site-packages (from python-dateutil>=2.7.3->pandas<2.0.0,>=1.0.0->snorkel) (1.16.0)\n",
      "Requirement already satisfied: threadpoolctl>=2.0.0 in /home/anantvaid/anaconda3/envs/nlp/lib/python3.9/site-packages (from scikit-learn<0.25.0,>=0.20.2->snorkel) (3.0.0)\n",
      "Requirement already satisfied: joblib>=0.11 in /home/anantvaid/anaconda3/envs/nlp/lib/python3.9/site-packages (from scikit-learn<0.25.0,>=0.20.2->snorkel) (1.0.1)\n",
      "Requirement already satisfied: protobuf>=3.6.0 in /home/anantvaid/anaconda3/envs/nlp/lib/python3.9/site-packages (from tensorboard<2.0.0,>=1.14.0->snorkel) (3.18.0)\n",
      "Requirement already satisfied: grpcio>=1.6.3 in /home/anantvaid/anaconda3/envs/nlp/lib/python3.9/site-packages (from tensorboard<2.0.0,>=1.14.0->snorkel) (1.41.0)\n",
      "Requirement already satisfied: werkzeug>=0.11.15 in /home/anantvaid/anaconda3/envs/nlp/lib/python3.9/site-packages (from tensorboard<2.0.0,>=1.14.0->snorkel) (2.0.1)\n",
      "Requirement already satisfied: markdown>=2.6.8 in /home/anantvaid/anaconda3/envs/nlp/lib/python3.9/site-packages (from tensorboard<2.0.0,>=1.14.0->snorkel) (3.3.4)\n",
      "Requirement already satisfied: setuptools>=41.0.0 in /home/anantvaid/anaconda3/envs/nlp/lib/python3.9/site-packages (from tensorboard<2.0.0,>=1.14.0->snorkel) (58.0.4)\n",
      "Requirement already satisfied: wheel>=0.26 in /home/anantvaid/anaconda3/envs/nlp/lib/python3.9/site-packages (from tensorboard<2.0.0,>=1.14.0->snorkel) (0.37.0)\n",
      "Requirement already satisfied: absl-py>=0.4 in /home/anantvaid/anaconda3/envs/nlp/lib/python3.9/site-packages (from tensorboard<2.0.0,>=1.14.0->snorkel) (0.14.1)\n",
      "Requirement already satisfied: typing-extensions in /home/anantvaid/anaconda3/envs/nlp/lib/python3.9/site-packages (from torch<2.0.0,>=1.2.0->snorkel) (3.10.0.2)\n"
     ]
    }
   ],
   "source": [
    "!pip install snorkel"
   ]
  },
  {
   "cell_type": "code",
   "execution_count": 34,
   "id": "117c437d",
   "metadata": {},
   "outputs": [],
   "source": [
    "from snorkel.labeling import labeling_function\n",
    "\n",
    "@labeling_function()\n",
    "def contains_tensorflow(text):\n",
    "    condition = any(tag in text.lower() for tag in (\"tensorflow\", \"tf\"))\n",
    "    return \"tensorflow\" if condition else None"
   ]
  },
  {
   "cell_type": "markdown",
   "id": "d7fb43b5",
   "metadata": {},
   "source": [
    "## Iteration\n",
    "Labeling isn't just a one time event or something we repeat identically. As new data is available, we'll want to strategically label the appropriate samples and improve slices of our data that are lacking in quality. In fact, there's an entire workflow related to labeling that is initiated when we want to iterate. We'll learn more about this iterative labeling process in our continual learning lesson."
   ]
  },
  {
   "cell_type": "markdown",
   "id": "b2f757d1",
   "metadata": {},
   "source": [
    "## Data Preprocessing"
   ]
  },
  {
   "cell_type": "markdown",
   "id": "f3f3e13c",
   "metadata": {},
   "source": [
    "Data preprocessing can be categorized into two types of processes: *preparation* and *transformation*. We'll explore common preprocessing techniques and then walkthrough the relevant processes for our specific application."
   ]
  },
  {
   "cell_type": "markdown",
   "id": "fe99c58e",
   "metadata": {},
   "source": [
    "### Feature Engineering"
   ]
  },
  {
   "cell_type": "markdown",
   "id": "b8800d51",
   "metadata": {},
   "source": [
    "We can combine existing input features to create new meaningful signal (helping the model learn). However, there's usually no simple way to know if certain feature combinations will help or not without empirically experimenting with the different combinations. Here, we could use a project's title and description separately as features but we'll combine them to create one input feature."
   ]
  },
  {
   "cell_type": "code",
   "execution_count": 35,
   "id": "1b5dab92",
   "metadata": {},
   "outputs": [],
   "source": [
    "df[\"text\"] = df.title + \" \" + df.description"
   ]
  },
  {
   "cell_type": "code",
   "execution_count": 36,
   "id": "60fe1314",
   "metadata": {},
   "outputs": [
    {
     "data": {
      "text/html": [
       "<div>\n",
       "<style scoped>\n",
       "    .dataframe tbody tr th:only-of-type {\n",
       "        vertical-align: middle;\n",
       "    }\n",
       "\n",
       "    .dataframe tbody tr th {\n",
       "        vertical-align: top;\n",
       "    }\n",
       "\n",
       "    .dataframe thead th {\n",
       "        text-align: right;\n",
       "    }\n",
       "</style>\n",
       "<table border=\"1\" class=\"dataframe\">\n",
       "  <thead>\n",
       "    <tr style=\"text-align: right;\">\n",
       "      <th></th>\n",
       "      <th>id</th>\n",
       "      <th>created_on</th>\n",
       "      <th>title</th>\n",
       "      <th>description</th>\n",
       "      <th>tags</th>\n",
       "      <th>text</th>\n",
       "    </tr>\n",
       "  </thead>\n",
       "  <tbody>\n",
       "    <tr>\n",
       "      <th>0</th>\n",
       "      <td>1</td>\n",
       "      <td>2020-02-17 06:30:41</td>\n",
       "      <td>Machine Learning Basics</td>\n",
       "      <td>A practical set of notebooks on machine learni...</td>\n",
       "      <td>[code, tutorial, keras, pytorch, tensorflow, d...</td>\n",
       "      <td>Machine Learning Basics A practical set of not...</td>\n",
       "    </tr>\n",
       "    <tr>\n",
       "      <th>1</th>\n",
       "      <td>2</td>\n",
       "      <td>2020-02-17 06:41:45</td>\n",
       "      <td>Deep Learning with Electronic Health Record (E...</td>\n",
       "      <td>A comprehensive look at recent machine learnin...</td>\n",
       "      <td>[article, tutorial, deep-learning, health, ehr]</td>\n",
       "      <td>Deep Learning with Electronic Health Record (E...</td>\n",
       "    </tr>\n",
       "    <tr>\n",
       "      <th>2</th>\n",
       "      <td>3</td>\n",
       "      <td>2020-02-20 06:07:59</td>\n",
       "      <td>Automatic Parking Management using computer vi...</td>\n",
       "      <td>Detecting empty and parked spaces in car parki...</td>\n",
       "      <td>[code, tutorial, video, python, machine-learni...</td>\n",
       "      <td>Automatic Parking Management using computer vi...</td>\n",
       "    </tr>\n",
       "    <tr>\n",
       "      <th>3</th>\n",
       "      <td>4</td>\n",
       "      <td>2020-02-20 06:21:57</td>\n",
       "      <td>Easy street parking using region proposal netw...</td>\n",
       "      <td>Get a text on your phone whenever a nearby par...</td>\n",
       "      <td>[code, tutorial, python, pytorch, machine-lear...</td>\n",
       "      <td>Easy street parking using region proposal netw...</td>\n",
       "    </tr>\n",
       "    <tr>\n",
       "      <th>4</th>\n",
       "      <td>5</td>\n",
       "      <td>2020-02-20 06:29:18</td>\n",
       "      <td>Deep Learning based parking management system ...</td>\n",
       "      <td>Fastai provides easy to use wrappers to quickl...</td>\n",
       "      <td>[code, tutorial, fastai, deep-learning, parkin...</td>\n",
       "      <td>Deep Learning based parking management system ...</td>\n",
       "    </tr>\n",
       "  </tbody>\n",
       "</table>\n",
       "</div>"
      ],
      "text/plain": [
       "   id           created_on                                              title  \\\n",
       "0   1  2020-02-17 06:30:41                            Machine Learning Basics   \n",
       "1   2  2020-02-17 06:41:45  Deep Learning with Electronic Health Record (E...   \n",
       "2   3  2020-02-20 06:07:59  Automatic Parking Management using computer vi...   \n",
       "3   4  2020-02-20 06:21:57  Easy street parking using region proposal netw...   \n",
       "4   5  2020-02-20 06:29:18  Deep Learning based parking management system ...   \n",
       "\n",
       "                                         description  \\\n",
       "0  A practical set of notebooks on machine learni...   \n",
       "1  A comprehensive look at recent machine learnin...   \n",
       "2  Detecting empty and parked spaces in car parki...   \n",
       "3  Get a text on your phone whenever a nearby par...   \n",
       "4  Fastai provides easy to use wrappers to quickl...   \n",
       "\n",
       "                                                tags  \\\n",
       "0  [code, tutorial, keras, pytorch, tensorflow, d...   \n",
       "1    [article, tutorial, deep-learning, health, ehr]   \n",
       "2  [code, tutorial, video, python, machine-learni...   \n",
       "3  [code, tutorial, python, pytorch, machine-lear...   \n",
       "4  [code, tutorial, fastai, deep-learning, parkin...   \n",
       "\n",
       "                                                text  \n",
       "0  Machine Learning Basics A practical set of not...  \n",
       "1  Deep Learning with Electronic Health Record (E...  \n",
       "2  Automatic Parking Management using computer vi...  \n",
       "3  Easy street parking using region proposal netw...  \n",
       "4  Deep Learning based parking management system ...  "
      ]
     },
     "execution_count": 36,
     "metadata": {},
     "output_type": "execute_result"
    }
   ],
   "source": [
    "df.head()"
   ]
  },
  {
   "cell_type": "markdown",
   "id": "acf4600e",
   "metadata": {},
   "source": [
    "### Filtering"
   ]
  },
  {
   "cell_type": "markdown",
   "id": "781edda6",
   "metadata": {},
   "source": [
    "In the same vain, we can also reduce the size of our data by placing constraints as to what data is worth annotation or labeling. Here we decide to filter tags above a certain frequency threshold because those with fewer samples won't be adequate for training."
   ]
  },
  {
   "cell_type": "code",
   "execution_count": 37,
   "id": "a7d10941",
   "metadata": {},
   "outputs": [],
   "source": [
    "def filter(l, include=[], exclude=[]):\n",
    "    filtered = [item for item in l if item in include and item not in exclude]\n",
    "    return filtered"
   ]
  },
  {
   "cell_type": "code",
   "execution_count": 38,
   "id": "a5cb56c3",
   "metadata": {},
   "outputs": [],
   "source": [
    "# Inclusion/exclusion criteria for tags\n",
    "include = list(tags_dict.keys())\n",
    "exclude = [\"machine-learning\", \"deep-learning\",  \"data-science\",\n",
    "           \"neural-networks\", \"python\", \"r\", \"visualization\"]"
   ]
  },
  {
   "cell_type": "code",
   "execution_count": 39,
   "id": "aab551ee",
   "metadata": {},
   "outputs": [],
   "source": [
    "# Filter tags for each project\n",
    "df.tags = df.tags.apply(filter, include=include, exclude=exclude)\n",
    "tags = Counter(itertools.chain.from_iterable(df.tags.values))"
   ]
  },
  {
   "cell_type": "markdown",
   "id": "872dcea0",
   "metadata": {},
   "source": [
    "We're also going to restrict the mapping to only tags that are above a certain frequency threshold. The tags that don't have enough projects will not have enough samples to model their relationships. "
   ]
  },
  {
   "cell_type": "code",
   "execution_count": 40,
   "id": "722cfe57",
   "metadata": {},
   "outputs": [
    {
     "data": {
      "text/plain": [
       "[('natural-language-processing', 424),\n",
       " ('computer-vision', 388),\n",
       " ('pytorch', 258),\n",
       " ('tensorflow', 213),\n",
       " ('transformers', 196),\n",
       " ('attention', 120),\n",
       " ('convolutional-neural-networks', 106),\n",
       " ('keras', 93),\n",
       " ('graphs', 78),\n",
       " ('embeddings', 75),\n",
       " ('generative-adversarial-networks', 73),\n",
       " ('object-detection', 69),\n",
       " ('huggingface', 64),\n",
       " ('scikit-learn', 60),\n",
       " ('reinforcement-learning', 59),\n",
       " ('representation-learning', 57),\n",
       " ('interpretability', 55),\n",
       " ('graph-neural-networks', 51),\n",
       " ('language-modeling', 51),\n",
       " ('image-classification', 51),\n",
       " ('production', 51),\n",
       " ('regression', 49),\n",
       " ('segmentation', 48),\n",
       " ('transfer-learning', 46),\n",
       " ('autoencoders', 41),\n",
       " ('data-augmentation', 41),\n",
       " ('self-supervised-learning', 40),\n",
       " ('tensorflow-js', 40),\n",
       " ('unsupervised-learning', 39),\n",
       " ('wandb', 39),\n",
       " ('flask', 34),\n",
       " ('time-series', 34),\n",
       " ('node-classification', 33),\n",
       " ('question-answering', 32),\n",
       " ('pretraining', 30),\n",
       " ('fastai', 29),\n",
       " ('graph-classification', 29),\n",
       " ('model-compression', 29),\n",
       " ('recurrent-neural-networks', 28),\n",
       " ('adversarial-learning', 28),\n",
       " ('graph-clustering', 27),\n",
       " ('exploratory-data-analysis', 27),\n",
       " ('streamlit', 27),\n",
       " ('graph-embedding', 26),\n",
       " ('semi-supervised-learning', 25),\n",
       " ('linear-regression', 24),\n",
       " ('text-classification', 24),\n",
       " ('graph-convolutional-networks', 23),\n",
       " ('named-entity-recognition', 23),\n",
       " ('classification', 22),\n",
       " ('automl', 22),\n",
       " ('clustering', 21),\n",
       " ('jax', 21),\n",
       " ('recommendation-systems', 21),\n",
       " ('hyperparameter-optimization', 21),\n",
       " ('annotation', 21),\n",
       " ('image-generation', 20),\n",
       " ('aws', 20),\n",
       " ('systems-design', 20),\n",
       " ('random-forests', 20),\n",
       " ('conversational-ai', 20),\n",
       " ('variational-autoencoders', 19),\n",
       " ('sentiment-analysis', 19),\n",
       " ('mlops', 19),\n",
       " ('dimensionality-reduction', 18),\n",
       " ('speech', 18),\n",
       " ('lstm', 18),\n",
       " ('3d', 17),\n",
       " ('semantic-segmentation', 17),\n",
       " ('fine-tuning', 17),\n",
       " ('k-nearest-neighbors', 17),\n",
       " ('text-generation', 17),\n",
       " ('logistic-regression', 16),\n",
       " ('decision-trees', 16),\n",
       " ('support-vector-machines', 16),\n",
       " ('adversarial-attacks', 16),\n",
       " ('gradient-boosting', 15),\n",
       " ('anomaly-detection', 15),\n",
       " ('unit-tests', 15),\n",
       " ('tensorflow-lite', 15),\n",
       " ('javascript', 15),\n",
       " ('word-embeddings', 14),\n",
       " ('self-attention', 14),\n",
       " ('text-summarization', 14),\n",
       " ('spacy', 14),\n",
       " ('pruning', 14),\n",
       " ('style-transfer', 14),\n",
       " ('ci-cd', 14),\n",
       " ('bayesian-deep-learning', 13),\n",
       " ('optical-character-recognition', 13),\n",
       " ('meta-learning', 13),\n",
       " ('forecasting', 13),\n",
       " ('time-series-forecasting', 13),\n",
       " ('search', 13),\n",
       " ('multi-task-learning', 13),\n",
       " ('knowledge-distillation', 13),\n",
       " ('fastapi', 13),\n",
       " ('feature-engineering', 12),\n",
       " ('c++', 12),\n",
       " ('docker', 12),\n",
       " ('experiment-tracking', 12),\n",
       " ('sql', 12),\n",
       " ('distributed-training', 12),\n",
       " ('few-shot-learning', 12),\n",
       " ('question-generation', 11),\n",
       " ('multilayer-perceptrons', 11),\n",
       " ('preprocessing', 11),\n",
       " ('image-captioning', 10),\n",
       " ('medical-imaging', 10),\n",
       " ('pose-estimation', 10),\n",
       " ('object-tracking', 10),\n",
       " ('gaussian-processes', 10),\n",
       " ('active-learning', 10),\n",
       " ('similarity-search', 10),\n",
       " ('quantization', 10),\n",
       " ('azure', 9),\n",
       " ('onnx', 9),\n",
       " ('metrics', 9),\n",
       " ('super-resolution', 9),\n",
       " ('artificial-general-intelligence', 9),\n",
       " ('inference', 8),\n",
       " ('xgboost', 8),\n",
       " ('matplotlib', 8),\n",
       " ('gpt', 8),\n",
       " ('html', 8),\n",
       " ('causal-inference', 8),\n",
       " ('node-js', 8),\n",
       " ('music-generation', 8),\n",
       " ('topic-modeling', 8),\n",
       " ('git', 7),\n",
       " ('autonomous-vehicles', 7),\n",
       " ('speech-recognition', 7),\n",
       " ('instance-segmentation', 7),\n",
       " ('machine-translation', 7),\n",
       " ('sequence-to-sequence', 7),\n",
       " ('privacy', 7),\n",
       " ('react', 7),\n",
       " ('image-to-image-translation', 7),\n",
       " ('speech-synthesis', 7),\n",
       " ('zero-shot-learning', 7),\n",
       " ('deep-q-networks', 6),\n",
       " ('siamese-networks', 6),\n",
       " ('mxnet', 6),\n",
       " ('databases', 6),\n",
       " ('latent-dirichlet-allocation', 6),\n",
       " ('information-retrieval', 6),\n",
       " ('principal-component-analysis', 6),\n",
       " ('tokenization', 6),\n",
       " ('audio-classification', 6),\n",
       " ('natural-language-understanding', 6),\n",
       " ('knowledge-graphs', 5),\n",
       " ('face-detection', 5),\n",
       " ('hidden-markov-models', 5),\n",
       " ('robotics', 5),\n",
       " ('naive-bayes', 5),\n",
       " ('q-learning', 5),\n",
       " ('fasttext', 5),\n",
       " ('devops', 5),\n",
       " ('adversarial-defense', 5),\n",
       " ('feature-importance', 5),\n",
       " ('image-recognition', 5),\n",
       " ('model-management', 5),\n",
       " ('image-clustering', 5),\n",
       " ('visual-question-answering', 5),\n",
       " ('action-recognition', 5),\n",
       " ('tabular', 5),\n",
       " ('sentence-embeddings', 4),\n",
       " ('multi-modal', 4),\n",
       " ('graph-representation-learning', 4),\n",
       " ('image-similarity-search', 4),\n",
       " ('feature-selection', 4),\n",
       " ('css', 4),\n",
       " ('information-extraction', 4),\n",
       " ('geometric-deep-learning', 4),\n",
       " ('audio-tagging', 4),\n",
       " ('domain-adaptation', 4),\n",
       " ('julia', 4),\n",
       " ('contrastive-loss', 4),\n",
       " ('streaming-data', 4),\n",
       " ('data-mining', 3),\n",
       " ('fraud-detection', 3),\n",
       " ('multi-agent-reinforcement-learning', 3),\n",
       " ('text-similarity', 3),\n",
       " ('gated-recurrent-units', 3),\n",
       " ('xlnet', 3),\n",
       " ('reading-comprehension', 3),\n",
       " ('bayesian-inference', 3),\n",
       " ('outlier-detection', 3),\n",
       " ('kubernetes', 3),\n",
       " ('temporal-cnn', 3),\n",
       " ('d3', 3),\n",
       " ('conditional-random-fields', 3),\n",
       " ('survival-analysis', 3),\n",
       " ('object-localization', 3),\n",
       " ('django', 3),\n",
       " ('code-generation', 3),\n",
       " ('contextualized-embeddings', 3),\n",
       " ('part-of-speech-tagging', 3),\n",
       " ('adversarial-image-detection', 3),\n",
       " ('colorization', 2),\n",
       " ('point-cloud-generation', 2),\n",
       " ('character-embeddings', 2),\n",
       " ('object-recognition', 2),\n",
       " ('policy-gradient-methods', 2),\n",
       " ('collaborative-filtering', 2),\n",
       " ('entity-linking', 2),\n",
       " ('object-classification', 2),\n",
       " ('video-classification', 2),\n",
       " ('counterfactuals', 2),\n",
       " ('one-shot-learning', 2),\n",
       " ('common-sense-reasoning', 2),\n",
       " ('arima', 2),\n",
       " ('fake-news-detection', 2),\n",
       " ('generation', 2),\n",
       " ('torch', 2),\n",
       " ('model-selection', 2),\n",
       " ('multilingual', 2),\n",
       " ('multinomial-regression', 2),\n",
       " ('natural-language-inference', 2),\n",
       " ('image-compression', 2),\n",
       " ('image-categorization', 2),\n",
       " ('dlib', 2),\n",
       " ('document-embeddings', 2),\n",
       " ('knowledge-base-question-answering', 2),\n",
       " ('angular', 2),\n",
       " ('learning-rates', 2),\n",
       " ('optimizer', 2),\n",
       " ('caffe', 2),\n",
       " ('hierarchical-reinforcement-learning', 1),\n",
       " ('question-similarity', 1),\n",
       " ('pose-tracking', 1),\n",
       " ('linear-discriminant-analysis', 1),\n",
       " ('semantic-composition', 1),\n",
       " ('chainer', 1),\n",
       " ('edge-detection', 1),\n",
       " ('action-localization', 1),\n",
       " ('paddlepaddle', 1),\n",
       " ('relation-extraction', 1),\n",
       " ('drug-discovery', 1),\n",
       " ('motion-capture', 1),\n",
       " ('dialogue', 1),\n",
       " ('hand-pose-estimation', 1),\n",
       " ('image-restoration', 1),\n",
       " ('spatial-temporal-cnn', 1),\n",
       " ('depth-estimation', 1),\n",
       " ('disparity-estimation', 1),\n",
       " ('knowledge-base', 1),\n",
       " ('audio-generation', 1),\n",
       " ('imputation', 1),\n",
       " ('adversarial-text', 1),\n",
       " ('gesture-recognition', 1),\n",
       " ('stochastic-optimization', 1),\n",
       " ('visual-navigation', 1),\n",
       " ('swift', 1),\n",
       " ('motion-estimation', 1),\n",
       " ('constituency-parsing', 1),\n",
       " ('slot-filling', 1),\n",
       " ('tensor-networks', 1),\n",
       " ('spark', 1),\n",
       " ('java', 1),\n",
       " ('time-series-classification', 1),\n",
       " ('time-series-clustering', 1),\n",
       " ('video-semantic-segmentation', 1),\n",
       " ('crowd-counting', 1),\n",
       " ('time-series-prediction', 1),\n",
       " ('residual-networks', 1),\n",
       " ('text-to-speech-synthesis', 1),\n",
       " ('emotion-recognition', 1),\n",
       " ('cropping', 1),\n",
       " ('text-matching', 1),\n",
       " ('lemmatization', 1),\n",
       " ('theano', 1),\n",
       " ('speaker-diarization', 1),\n",
       " ('quantum-machine-learning', 1),\n",
       " ('cross-lingual', 1),\n",
       " ('imitation-learning', 1),\n",
       " ('go', 1),\n",
       " ('paraphrase-identification', 1),\n",
       " ('coreml', 1),\n",
       " ('document-ranking', 1),\n",
       " ('kuberflow', 1),\n",
       " ('denoising', 1),\n",
       " ('surveillance', 1),\n",
       " ('mortality-prediction', 1),\n",
       " ('data-summarization', 1),\n",
       " ('keyword-extraction', 1)]"
      ]
     },
     "execution_count": 40,
     "metadata": {},
     "output_type": "execute_result"
    }
   ],
   "source": [
    "tags.most_common()"
   ]
  },
  {
   "cell_type": "code",
   "execution_count": 41,
   "id": "9d5be86d",
   "metadata": {},
   "outputs": [
    {
     "data": {
      "application/vnd.jupyter.widget-view+json": {
       "model_id": "330edf83a51f4c70b41a83c87d262b8c",
       "version_major": 2,
       "version_minor": 0
      },
      "text/plain": [
       "interactive(children=(IntSlider(value=30, description='min_tag_freq', max=424), Output()), _dom_classes=('widg…"
      ]
     },
     "metadata": {},
     "output_type": "display_data"
    }
   ],
   "source": [
    "@widgets.interact(min_tag_freq=(0, tags.most_common()[0][1]))\n",
    "def separate_tags_by_freq(min_tag_freq=30):\n",
    "    tags_above_freq = Counter(tag for tag in tags.elements()\n",
    "                                    if tags[tag] >= min_tag_freq)\n",
    "    tags_below_freq = Counter(tag for tag in tags.elements()\n",
    "                                    if tags[tag] < min_tag_freq)\n",
    "    print (\"Most popular tags:\\n\", tags_above_freq.most_common(5))\n",
    "    print (\"\\nTags that just made the cut:\\n\", tags_above_freq.most_common()[-5:])\n",
    "    print (\"\\nTags that just missed the cut:\\n\", tags_below_freq.most_common(5))"
   ]
  },
  {
   "cell_type": "code",
   "execution_count": 42,
   "id": "501d23fe",
   "metadata": {},
   "outputs": [],
   "source": [
    "# Filter tags that have fewer than <min_tag_freq> occurances\n",
    "min_tag_freq = 30\n",
    "tags_above_freq = Counter(tag for tag in tags.elements() if tags[tag] >= min_tag_freq)\n",
    "df.tags = df.tags.apply(filter, include=list(tags_above_freq.keys()))"
   ]
  },
  {
   "cell_type": "markdown",
   "id": "49769cc0",
   "metadata": {},
   "source": [
    "### Cleaning"
   ]
  },
  {
   "cell_type": "markdown",
   "id": "862e1bf4",
   "metadata": {},
   "source": [
    "After applying our filters, it's important that we remove any samples that didn't make the cut. In our case, we'll want to remove inputs that have no remaining (not enough frequency) tags."
   ]
  },
  {
   "cell_type": "code",
   "execution_count": 43,
   "id": "a14cfe07",
   "metadata": {},
   "outputs": [
    {
     "name": "stdout",
     "output_type": "stream",
     "text": [
      "1444 projects\n"
     ]
    }
   ],
   "source": [
    "# Remove projects with no more remaining relevant tags\n",
    "df = df[df.tags.map(len) > 0]\n",
    "print (f\"{len(df)} projects\")"
   ]
  },
  {
   "cell_type": "markdown",
   "id": "ef715b58",
   "metadata": {},
   "source": [
    "## Exploration"
   ]
  },
  {
   "cell_type": "markdown",
   "id": "a20e6e2b",
   "metadata": {},
   "source": [
    "Exploratory data analysis (EDA) is a vital (and fun) step in the data science process but it's often misconstrued. Here's how to think about EDA:\n",
    "- not just to visualize a prescribed set of plots (correlation matrix, etc.).\n",
    "- goal is to convince yourself that the data you have is sufficient for the task.\n",
    "- use EDA to answer important questions and to make it easier to extract insight\n",
    "- not a one time process; as your data grows, you want to revisit EDA to catch distribution shifts, anomalies, etc.\n"
   ]
  },
  {
   "cell_type": "code",
   "execution_count": 44,
   "id": "bb4ad846",
   "metadata": {},
   "outputs": [],
   "source": [
    "import matplotlib.pyplot as plt\n",
    "import seaborn as sns\n",
    "import warnings\n",
    "from wordcloud import WordCloud, STOPWORDS\n",
    "warnings.filterwarnings(\"ignore\")"
   ]
  },
  {
   "cell_type": "markdown",
   "id": "e1b939d0",
   "metadata": {},
   "source": [
    "### Tags per project"
   ]
  },
  {
   "cell_type": "markdown",
   "id": "d9481859",
   "metadata": {},
   "source": [
    "**Q1.** How many (post filtered) tags do the projects have? We care about this because we want to make sure we don't overwhelm the user with too many tags (UX constraint)."
   ]
  },
  {
   "cell_type": "code",
   "execution_count": 45,
   "id": "56aef9b5",
   "metadata": {},
   "outputs": [
    {
     "data": {
      "image/png": "[encoded data removed]",
      "text/plain": [
       "<Figure size 720x216 with 1 Axes>"
      ]
     },
     "metadata": {
      "needs_background": "light"
     },
     "output_type": "display_data"
    }
   ],
   "source": [
    "# Number of tags per project\n",
    "num_tags_per_project = [len(tags) for tags in df.tags]\n",
    "num_tags, num_projects = zip(*Counter(num_tags_per_project).items())\n",
    "plt.figure(figsize=(10, 3))\n",
    "ax = sns.barplot(list(num_tags), list(num_projects))\n",
    "plt.title(\"Tags per project\", fontsize=20)\n",
    "plt.xlabel(\"Number of tags\", fontsize=16)\n",
    "ax.set_xticklabels(range(1, len(num_tags)+1), rotation=0, fontsize=16)\n",
    "plt.ylabel(\"Number of projects\", fontsize=16)\n",
    "plt.show()"
   ]
  },
  {
   "cell_type": "code",
   "execution_count": 46,
   "id": "dba27a05",
   "metadata": {},
   "outputs": [
    {
     "data": {
      "text/plain": [
       "(4, 1, 2, 3, 5, 8, 6, 7)"
      ]
     },
     "execution_count": 46,
     "metadata": {},
     "output_type": "execute_result"
    }
   ],
   "source": [
    "num_tags"
   ]
  },
  {
   "cell_type": "markdown",
   "id": "8f2f3977",
   "metadata": {},
   "source": [
    "### Tag distribution"
   ]
  },
  {
   "cell_type": "markdown",
   "id": "da5e22e3",
   "metadata": {},
   "source": [
    "**Q2.** What are the most popular tags? We care about this because it's important to know about the distribution of tags and what tags just made the cut (for performance)."
   ]
  },
  {
   "cell_type": "code",
   "execution_count": 47,
   "id": "002633b2",
   "metadata": {},
   "outputs": [
    {
     "data": {
      "image/png": "[encoded data removed]",
      "text/plain": [
       "<Figure size 1800x360 with 1 Axes>"
      ]
     },
     "metadata": {
      "needs_background": "light"
     },
     "output_type": "display_data"
    }
   ],
   "source": [
    "# Distribution of tags\n",
    "all_tags = list(itertools.chain.from_iterable(df.tags.values))\n",
    "tags, tag_counts = zip(*Counter(all_tags).most_common())\n",
    "plt.figure(figsize=(25, 5))\n",
    "ax = sns.barplot(list(tags), list(tag_counts))\n",
    "plt.title(\"Tag distribution\", fontsize=20)\n",
    "plt.xlabel(\"Tag\", fontsize=16)\n",
    "ax.set_xticklabels(tags, rotation=90, fontsize=14)\n",
    "plt.ylabel(\"Number of projects\", fontsize=16)\n",
    "plt.show()"
   ]
  },
  {
   "cell_type": "code",
   "execution_count": 48,
   "id": "3f26852a",
   "metadata": {},
   "outputs": [
    {
     "data": {
      "text/plain": [
       "['keras',\n",
       " 'pytorch',\n",
       " 'tensorflow',\n",
       " 'natural-language-processing',\n",
       " 'computer-vision',\n",
       " 'pytorch',\n",
       " 'computer-vision',\n",
       " 'computer-vision',\n",
       " 'attention',\n",
       " 'computer-vision',\n",
       " 'embeddings',\n",
       " 'graph-neural-networks',\n",
       " 'graphs',\n",
       " 'representation-learning',\n",
       " 'convolutional-neural-networks',\n",
       " 'regression',\n",
       " 'graphs',\n",
       " 'reinforcement-learning',\n",
       " 'embeddings',\n",
       " 'graphs',\n",
       " 'node-classification',\n",
       " 'tensorflow',\n",
       " 'embeddings',\n",
       " 'graphs',\n",
       " 'node-classification',\n",
       " 'embeddings',\n",
       " 'graphs',\n",
       " 'node-classification',\n",
       " 'transfer-learning',\n",
       " 'embeddings',\n",
       " 'graph-neural-networks',\n",
       " 'graphs',\n",
       " 'node-classification',\n",
       " 'embeddings',\n",
       " 'graphs',\n",
       " 'node-classification',\n",
       " 'graphs',\n",
       " 'node-classification',\n",
       " 'pytorch',\n",
       " 'embeddings',\n",
       " 'graphs',\n",
       " 'node-classification',\n",
       " 'representation-learning',\n",
       " 'pytorch',\n",
       " 'graphs',\n",
       " 'node-classification',\n",
       " 'pytorch',\n",
       " 'attention',\n",
       " 'convolutional-neural-networks',\n",
       " 'embeddings',\n",
       " 'graph-neural-networks',\n",
       " 'graphs',\n",
       " 'node-classification',\n",
       " 'representation-learning',\n",
       " 'pytorch',\n",
       " 'graph-neural-networks',\n",
       " 'graphs',\n",
       " 'node-classification',\n",
       " 'representation-learning',\n",
       " 'pytorch',\n",
       " 'embeddings',\n",
       " 'graph-neural-networks',\n",
       " 'graphs',\n",
       " 'node-classification',\n",
       " 'representation-learning',\n",
       " 'embeddings',\n",
       " 'graph-neural-networks',\n",
       " 'graphs',\n",
       " 'representation-learning',\n",
       " 'pytorch',\n",
       " 'embeddings',\n",
       " 'graph-neural-networks',\n",
       " 'graphs',\n",
       " 'node-classification',\n",
       " 'representation-learning',\n",
       " 'graphs',\n",
       " 'node-classification',\n",
       " 'embeddings',\n",
       " 'graphs',\n",
       " 'node-classification',\n",
       " 'representation-learning',\n",
       " 'embeddings',\n",
       " 'graphs',\n",
       " 'node-classification',\n",
       " 'representation-learning',\n",
       " 'tensorflow',\n",
       " 'embeddings',\n",
       " 'graphs',\n",
       " 'node-classification',\n",
       " 'representation-learning',\n",
       " 'embeddings',\n",
       " 'graphs',\n",
       " 'node-classification',\n",
       " 'representation-learning',\n",
       " 'embeddings',\n",
       " 'graphs',\n",
       " 'node-classification',\n",
       " 'representation-learning',\n",
       " 'embeddings',\n",
       " 'graphs',\n",
       " 'node-classification',\n",
       " 'representation-learning',\n",
       " 'pytorch',\n",
       " 'embeddings',\n",
       " 'graphs',\n",
       " 'node-classification',\n",
       " 'representation-learning',\n",
       " 'embeddings',\n",
       " 'graphs',\n",
       " 'node-classification',\n",
       " 'representation-learning',\n",
       " 'embeddings',\n",
       " 'graphs',\n",
       " 'node-classification',\n",
       " 'representation-learning',\n",
       " 'embeddings',\n",
       " 'graphs',\n",
       " 'node-classification',\n",
       " 'representation-learning',\n",
       " 'autoencoders',\n",
       " 'embeddings',\n",
       " 'graphs',\n",
       " 'node-classification',\n",
       " 'representation-learning',\n",
       " 'embeddings',\n",
       " 'graphs',\n",
       " 'node-classification',\n",
       " 'representation-learning',\n",
       " 'embeddings',\n",
       " 'graphs',\n",
       " 'node-classification',\n",
       " 'representation-learning',\n",
       " 'pytorch',\n",
       " 'embeddings',\n",
       " 'graph-neural-networks',\n",
       " 'graphs',\n",
       " 'node-classification',\n",
       " 'representation-learning',\n",
       " 'pytorch',\n",
       " 'embeddings',\n",
       " 'graph-neural-networks',\n",
       " 'graphs',\n",
       " 'node-classification',\n",
       " 'representation-learning',\n",
       " 'pytorch',\n",
       " 'attention',\n",
       " 'embeddings',\n",
       " 'graphs',\n",
       " 'node-classification',\n",
       " 'representation-learning',\n",
       " 'pytorch',\n",
       " 'embeddings',\n",
       " 'graphs',\n",
       " 'node-classification',\n",
       " 'representation-learning',\n",
       " 'embeddings',\n",
       " 'graphs',\n",
       " 'node-classification',\n",
       " 'representation-learning',\n",
       " 'pytorch',\n",
       " 'embeddings',\n",
       " 'graphs',\n",
       " 'node-classification',\n",
       " 'representation-learning',\n",
       " 'autoencoders',\n",
       " 'flask',\n",
       " 'computer-vision',\n",
       " 'convolutional-neural-networks',\n",
       " 'generative-adversarial-networks',\n",
       " 'computer-vision',\n",
       " 'keras',\n",
       " 'tensorflow',\n",
       " 'convolutional-neural-networks',\n",
       " 'computer-vision',\n",
       " 'scikit-learn',\n",
       " 'embeddings',\n",
       " 'computer-vision',\n",
       " 'pytorch',\n",
       " 'flask',\n",
       " 'computer-vision',\n",
       " 'computer-vision',\n",
       " 'self-supervised-learning',\n",
       " 'computer-vision',\n",
       " 'computer-vision',\n",
       " 'transfer-learning',\n",
       " 'pytorch',\n",
       " 'natural-language-processing',\n",
       " 'graph-neural-networks',\n",
       " 'graphs',\n",
       " 'tensorflow',\n",
       " 'convolutional-neural-networks',\n",
       " 'pytorch',\n",
       " 'transformers',\n",
       " 'natural-language-processing',\n",
       " 'computer-vision',\n",
       " 'tensorflow',\n",
       " 'computer-vision',\n",
       " 'graph-neural-networks',\n",
       " 'graphs',\n",
       " 'computer-vision',\n",
       " 'keras',\n",
       " 'generative-adversarial-networks',\n",
       " 'computer-vision',\n",
       " 'pytorch',\n",
       " 'transformers',\n",
       " 'language-modeling',\n",
       " 'natural-language-processing',\n",
       " 'keras',\n",
       " 'tensorflow',\n",
       " 'tensorflow',\n",
       " 'convolutional-neural-networks',\n",
       " 'scikit-learn',\n",
       " 'regression',\n",
       " 'computer-vision',\n",
       " 'natural-language-processing',\n",
       " 'question-answering',\n",
       " 'flask',\n",
       " 'natural-language-processing',\n",
       " 'pytorch',\n",
       " 'tensorflow',\n",
       " 'computer-vision',\n",
       " 'transfer-learning',\n",
       " 'autoencoders',\n",
       " 'computer-vision',\n",
       " 'natural-language-processing',\n",
       " 'attention',\n",
       " 'transformers',\n",
       " 'computer-vision',\n",
       " 'natural-language-processing',\n",
       " 'pytorch',\n",
       " 'computer-vision',\n",
       " 'data-augmentation',\n",
       " 'segmentation',\n",
       " 'pytorch',\n",
       " 'convolutional-neural-networks',\n",
       " 'computer-vision',\n",
       " 'object-detection',\n",
       " 'pytorch',\n",
       " 'computer-vision',\n",
       " 'segmentation',\n",
       " 'computer-vision',\n",
       " 'pytorch',\n",
       " 'self-supervised-learning',\n",
       " 'pytorch',\n",
       " 'computer-vision',\n",
       " 'object-detection',\n",
       " 'tensorflow',\n",
       " 'reinforcement-learning',\n",
       " 'pytorch',\n",
       " 'attention',\n",
       " 'transformers',\n",
       " 'language-modeling',\n",
       " 'natural-language-processing',\n",
       " 'huggingface',\n",
       " 'transformers',\n",
       " 'language-modeling',\n",
       " 'natural-language-processing',\n",
       " 'autoencoders',\n",
       " 'embeddings',\n",
       " 'natural-language-processing',\n",
       " 'question-answering',\n",
       " 'unsupervised-learning',\n",
       " 'computer-vision',\n",
       " 'computer-vision',\n",
       " 'segmentation',\n",
       " 'computer-vision',\n",
       " 'pytorch',\n",
       " 'computer-vision',\n",
       " 'object-detection',\n",
       " 'tensorflow',\n",
       " 'attention',\n",
       " 'transformers',\n",
       " 'natural-language-processing',\n",
       " 'pytorch',\n",
       " 'self-supervised-learning',\n",
       " 'scikit-learn',\n",
       " 'transformers',\n",
       " 'language-modeling',\n",
       " 'natural-language-processing',\n",
       " 'pretraining',\n",
       " 'pytorch',\n",
       " 'wandb',\n",
       " 'pytorch',\n",
       " 'generative-adversarial-networks',\n",
       " 'computer-vision',\n",
       " 'attention',\n",
       " 'transformers',\n",
       " 'natural-language-processing',\n",
       " 'pytorch',\n",
       " 'computer-vision',\n",
       " 'pytorch',\n",
       " 'computer-vision',\n",
       " 'keras',\n",
       " 'pytorch',\n",
       " 'attention',\n",
       " 'transformers',\n",
       " 'natural-language-processing',\n",
       " 'pretraining',\n",
       " 'generative-adversarial-networks',\n",
       " 'computer-vision',\n",
       " 'attention',\n",
       " 'generative-adversarial-networks',\n",
       " 'transformers',\n",
       " 'computer-vision',\n",
       " 'natural-language-processing',\n",
       " 'data-augmentation',\n",
       " 'natural-language-processing',\n",
       " 'graph-neural-networks',\n",
       " 'graphs',\n",
       " 'pytorch',\n",
       " 'computer-vision',\n",
       " 'graph-neural-networks',\n",
       " 'graphs',\n",
       " 'pytorch',\n",
       " 'pytorch',\n",
       " 'computer-vision',\n",
       " 'computer-vision',\n",
       " 'object-detection',\n",
       " 'scikit-learn',\n",
       " 'regression',\n",
       " 'natural-language-processing',\n",
       " 'natural-language-processing',\n",
       " 'computer-vision',\n",
       " 'natural-language-processing',\n",
       " 'computer-vision',\n",
       " 'self-supervised-learning',\n",
       " 'natural-language-processing',\n",
       " 'scikit-learn',\n",
       " 'scikit-learn',\n",
       " 'regression',\n",
       " 'keras',\n",
       " 'scikit-learn',\n",
       " 'tensorflow',\n",
       " 'attention',\n",
       " 'transformers',\n",
       " 'natural-language-processing',\n",
       " 'tensorflow',\n",
       " 'tensorflow',\n",
       " 'convolutional-neural-networks',\n",
       " 'computer-vision',\n",
       " 'interpretability',\n",
       " 'pytorch',\n",
       " 'pytorch',\n",
       " 'scikit-learn',\n",
       " 'regression',\n",
       " 'regression',\n",
       " 'regression',\n",
       " 'regression',\n",
       " 'regression',\n",
       " 'regression',\n",
       " 'interpretability',\n",
       " 'scikit-learn',\n",
       " 'scikit-learn',\n",
       " 'scikit-learn',\n",
       " 'tensorflow',\n",
       " 'reinforcement-learning',\n",
       " 'attention',\n",
       " 'transformers',\n",
       " 'natural-language-processing',\n",
       " 'pretraining',\n",
       " 'convolutional-neural-networks',\n",
       " 'computer-vision',\n",
       " 'image-classification',\n",
       " 'convolutional-neural-networks',\n",
       " 'convolutional-neural-networks',\n",
       " 'convolutional-neural-networks',\n",
       " 'convolutional-neural-networks',\n",
       " 'natural-language-processing',\n",
       " 'autoencoders',\n",
       " 'representation-learning',\n",
       " 'autoencoders',\n",
       " 'representation-learning',\n",
       " 'autoencoders',\n",
       " 'pytorch',\n",
       " 'autoencoders',\n",
       " 'autoencoders',\n",
       " 'computer-vision',\n",
       " 'segmentation',\n",
       " 'computer-vision',\n",
       " 'natural-language-processing',\n",
       " 'segmentation',\n",
       " 'convolutional-neural-networks',\n",
       " 'convolutional-neural-networks',\n",
       " 'computer-vision',\n",
       " 'natural-language-processing',\n",
       " 'time-series',\n",
       " 'pytorch',\n",
       " 'scikit-learn',\n",
       " 'tensorflow',\n",
       " 'interpretability',\n",
       " 'interpretability',\n",
       " 'interpretability',\n",
       " 'interpretability',\n",
       " 'keras',\n",
       " 'tensorflow',\n",
       " 'keras',\n",
       " 'pytorch',\n",
       " 'scikit-learn',\n",
       " 'tensorflow',\n",
       " 'computer-vision',\n",
       " 'natural-language-processing',\n",
       " 'natural-language-processing',\n",
       " 'tensorflow',\n",
       " 'embeddings',\n",
       " 'natural-language-processing',\n",
       " 'embeddings',\n",
       " 'language-modeling',\n",
       " 'natural-language-processing',\n",
       " 'embeddings',\n",
       " 'natural-language-processing',\n",
       " 'attention',\n",
       " 'transformers',\n",
       " 'natural-language-processing',\n",
       " 'attention',\n",
       " 'transformers',\n",
       " 'natural-language-processing',\n",
       " 'transformers',\n",
       " 'language-modeling',\n",
       " 'natural-language-processing',\n",
       " 'embeddings',\n",
       " 'natural-language-processing',\n",
       " 'attention',\n",
       " 'transformers',\n",
       " 'embeddings',\n",
       " 'language-modeling',\n",
       " 'natural-language-processing',\n",
       " 'transfer-learning',\n",
       " 'attention',\n",
       " 'transformers',\n",
       " 'natural-language-processing',\n",
       " 'attention',\n",
       " 'natural-language-processing',\n",
       " 'embeddings',\n",
       " 'natural-language-processing',\n",
       " 'attention',\n",
       " 'computer-vision',\n",
       " 'language-modeling',\n",
       " 'natural-language-processing',\n",
       " 'attention',\n",
       " 'natural-language-processing',\n",
       " 'attention',\n",
       " 'transformers',\n",
       " 'natural-language-processing',\n",
       " 'tensorflow',\n",
       " 'attention',\n",
       " 'transformers',\n",
       " 'natural-language-processing',\n",
       " 'attention',\n",
       " 'transformers',\n",
       " 'natural-language-processing',\n",
       " 'huggingface',\n",
       " 'pytorch',\n",
       " 'attention',\n",
       " 'transformers',\n",
       " 'natural-language-processing',\n",
       " 'huggingface',\n",
       " 'pytorch',\n",
       " 'tensorflow',\n",
       " 'attention',\n",
       " 'transformers',\n",
       " 'language-modeling',\n",
       " 'natural-language-processing',\n",
       " 'question-answering',\n",
       " 'generative-adversarial-networks',\n",
       " 'autoencoders',\n",
       " 'generative-adversarial-networks',\n",
       " 'reinforcement-learning',\n",
       " 'generative-adversarial-networks',\n",
       " 'computer-vision',\n",
       " 'representation-learning',\n",
       " 'self-supervised-learning',\n",
       " 'reinforcement-learning',\n",
       " 'reinforcement-learning',\n",
       " 'attention',\n",
       " 'transformers',\n",
       " 'language-modeling',\n",
       " 'natural-language-processing',\n",
       " 'autoencoders',\n",
       " 'reinforcement-learning',\n",
       " 'reinforcement-learning',\n",
       " 'convolutional-neural-networks',\n",
       " 'computer-vision',\n",
       " 'object-detection',\n",
       " 'embeddings',\n",
       " 'natural-language-processing',\n",
       " 'generative-adversarial-networks',\n",
       " 'interpretability',\n",
       " 'generative-adversarial-networks',\n",
       " 'computer-vision',\n",
       " 'interpretability',\n",
       " 'pytorch',\n",
       " 'computer-vision',\n",
       " 'data-augmentation',\n",
       " 'pytorch',\n",
       " 'pytorch',\n",
       " 'generative-adversarial-networks',\n",
       " 'pytorch',\n",
       " 'graph-neural-networks',\n",
       " 'graphs',\n",
       " 'graph-neural-networks',\n",
       " 'graphs',\n",
       " 'scikit-learn',\n",
       " 'regression',\n",
       " 'attention',\n",
       " 'transformers',\n",
       " 'natural-language-processing',\n",
       " 'question-answering',\n",
       " 'attention',\n",
       " 'transformers',\n",
       " 'natural-language-processing',\n",
       " 'attention',\n",
       " 'transformers',\n",
       " 'natural-language-processing',\n",
       " 'transfer-learning',\n",
       " 'attention',\n",
       " 'transformers',\n",
       " 'natural-language-processing',\n",
       " 'natural-language-processing',\n",
       " 'pytorch',\n",
       " 'reinforcement-learning',\n",
       " 'computer-vision',\n",
       " 'object-detection',\n",
       " 'attention',\n",
       " 'transformers',\n",
       " 'embeddings',\n",
       " 'natural-language-processing',\n",
       " 'computer-vision',\n",
       " 'object-detection',\n",
       " 'segmentation',\n",
       " 'computer-vision',\n",
       " 'segmentation',\n",
       " 'computer-vision',\n",
       " 'image-classification',\n",
       " 'data-augmentation',\n",
       " 'pytorch',\n",
       " 'attention',\n",
       " 'transformers',\n",
       " 'natural-language-processing',\n",
       " 'pytorch',\n",
       " 'graph-neural-networks',\n",
       " 'graphs',\n",
       " 'interpretability',\n",
       " 'convolutional-neural-networks',\n",
       " 'embeddings',\n",
       " 'natural-language-processing',\n",
       " 'attention',\n",
       " 'transformers',\n",
       " 'natural-language-processing',\n",
       " 'question-answering',\n",
       " 'graphs',\n",
       " 'huggingface',\n",
       " 'natural-language-processing',\n",
       " 'huggingface',\n",
       " 'pytorch',\n",
       " 'natural-language-processing',\n",
       " 'natural-language-processing',\n",
       " 'transfer-learning',\n",
       " 'pretraining',\n",
       " 'pytorch',\n",
       " 'interpretability',\n",
       " 'attention',\n",
       " 'transformers',\n",
       " 'interpretability',\n",
       " 'natural-language-processing',\n",
       " 'keras',\n",
       " 'computer-vision',\n",
       " 'tensorflow',\n",
       " 'tensorflow-js',\n",
       " 'tensorflow',\n",
       " 'tensorflow-js',\n",
       " 'tensorflow',\n",
       " 'tensorflow-js',\n",
       " 'embeddings',\n",
       " 'pytorch',\n",
       " 'self-supervised-learning',\n",
       " 'flask',\n",
       " 'keras',\n",
       " 'convolutional-neural-networks',\n",
       " 'pytorch',\n",
       " 'natural-language-processing',\n",
       " 'scikit-learn',\n",
       " 'unsupervised-learning',\n",
       " 'reinforcement-learning',\n",
       " 'tensorflow-js',\n",
       " 'pytorch',\n",
       " 'reinforcement-learning',\n",
       " 'pytorch',\n",
       " 'graph-neural-networks',\n",
       " 'graphs',\n",
       " 'representation-learning',\n",
       " 'interpretability',\n",
       " 'interpretability',\n",
       " 'attention',\n",
       " 'transformers',\n",
       " 'interpretability',\n",
       " 'natural-language-processing',\n",
       " 'generative-adversarial-networks',\n",
       " 'convolutional-neural-networks',\n",
       " 'computer-vision',\n",
       " 'convolutional-neural-networks',\n",
       " 'tensorflow',\n",
       " 'embeddings',\n",
       " 'natural-language-processing',\n",
       " 'embeddings',\n",
       " 'natural-language-processing',\n",
       " 'tensorflow',\n",
       " 'generative-adversarial-networks',\n",
       " 'computer-vision',\n",
       " 'tensorflow',\n",
       " 'computer-vision',\n",
       " 'embeddings',\n",
       " 'natural-language-processing',\n",
       " 'pytorch',\n",
       " 'tensorflow',\n",
       " 'interpretability',\n",
       " 'keras',\n",
       " 'tensorflow',\n",
       " 'interpretability',\n",
       " 'pytorch',\n",
       " 'natural-language-processing',\n",
       " 'pytorch',\n",
       " 'computer-vision',\n",
       " 'interpretability',\n",
       " 'wandb',\n",
       " 'computer-vision',\n",
       " 'natural-language-processing',\n",
       " 'tensorflow',\n",
       " 'attention',\n",
       " 'transformers',\n",
       " 'interpretability',\n",
       " 'natural-language-processing',\n",
       " 'tensorflow',\n",
       " 'convolutional-neural-networks',\n",
       " 'natural-language-processing',\n",
       " 'data-augmentation',\n",
       " 'convolutional-neural-networks',\n",
       " 'computer-vision',\n",
       " 'attention',\n",
       " 'transformers',\n",
       " 'natural-language-processing',\n",
       " 'time-series',\n",
       " 'attention',\n",
       " 'transformers',\n",
       " 'natural-language-processing',\n",
       " 'convolutional-neural-networks',\n",
       " 'computer-vision',\n",
       " 'attention',\n",
       " 'transformers',\n",
       " 'embeddings',\n",
       " 'natural-language-processing',\n",
       " 'generative-adversarial-networks',\n",
       " 'huggingface',\n",
       " 'transformers',\n",
       " 'language-modeling',\n",
       " 'natural-language-processing',\n",
       " 'pytorch',\n",
       " 'embeddings',\n",
       " 'language-modeling',\n",
       " 'natural-language-processing',\n",
       " 'computer-vision',\n",
       " 'self-supervised-learning',\n",
       " 'natural-language-processing',\n",
       " 'interpretability',\n",
       " 'attention',\n",
       " 'transformers',\n",
       " 'natural-language-processing',\n",
       " 'attention',\n",
       " 'transformers',\n",
       " 'natural-language-processing',\n",
       " 'transformers',\n",
       " 'natural-language-processing',\n",
       " 'language-modeling',\n",
       " 'natural-language-processing',\n",
       " 'interpretability',\n",
       " 'interpretability',\n",
       " 'language-modeling',\n",
       " 'natural-language-processing',\n",
       " 'natural-language-processing',\n",
       " 'transformers',\n",
       " 'data-augmentation',\n",
       " 'embeddings',\n",
       " 'natural-language-processing',\n",
       " 'pytorch',\n",
       " 'transformers',\n",
       " 'language-modeling',\n",
       " 'natural-language-processing',\n",
       " 'transfer-learning',\n",
       " 'pytorch',\n",
       " 'generative-adversarial-networks',\n",
       " 'language-modeling',\n",
       " 'natural-language-processing',\n",
       " 'natural-language-processing',\n",
       " 'convolutional-neural-networks',\n",
       " 'computer-vision',\n",
       " 'attention',\n",
       " 'transformers',\n",
       " 'natural-language-processing',\n",
       " 'pretraining',\n",
       " 'pytorch',\n",
       " 'attention',\n",
       " 'transformers',\n",
       " 'natural-language-processing',\n",
       " 'generative-adversarial-networks',\n",
       " 'computer-vision',\n",
       " 'computer-vision',\n",
       " 'segmentation',\n",
       " 'computer-vision',\n",
       " 'representation-learning',\n",
       " 'self-supervised-learning',\n",
       " 'computer-vision',\n",
       " 'natural-language-processing',\n",
       " 'keras',\n",
       " 'natural-language-processing',\n",
       " 'pytorch',\n",
       " 'natural-language-processing',\n",
       " 'attention',\n",
       " 'transformers',\n",
       " 'natural-language-processing',\n",
       " 'question-answering',\n",
       " 'transformers',\n",
       " 'natural-language-processing',\n",
       " 'question-answering',\n",
       " 'transfer-learning',\n",
       " 'scikit-learn',\n",
       " 'natural-language-processing',\n",
       " 'natural-language-processing',\n",
       " 'pytorch',\n",
       " 'autoencoders',\n",
       " 'generative-adversarial-networks',\n",
       " 'computer-vision',\n",
       " 'tensorflow',\n",
       " 'convolutional-neural-networks',\n",
       " 'computer-vision',\n",
       " 'keras',\n",
       " 'tensorflow',\n",
       " 'autoencoders',\n",
       " 'generative-adversarial-networks',\n",
       " 'computer-vision',\n",
       " 'pytorch',\n",
       " 'computer-vision',\n",
       " 'segmentation',\n",
       " 'pytorch',\n",
       " 'attention',\n",
       " 'computer-vision',\n",
       " 'natural-language-processing',\n",
       " 'object-detection',\n",
       " 'segmentation',\n",
       " 'computer-vision',\n",
       " 'pytorch',\n",
       " 'computer-vision',\n",
       " 'image-classification',\n",
       " 'pytorch',\n",
       " 'computer-vision',\n",
       " 'representation-learning',\n",
       " 'self-supervised-learning',\n",
       " 'convolutional-neural-networks',\n",
       " 'computer-vision',\n",
       " 'pytorch',\n",
       " 'computer-vision',\n",
       " 'pytorch',\n",
       " 'computer-vision',\n",
       " 'computer-vision',\n",
       " 'computer-vision',\n",
       " 'computer-vision',\n",
       " 'attention',\n",
       " 'computer-vision',\n",
       " 'computer-vision',\n",
       " 'convolutional-neural-networks',\n",
       " 'computer-vision',\n",
       " 'segmentation',\n",
       " 'tensorflow',\n",
       " 'computer-vision',\n",
       " 'pytorch',\n",
       " 'computer-vision',\n",
       " 'pytorch',\n",
       " 'convolutional-neural-networks',\n",
       " 'computer-vision',\n",
       " 'object-detection',\n",
       " 'segmentation',\n",
       " 'pytorch',\n",
       " 'generative-adversarial-networks',\n",
       " 'convolutional-neural-networks',\n",
       " 'computer-vision',\n",
       " 'pytorch',\n",
       " 'natural-language-processing',\n",
       " 'unsupervised-learning',\n",
       " 'tensorflow',\n",
       " 'autoencoders',\n",
       " 'keras',\n",
       " 'tensorflow',\n",
       " 'autoencoders',\n",
       " 'computer-vision',\n",
       " 'autoencoders',\n",
       " 'generative-adversarial-networks',\n",
       " 'self-supervised-learning',\n",
       " 'unsupervised-learning',\n",
       " 'time-series',\n",
       " 'convolutional-neural-networks',\n",
       " 'computer-vision',\n",
       " 'pytorch',\n",
       " 'time-series',\n",
       " 'scikit-learn',\n",
       " 'scikit-learn',\n",
       " 'embeddings',\n",
       " 'interpretability',\n",
       " 'natural-language-processing',\n",
       " 'autoencoders',\n",
       " 'tensorflow',\n",
       " 'convolutional-neural-networks',\n",
       " 'computer-vision',\n",
       " 'object-detection',\n",
       " 'computer-vision',\n",
       " 'image-classification',\n",
       " 'object-detection',\n",
       " 'transfer-learning',\n",
       " 'unsupervised-learning',\n",
       " 'scikit-learn',\n",
       " 'unsupervised-learning',\n",
       " 'natural-language-processing',\n",
       " 'tensorflow',\n",
       " 'generative-adversarial-networks',\n",
       " 'tensorflow',\n",
       " 'transformers',\n",
       " 'computer-vision',\n",
       " 'natural-language-processing',\n",
       " 'unsupervised-learning',\n",
       " 'interpretability',\n",
       " 'data-augmentation',\n",
       " 'pretraining',\n",
       " 'data-augmentation',\n",
       " 'tensorflow',\n",
       " 'generative-adversarial-networks',\n",
       " 'computer-vision',\n",
       " 'keras',\n",
       " 'tensorflow',\n",
       " 'embeddings',\n",
       " 'computer-vision',\n",
       " 'self-supervised-learning',\n",
       " 'autoencoders',\n",
       " 'keras',\n",
       " 'tensorflow',\n",
       " 'natural-language-processing',\n",
       " 'production',\n",
       " 'pytorch',\n",
       " 'attention',\n",
       " 'transformers',\n",
       " 'natural-language-processing',\n",
       " 'flask',\n",
       " 'pytorch',\n",
       " 'tensorflow',\n",
       " 'production',\n",
       " 'wandb',\n",
       " 'flask',\n",
       " 'production',\n",
       " 'keras',\n",
       " 'tensorflow',\n",
       " 'computer-vision',\n",
       " 'image-classification',\n",
       " 'keras',\n",
       " 'tensorflow',\n",
       " 'generative-adversarial-networks',\n",
       " 'keras',\n",
       " 'tensorflow',\n",
       " 'keras',\n",
       " 'tensorflow',\n",
       " 'wandb',\n",
       " 'huggingface',\n",
       " 'transformers',\n",
       " 'natural-language-processing',\n",
       " 'transfer-learning',\n",
       " 'computer-vision',\n",
       " 'wandb',\n",
       " 'natural-language-processing',\n",
       " 'keras',\n",
       " 'tensorflow',\n",
       " 'keras',\n",
       " 'tensorflow',\n",
       " 'keras',\n",
       " 'tensorflow',\n",
       " 'computer-vision',\n",
       " 'transfer-learning',\n",
       " 'natural-language-processing',\n",
       " 'reinforcement-learning',\n",
       " 'self-supervised-learning',\n",
       " 'unsupervised-learning',\n",
       " 'pretraining',\n",
       " 'tensorflow',\n",
       " 'keras',\n",
       " 'tensorflow',\n",
       " 'pytorch',\n",
       " 'production',\n",
       " 'wandb',\n",
       " 'natural-language-processing',\n",
       " 'transfer-learning',\n",
       " 'pytorch',\n",
       " 'computer-vision',\n",
       " 'natural-language-processing',\n",
       " 'tensorflow',\n",
       " 'natural-language-processing',\n",
       " 'transformers',\n",
       " 'natural-language-processing',\n",
       " 'transfer-learning',\n",
       " 'reinforcement-learning',\n",
       " 'wandb',\n",
       " 'tensorflow',\n",
       " 'tensorflow-js',\n",
       " 'computer-vision',\n",
       " 'transfer-learning',\n",
       " 'transfer-learning',\n",
       " 'pytorch',\n",
       " 'generative-adversarial-networks',\n",
       " 'computer-vision',\n",
       " 'pytorch',\n",
       " 'regression',\n",
       " 'pytorch',\n",
       " 'transfer-learning',\n",
       " 'pytorch',\n",
       " 'pytorch',\n",
       " 'scikit-learn',\n",
       " 'computer-vision',\n",
       " 'attention',\n",
       " 'generative-adversarial-networks',\n",
       " 'transformers',\n",
       " 'language-modeling',\n",
       " 'natural-language-processing',\n",
       " 'representation-learning',\n",
       " 'pytorch',\n",
       " 'generative-adversarial-networks',\n",
       " 'computer-vision',\n",
       " 'attention',\n",
       " 'transformers',\n",
       " 'natural-language-processing',\n",
       " 'pretraining',\n",
       " 'natural-language-processing',\n",
       " 'huggingface',\n",
       " 'attention',\n",
       " 'transformers',\n",
       " 'language-modeling',\n",
       " 'natural-language-processing',\n",
       " 'tensorflow',\n",
       " 'tensorflow-js',\n",
       " 'time-series',\n",
       " 'tensorflow',\n",
       " 'tensorflow-js',\n",
       " 'convolutional-neural-networks',\n",
       " 'graph-neural-networks',\n",
       " 'graphs',\n",
       " 'interpretability',\n",
       " 'autoencoders',\n",
       " 'wandb',\n",
       " 'scikit-learn',\n",
       " 'embeddings',\n",
       " 'scikit-learn',\n",
       " 'reinforcement-learning',\n",
       " 'pytorch',\n",
       " 'scikit-learn',\n",
       " 'regression',\n",
       " 'huggingface',\n",
       " 'attention',\n",
       " 'transformers',\n",
       " 'language-modeling',\n",
       " 'natural-language-processing',\n",
       " 'autoencoders',\n",
       " 'generative-adversarial-networks',\n",
       " 'computer-vision',\n",
       " 'tensorflow-js',\n",
       " 'regression',\n",
       " 'keras',\n",
       " 'tensorflow',\n",
       " 'keras',\n",
       " 'tensorflow',\n",
       " 'graph-neural-networks',\n",
       " 'graphs',\n",
       " 'autoencoders',\n",
       " 'unsupervised-learning',\n",
       " 'attention',\n",
       " 'graph-neural-networks',\n",
       " 'graphs',\n",
       " 'natural-language-processing',\n",
       " 'attention',\n",
       " 'transformers',\n",
       " 'natural-language-processing',\n",
       " 'attention',\n",
       " 'graphs',\n",
       " 'natural-language-processing',\n",
       " 'data-augmentation',\n",
       " 'data-augmentation',\n",
       " 'huggingface',\n",
       " 'pytorch',\n",
       " 'attention',\n",
       " 'transformers',\n",
       " 'natural-language-processing',\n",
       " 'production',\n",
       " 'language-modeling',\n",
       " 'natural-language-processing',\n",
       " 'interpretability',\n",
       " 'computer-vision',\n",
       " 'natural-language-processing',\n",
       " 'natural-language-processing',\n",
       " 'regression',\n",
       " ...]"
      ]
     },
     "execution_count": 48,
     "metadata": {},
     "output_type": "execute_result"
    }
   ],
   "source": [
    "list(itertools.chain.from_iterable(df.tags.values))"
   ]
  },
  {
   "cell_type": "markdown",
   "id": "6ab19809",
   "metadata": {},
   "source": [
    "## Wordcloud"
   ]
  },
  {
   "cell_type": "markdown",
   "id": "50e9829d",
   "metadata": {},
   "source": [
    "**Q3.** Is there enough signal in the title and description that's unique to each tag? This is important because we want to verify our initial hypothesis that the project's title and description are highly influential features."
   ]
  },
  {
   "cell_type": "code",
   "execution_count": 49,
   "id": "813874c8",
   "metadata": {},
   "outputs": [
    {
     "data": {
      "application/vnd.jupyter.widget-view+json": {
       "model_id": "a51b856d8e754359ba776f16484962c6",
       "version_major": 2,
       "version_minor": 0
      },
      "text/plain": [
       "interactive(children=(Dropdown(description='tag', index=2, options=('natural-language-processing', 'computer-v…"
      ]
     },
     "metadata": {},
     "output_type": "display_data"
    },
    {
     "data": {
      "image/png": "[encoded data removed]",
      "text/plain": [
       "<Figure size 1080x360 with 1 Axes>"
      ]
     },
     "metadata": {
      "needs_background": "light"
     },
     "output_type": "display_data"
    }
   ],
   "source": [
    "@widgets.interact(tag=list(tags))\n",
    "def display_word_cloud(tag=\"pytorch\"):\n",
    "    # Plot word clouds top top tags\n",
    "    plt.figure(figsize=(15, 5))\n",
    "    subset = df[df.tags.apply(lambda tags: tag in tags)]\n",
    "    text = subset.text.values\n",
    "    cloud = WordCloud(\n",
    "        stopwords=STOPWORDS, background_color=\"black\", collocations=False,\n",
    "        width=500, height=300).generate(\" \".join(text))\n",
    "    plt.axis(\"off\")\n",
    "    plt.imshow(cloud)"
   ]
  },
  {
   "cell_type": "markdown",
   "id": "9fd4ecd4",
   "metadata": {},
   "source": [
    "## Splitting a Dataset for Multilabel Classification"
   ]
  },
  {
   "cell_type": "markdown",
   "id": "49d0033f",
   "metadata": {},
   "source": [
    "### Intuition\n",
    "\n",
    "To determine the efficacy of our models, we need to have an unbiased measuring approach. To do this, we split our dataset into `training`, `validation`, and `testing` data splits.\n",
    "\n",
    "1. Use the training split to train the model.\n",
    "> Here, the model will have access to both inputs and outputs to optimize its internal weights.\n",
    "\n",
    "2. After each loop (epoch) of the training split, we'll use the validation split to determine model performance.\n",
    "> Here the model will not use the outputs to optimize its weights but instead, we'll use the performance to optimize training hyperparameters such as the learning rate, etc.\n",
    "\n",
    "3. After training stops (epoch(s)), we'll use the testing split to perform a one-time assessment of the model.\n",
    "> This is our best measure of how the model may behave on new unseen data. Note that *training stops* when the performance improvement is not significant or any other stopping criteria that we may have specified.\n",
    "\n",
    "**Criteria of proper dataa split:**\n",
    "- the dataset(and each data split) should be representative of data we will encounter\n",
    "- equal distributions of output values across all splits\n",
    "- shuffle your data if it's organized in a way that prevents input variance\n",
    "- avoid random shuffles if your task can suffer from data leaks(time-series)"
   ]
  },
  {
   "cell_type": "markdown",
   "id": "2eba9438",
   "metadata": {},
   "source": [
    "## Label Encoding"
   ]
  },
  {
   "cell_type": "code",
   "execution_count": 50,
   "id": "076ff46b",
   "metadata": {},
   "outputs": [],
   "source": [
    "import numpy as np\n",
    "import random\n",
    "\n",
    "seed = 42\n",
    "np.random.seed(seed)\n",
    "random.seed(seed)"
   ]
  },
  {
   "cell_type": "code",
   "execution_count": 51,
   "id": "15cc465e",
   "metadata": {},
   "outputs": [],
   "source": [
    "df = df.sample(frac=1).reset_index(drop=True)\n",
    "\n",
    "X = df.text.to_numpy()\n",
    "y = df.tags"
   ]
  },
  {
   "cell_type": "code",
   "execution_count": 52,
   "id": "6bf96b12",
   "metadata": {},
   "outputs": [],
   "source": [
    "class LabelEncoder(object):\n",
    "    \"\"\"Label encoder for tag labels.\"\"\"\n",
    "    def __init__(self, class_to_index={}):\n",
    "        self.class_to_index = class_to_index\n",
    "        self.index_to_class = {v: k for k, v in self.class_to_index.items()}\n",
    "        self.classes = list(self.class_to_index.keys())\n",
    "\n",
    "    def __len__(self):\n",
    "        return len(self.class_to_index)\n",
    "\n",
    "    def __str__(self):\n",
    "        return f\"<LabelEncoder(num_classes={len(self)})>\"\n",
    "\n",
    "    def fit(self, y):\n",
    "        classes = np.unique(list(itertools.chain.from_iterable(y)))\n",
    "        for i, class_ in enumerate(classes):\n",
    "            self.class_to_index[class_] = i\n",
    "        self.index_to_class = {v: k for k, v in self.class_to_index.items()}\n",
    "        self.classes = list(self.class_to_index.keys())\n",
    "        return self\n",
    "\n",
    "    def encode(self, y):\n",
    "        y_one_hot = np.zeros((len(y), len(self.class_to_index)), dtype=int)\n",
    "        for i, item in enumerate(y):\n",
    "            for class_ in item:\n",
    "                y_one_hot[i][self.class_to_index[class_]] = 1\n",
    "        return y_one_hot\n",
    "\n",
    "    def decode(self, y):\n",
    "        classes = []\n",
    "        for i, item in enumerate(y):\n",
    "            indices = np.where(item == 1)[0]\n",
    "            classes.append([self.index_to_class[index] for index in indices])\n",
    "        return classes\n",
    "\n",
    "    def save(self, fp):\n",
    "        with open(fp, \"w\") as fp:\n",
    "            contents = {\"class_to_index\": self.class_to_index}\n",
    "            json.dump(contents, fp, indent=4, sort_keys=False)\n",
    "\n",
    "    @classmethod\n",
    "    def load(cls, fp):\n",
    "        with open(fp, \"r\") as fp:\n",
    "            kwargs = json.load(fp=fp)\n",
    "        return cls(**kwargs)"
   ]
  },
  {
   "cell_type": "code",
   "execution_count": 53,
   "id": "ce848590",
   "metadata": {},
   "outputs": [],
   "source": [
    "# Encode\n",
    "label_encoder = LabelEncoder()\n",
    "label_encoder.fit(y)\n",
    "num_classes = len(label_encoder)"
   ]
  },
  {
   "cell_type": "code",
   "execution_count": 54,
   "id": "70f93871",
   "metadata": {},
   "outputs": [
    {
     "data": {
      "text/plain": [
       "{'attention': 0,\n",
       " 'autoencoders': 1,\n",
       " 'computer-vision': 2,\n",
       " 'convolutional-neural-networks': 3,\n",
       " 'data-augmentation': 4,\n",
       " 'embeddings': 5,\n",
       " 'flask': 6,\n",
       " 'generative-adversarial-networks': 7,\n",
       " 'graph-neural-networks': 8,\n",
       " 'graphs': 9,\n",
       " 'huggingface': 10,\n",
       " 'image-classification': 11,\n",
       " 'interpretability': 12,\n",
       " 'keras': 13,\n",
       " 'language-modeling': 14,\n",
       " 'natural-language-processing': 15,\n",
       " 'node-classification': 16,\n",
       " 'object-detection': 17,\n",
       " 'pretraining': 18,\n",
       " 'production': 19,\n",
       " 'pytorch': 20,\n",
       " 'question-answering': 21,\n",
       " 'regression': 22,\n",
       " 'reinforcement-learning': 23,\n",
       " 'representation-learning': 24,\n",
       " 'scikit-learn': 25,\n",
       " 'segmentation': 26,\n",
       " 'self-supervised-learning': 27,\n",
       " 'tensorflow': 28,\n",
       " 'tensorflow-js': 29,\n",
       " 'time-series': 30,\n",
       " 'transfer-learning': 31,\n",
       " 'transformers': 32,\n",
       " 'unsupervised-learning': 33,\n",
       " 'wandb': 34}"
      ]
     },
     "execution_count": 54,
     "metadata": {},
     "output_type": "execute_result"
    }
   ],
   "source": [
    "label_encoder.class_to_index"
   ]
  },
  {
   "cell_type": "code",
   "execution_count": 55,
   "id": "5604f351",
   "metadata": {},
   "outputs": [
    {
     "data": {
      "text/plain": [
       "array([[1, 0, 0, 0, 1, 0, 0, 0, 0, 0, 0, 0, 0, 0, 0, 0, 0, 0, 0, 0, 0, 0,\n",
       "        0, 0, 0, 0, 0, 0, 0, 0, 0, 0, 0, 0, 0]])"
      ]
     },
     "execution_count": 55,
     "metadata": {},
     "output_type": "execute_result"
    }
   ],
   "source": [
    "# Sample\n",
    "label_encoder.encode([[\"attention\", \"data-augmentation\"]])"
   ]
  },
  {
   "cell_type": "code",
   "execution_count": 56,
   "id": "ee3ad0df",
   "metadata": {},
   "outputs": [],
   "source": [
    "# Encode all our labels\n",
    "y = label_encoder.encode(y)"
   ]
  },
  {
   "cell_type": "markdown",
   "id": "7dab5212",
   "metadata": {},
   "source": [
    "## Naive split"
   ]
  },
  {
   "cell_type": "markdown",
   "id": "6913c56d",
   "metadata": {},
   "source": [
    "or traditional multi-class tasks (each input has one label), we want to ensure that each data split has similar class distributions. However, our task is multi-label classification (an input can have many labels) which complicates the stratification process.\n",
    "\n",
    "First, we'll naively split our dataset randomly and show the large deviations between the (adjusted) class distributions across the splits. We'll use scikit-learn's train_test_split function to do the splits."
   ]
  },
  {
   "cell_type": "code",
   "execution_count": 57,
   "id": "a5023cab",
   "metadata": {},
   "outputs": [
    {
     "name": "stdout",
     "output_type": "stream",
     "text": [
      "Requirement already satisfied: scikit-multilearn in /home/anantvaid/anaconda3/envs/nlp/lib/python3.9/site-packages (0.2.0)\r\n"
     ]
    }
   ],
   "source": [
    "!pip install scikit-multilearn"
   ]
  },
  {
   "cell_type": "code",
   "execution_count": 58,
   "id": "00ad6e58",
   "metadata": {},
   "outputs": [],
   "source": [
    "from sklearn.model_selection import train_test_split\n",
    "from skmultilearn.model_selection.measures import get_combination_wise_output_matrix"
   ]
  },
  {
   "cell_type": "code",
   "execution_count": 59,
   "id": "def28fbb",
   "metadata": {},
   "outputs": [
    {
     "data": {
      "text/html": [
       "<div>\n",
       "<style scoped>\n",
       "    .dataframe tbody tr th:only-of-type {\n",
       "        vertical-align: middle;\n",
       "    }\n",
       "\n",
       "    .dataframe tbody tr th {\n",
       "        vertical-align: top;\n",
       "    }\n",
       "\n",
       "    .dataframe thead th {\n",
       "        text-align: right;\n",
       "    }\n",
       "</style>\n",
       "<table border=\"1\" class=\"dataframe\">\n",
       "  <thead>\n",
       "    <tr style=\"text-align: right;\">\n",
       "      <th></th>\n",
       "      <th>id</th>\n",
       "      <th>created_on</th>\n",
       "      <th>title</th>\n",
       "      <th>description</th>\n",
       "      <th>tags</th>\n",
       "      <th>text</th>\n",
       "    </tr>\n",
       "  </thead>\n",
       "  <tbody>\n",
       "    <tr>\n",
       "      <th>0</th>\n",
       "      <td>623</td>\n",
       "      <td>2020-04-24 00:30:02</td>\n",
       "      <td>medaCy</td>\n",
       "      <td>🏥 Medical Text Mining and Information Extracti...</td>\n",
       "      <td>[natural-language-processing]</td>\n",
       "      <td>medaCy 🏥 Medical Text Mining and Information E...</td>\n",
       "    </tr>\n",
       "    <tr>\n",
       "      <th>1</th>\n",
       "      <td>474</td>\n",
       "      <td>2020-04-13 22:48:49</td>\n",
       "      <td>PyTorch Tutorial for Deep Learning Researchers</td>\n",
       "      <td>This repository provides tutorial code for dee...</td>\n",
       "      <td>[pytorch, autoencoders, generative-adversarial...</td>\n",
       "      <td>PyTorch Tutorial for Deep Learning Researchers...</td>\n",
       "    </tr>\n",
       "    <tr>\n",
       "      <th>2</th>\n",
       "      <td>1775</td>\n",
       "      <td>2020-07-11 05:28:14</td>\n",
       "      <td>DeltaPy⁠⁠</td>\n",
       "      <td>Tabular Data Augmentation &amp; Feature Engineering.</td>\n",
       "      <td>[data-augmentation]</td>\n",
       "      <td>DeltaPy⁠⁠  Tabular Data Augmentation &amp; Feature...</td>\n",
       "    </tr>\n",
       "    <tr>\n",
       "      <th>3</th>\n",
       "      <td>97</td>\n",
       "      <td>2020-03-20 19:10:58</td>\n",
       "      <td>Graph Convolution on Structured Documents</td>\n",
       "      <td>Convert structured documents to graphs for doc...</td>\n",
       "      <td>[computer-vision, graph-neural-networks, graphs]</td>\n",
       "      <td>Graph Convolution on Structured Documents Conv...</td>\n",
       "    </tr>\n",
       "    <tr>\n",
       "      <th>4</th>\n",
       "      <td>1760</td>\n",
       "      <td>2020-07-11 04:42:17</td>\n",
       "      <td>Dataturks</td>\n",
       "      <td>ML data annotations made super easy for teams,...</td>\n",
       "      <td>[computer-vision, natural-language-processing,...</td>\n",
       "      <td>Dataturks ML data annotations made super easy ...</td>\n",
       "    </tr>\n",
       "    <tr>\n",
       "      <th>...</th>\n",
       "      <td>...</td>\n",
       "      <td>...</td>\n",
       "      <td>...</td>\n",
       "      <td>...</td>\n",
       "      <td>...</td>\n",
       "      <td>...</td>\n",
       "    </tr>\n",
       "    <tr>\n",
       "      <th>1439</th>\n",
       "      <td>1870</td>\n",
       "      <td>2020-07-15 20:38:36</td>\n",
       "      <td>Interpretability and Analysis of Models for NLP</td>\n",
       "      <td>An in-depth look at interpretability and analy...</td>\n",
       "      <td>[interpretability, natural-language-processing]</td>\n",
       "      <td>Interpretability and Analysis of Models for NL...</td>\n",
       "    </tr>\n",
       "    <tr>\n",
       "      <th>1440</th>\n",
       "      <td>1919</td>\n",
       "      <td>2020-07-20 05:53:12</td>\n",
       "      <td>Dframcy</td>\n",
       "      <td>DframCy is a light-weight utility module to in...</td>\n",
       "      <td>[natural-language-processing]</td>\n",
       "      <td>Dframcy DframCy is a light-weight utility modu...</td>\n",
       "    </tr>\n",
       "    <tr>\n",
       "      <th>1441</th>\n",
       "      <td>2213</td>\n",
       "      <td>2020-08-24 07:37:34</td>\n",
       "      <td>Towards representation learning for an image r...</td>\n",
       "      <td>This project explains self-supervised and regu...</td>\n",
       "      <td>[tensorflow, autoencoders, representation-lear...</td>\n",
       "      <td>Towards representation learning for an image r...</td>\n",
       "    </tr>\n",
       "    <tr>\n",
       "      <th>1442</th>\n",
       "      <td>1499</td>\n",
       "      <td>2020-06-18 13:41:39</td>\n",
       "      <td>History of Language Models - Alec Radford</td>\n",
       "      <td>A quick history of language models</td>\n",
       "      <td>[transformers, language-modeling, natural-lang...</td>\n",
       "      <td>History of Language Models - Alec Radford A qu...</td>\n",
       "    </tr>\n",
       "    <tr>\n",
       "      <th>1443</th>\n",
       "      <td>1915</td>\n",
       "      <td>2020-07-19 23:59:07</td>\n",
       "      <td>Elegy</td>\n",
       "      <td>A Keras-like Deep Learning framework based on ...</td>\n",
       "      <td>[keras]</td>\n",
       "      <td>Elegy A Keras-like Deep Learning framework bas...</td>\n",
       "    </tr>\n",
       "  </tbody>\n",
       "</table>\n",
       "<p>1444 rows × 6 columns</p>\n",
       "</div>"
      ],
      "text/plain": [
       "        id           created_on  \\\n",
       "0      623  2020-04-24 00:30:02   \n",
       "1      474  2020-04-13 22:48:49   \n",
       "2     1775  2020-07-11 05:28:14   \n",
       "3       97  2020-03-20 19:10:58   \n",
       "4     1760  2020-07-11 04:42:17   \n",
       "...    ...                  ...   \n",
       "1439  1870  2020-07-15 20:38:36   \n",
       "1440  1919  2020-07-20 05:53:12   \n",
       "1441  2213  2020-08-24 07:37:34   \n",
       "1442  1499  2020-06-18 13:41:39   \n",
       "1443  1915  2020-07-19 23:59:07   \n",
       "\n",
       "                                                  title  \\\n",
       "0                                                medaCy   \n",
       "1        PyTorch Tutorial for Deep Learning Researchers   \n",
       "2                                            DeltaPy⁠⁠    \n",
       "3             Graph Convolution on Structured Documents   \n",
       "4                                             Dataturks   \n",
       "...                                                 ...   \n",
       "1439    Interpretability and Analysis of Models for NLP   \n",
       "1440                                            Dframcy   \n",
       "1441  Towards representation learning for an image r...   \n",
       "1442          History of Language Models - Alec Radford   \n",
       "1443                                              Elegy   \n",
       "\n",
       "                                            description  \\\n",
       "0     🏥 Medical Text Mining and Information Extracti...   \n",
       "1     This repository provides tutorial code for dee...   \n",
       "2      Tabular Data Augmentation & Feature Engineering.   \n",
       "3     Convert structured documents to graphs for doc...   \n",
       "4     ML data annotations made super easy for teams,...   \n",
       "...                                                 ...   \n",
       "1439  An in-depth look at interpretability and analy...   \n",
       "1440  DframCy is a light-weight utility module to in...   \n",
       "1441  This project explains self-supervised and regu...   \n",
       "1442                 A quick history of language models   \n",
       "1443  A Keras-like Deep Learning framework based on ...   \n",
       "\n",
       "                                                   tags  \\\n",
       "0                         [natural-language-processing]   \n",
       "1     [pytorch, autoencoders, generative-adversarial...   \n",
       "2                                   [data-augmentation]   \n",
       "3      [computer-vision, graph-neural-networks, graphs]   \n",
       "4     [computer-vision, natural-language-processing,...   \n",
       "...                                                 ...   \n",
       "1439    [interpretability, natural-language-processing]   \n",
       "1440                      [natural-language-processing]   \n",
       "1441  [tensorflow, autoencoders, representation-lear...   \n",
       "1442  [transformers, language-modeling, natural-lang...   \n",
       "1443                                            [keras]   \n",
       "\n",
       "                                                   text  \n",
       "0     medaCy 🏥 Medical Text Mining and Information E...  \n",
       "1     PyTorch Tutorial for Deep Learning Researchers...  \n",
       "2     DeltaPy⁠⁠  Tabular Data Augmentation & Feature...  \n",
       "3     Graph Convolution on Structured Documents Conv...  \n",
       "4     Dataturks ML data annotations made super easy ...  \n",
       "...                                                 ...  \n",
       "1439  Interpretability and Analysis of Models for NL...  \n",
       "1440  Dframcy DframCy is a light-weight utility modu...  \n",
       "1441  Towards representation learning for an image r...  \n",
       "1442  History of Language Models - Alec Radford A qu...  \n",
       "1443  Elegy A Keras-like Deep Learning framework bas...  \n",
       "\n",
       "[1444 rows x 6 columns]"
      ]
     },
     "execution_count": 59,
     "metadata": {},
     "output_type": "execute_result"
    }
   ],
   "source": [
    "df"
   ]
  },
  {
   "cell_type": "code",
   "execution_count": 60,
   "id": "e4f98722",
   "metadata": {},
   "outputs": [],
   "source": [
    "train_size = 0.7\n",
    "val_size = 0.15\n",
    "test_size = 0.15\n",
    "\n",
    "X_train, X_, y_train, y_ = train_test_split(X, y, train_size = train_size)"
   ]
  },
  {
   "cell_type": "code",
   "execution_count": 61,
   "id": "c5e5ee68",
   "metadata": {},
   "outputs": [
    {
     "name": "stdout",
     "output_type": "stream",
     "text": [
      "train: 1010 (0.70)\n",
      "remaining: 434 (0.30)\n"
     ]
    }
   ],
   "source": [
    "print (f\"train: {len(X_train)} ({(len(X_train) / len(X)):.2f})\\n\"\n",
    "       f\"remaining: {len(X_)} ({(len(X_) / len(X)):.2f})\")"
   ]
  },
  {
   "cell_type": "code",
   "execution_count": 62,
   "id": "0be17cb5",
   "metadata": {},
   "outputs": [],
   "source": [
    "# Split (test)\n",
    "X_val, X_test, y_val, y_test = train_test_split(\n",
    "    X_, y_, train_size=0.5)"
   ]
  },
  {
   "cell_type": "code",
   "execution_count": 63,
   "id": "a0452d0d",
   "metadata": {},
   "outputs": [
    {
     "name": "stdout",
     "output_type": "stream",
     "text": [
      "train: 1010 (0.70)\n",
      "val: 217 (0.15)\n",
      "test: 217 (0.15)\n"
     ]
    }
   ],
   "source": [
    "print(f\"train: {len(X_train)} ({len(X_train)/len(X):.2f})\\n\"\n",
    "      f\"val: {len(X_val)} ({len(X_val)/len(X):.2f})\\n\"\n",
    "      f\"test: {len(X_test)} ({len(X_test)/len(X):.2f})\")"
   ]
  },
  {
   "cell_type": "code",
   "execution_count": 64,
   "id": "87d676bc",
   "metadata": {},
   "outputs": [],
   "source": [
    "# Get counts for each class\n",
    "counts = {}\n",
    "counts[\"train_counts\"] = Counter(str(combination) for row in get_combination_wise_output_matrix(\n",
    "    y_train, order=1) for combination in row)\n",
    "counts[\"val_counts\"] = Counter(str(combination) for row in get_combination_wise_output_matrix(\n",
    "    y_val, order=1) for combination in row)\n",
    "counts[\"test_counts\"] = Counter(str(combination) for row in get_combination_wise_output_matrix(\n",
    "    y_test, order=1) for combination in row)"
   ]
  },
  {
   "cell_type": "code",
   "execution_count": 65,
   "id": "2211c911",
   "metadata": {},
   "outputs": [],
   "source": [
    "# View distributions\n",
    "dist_df = pd.DataFrame({\n",
    "    \"train\": counts[\"train_counts\"],\n",
    "    \"val\": counts[\"val_counts\"],\n",
    "    \"test\": counts[\"test_counts\"]\n",
    "}).T.fillna(0)"
   ]
  },
  {
   "cell_type": "code",
   "execution_count": 66,
   "id": "2935daff",
   "metadata": {},
   "outputs": [
    {
     "data": {
      "text/plain": [
       "23.49355226270514"
      ]
     },
     "execution_count": 66,
     "metadata": {},
     "output_type": "execute_result"
    }
   ],
   "source": [
    "# Standard deviation\n",
    "np.mean(np.std(dist_df.to_numpy(), axis=0))"
   ]
  },
  {
   "cell_type": "markdown",
   "id": "41a7402a",
   "metadata": {},
   "source": [
    "It's hard to compare these because our train and test proportions are different. Let's see what the distribution looks like once we balance it out. What do we need to multiply our test ratio by so that we have the same amount as our train ratio?"
   ]
  },
  {
   "cell_type": "code",
   "execution_count": 67,
   "id": "ed503f19",
   "metadata": {},
   "outputs": [],
   "source": [
    "# Adjust counts across splits\n",
    "for k in counts[\"val_counts\"].keys():\n",
    "    counts[\"val_counts\"][k] = int(counts[\"val_counts\"][k] * \\\n",
    "        (train_size/val_size))\n",
    "for k in counts[\"test_counts\"].keys():\n",
    "    counts[\"test_counts\"][k] = int(counts[\"test_counts\"][k] * \\\n",
    "        (train_size/test_size))"
   ]
  },
  {
   "cell_type": "markdown",
   "id": "740af8c4",
   "metadata": {},
   "source": [
    "## Stratified Sampling"
   ]
  },
  {
   "cell_type": "markdown",
   "id": "23f35610",
   "metadata": {},
   "source": [
    "Now we'll apply iterative stratification via the skmultilearn library, which essentially splits each input into subsets (where each label is considered individually) and then it distributes the samples starting with fewest \"positive\" samples and working up to the inputs that have the most labels."
   ]
  },
  {
   "cell_type": "code",
   "execution_count": 68,
   "id": "f148b1da",
   "metadata": {},
   "outputs": [],
   "source": [
    "from skmultilearn.model_selection import IterativeStratification"
   ]
  },
  {
   "cell_type": "code",
   "execution_count": 69,
   "id": "82edc8d0",
   "metadata": {},
   "outputs": [],
   "source": [
    "def iterative_train_test_split(X, y, train_size):\n",
    "    \"\"\"Custom iterative train test split which\n",
    "    'maintains balanced representation with respect\n",
    "    to or1\n",
    "    der-th label combinations.'\n",
    "    \"\"\"\n",
    "    stratifier = IterativeStratification(\n",
    "        n_splits=2, order=1, sample_distribution_per_fold=[1.0-train_size, train_size, ])\n",
    "    train_indices, test_indices = next(stratifier.split(X, y))\n",
    "    X_train, y_train = X[train_indices], y[train_indices]\n",
    "    X_test, y_test = X[test_indices], y[test_indices]\n",
    "    return X_train, X_test, y_train, y_test"
   ]
  },
  {
   "cell_type": "code",
   "execution_count": 70,
   "id": "7ead95dd",
   "metadata": {},
   "outputs": [],
   "source": [
    "# Get data\n",
    "X = df.text.to_numpy()\n",
    "y = df.tags"
   ]
  },
  {
   "cell_type": "code",
   "execution_count": 71,
   "id": "d4174a97",
   "metadata": {},
   "outputs": [],
   "source": [
    "# Binarize y\n",
    "label_encoder = LabelEncoder()\n",
    "label_encoder.fit(y)\n",
    "y = label_encoder.encode(y)"
   ]
  },
  {
   "cell_type": "code",
   "execution_count": 72,
   "id": "3e711d9f",
   "metadata": {},
   "outputs": [],
   "source": [
    "# Split\n",
    "X_train, X_, y_train, y_ = iterative_train_test_split(\n",
    "    X, y, train_size=train_size)\n",
    "X_val, X_test, y_val, y_test = iterative_train_test_split(\n",
    "    X_, y_, train_size=0.5)"
   ]
  },
  {
   "cell_type": "code",
   "execution_count": 73,
   "id": "64cf72e5",
   "metadata": {},
   "outputs": [
    {
     "name": "stdout",
     "output_type": "stream",
     "text": [
      "train: 1023 (0.71)\n",
      "val: 218 (0.15)\n",
      "test: 203 (0.14)\n"
     ]
    }
   ],
   "source": [
    "print(f\"train: {len(X_train)} ({len(X_train)/len(X):.2f})\\n\"\n",
    "      f\"val: {len(X_val)} ({len(X_val)/len(X):.2f})\\n\"\n",
    "      f\"test: {len(X_test)} ({len(X_test)/len(X):.2f})\")"
   ]
  },
  {
   "cell_type": "code",
   "execution_count": 74,
   "id": "b823d895",
   "metadata": {},
   "outputs": [],
   "source": [
    "# Get counts for each class\n",
    "counts = {}\n",
    "counts[\"train_counts\"] = Counter(str(combination) for row in get_combination_wise_output_matrix(\n",
    "    y_train, order=1) for combination in row)\n",
    "counts[\"val_counts\"] = Counter(str(combination) for row in get_combination_wise_output_matrix(\n",
    "    y_val, order=1) for combination in row)\n",
    "counts[\"test_counts\"] = Counter(str(combination) for row in get_combination_wise_output_matrix(\n",
    "    y_test, order=1) for combination in row)"
   ]
  },
  {
   "cell_type": "code",
   "execution_count": 75,
   "id": "537b8739",
   "metadata": {},
   "outputs": [],
   "source": [
    "# Adjust counts across splits\n",
    "for k in counts[\"val_counts\"].keys():\n",
    "    counts[\"val_counts\"][k] = int(counts[\"val_counts\"][k] * \\\n",
    "        (train_size/val_size))\n",
    "for k in counts[\"test_counts\"].keys():\n",
    "    counts[\"test_counts\"][k] = int(counts[\"test_counts\"][k] * \\\n",
    "        (train_size/test_size))"
   ]
  },
  {
   "cell_type": "code",
   "execution_count": 76,
   "id": "d0da4908",
   "metadata": {},
   "outputs": [],
   "source": [
    "# View distributions\n",
    "dist_df = pd.DataFrame({\n",
    "    \"train\": counts[\"train_counts\"],\n",
    "    \"val\": counts[\"val_counts\"],\n",
    "    \"test\": counts[\"test_counts\"]\n",
    "}).T.fillna(0)"
   ]
  },
  {
   "cell_type": "code",
   "execution_count": 77,
   "id": "e68c23c7",
   "metadata": {},
   "outputs": [
    {
     "data": {
      "text/plain": [
       "4.878424991639657"
      ]
     },
     "execution_count": 77,
     "metadata": {},
     "output_type": "execute_result"
    }
   ],
   "source": [
    "# Standard deviation\n",
    "np.mean(np.std(dist_df.to_numpy(), axis=0))"
   ]
  },
  {
   "cell_type": "markdown",
   "id": "4e2b53c5",
   "metadata": {},
   "source": [
    "The standard deviation is much better but not 0 (perfect splits) because keep in mind that an input can have any combination of of classes yet each input can only belong in one of the data splits.\n",
    "\n",
    "Iterative stratification essentially creates splits while \"trying to maintain balanced representation with respect to order-th label combinations\". We used to an order=1 for our iterative split which means we cared about providing representative distribution of each tag across the splits. But we can account for higher-order label relationships as well where we may care about the distribution of label combinations."
   ]
  },
  {
   "cell_type": "markdown",
   "id": "577620b1",
   "metadata": {},
   "source": [
    "## Data Augmentation"
   ]
  },
  {
   "cell_type": "markdown",
   "id": "283739e0",
   "metadata": {},
   "source": [
    "### Intuition\n",
    "\n",
    "We'll often want to increase the size and diversity of our training data split through data augmentation. It involves using the existing samples to generate synthetic, yet realistic, examples.\n",
    "\n",
    "1. **Split the dataset** - We want to split our dataset first because many augmentation techniques will cause a form of data leak if we allow the generated samples to be placed across different data splits.\n",
    "> For example, some augmentation involves generating synonyms for certain key tokens in a sentence. If we allow the generated sentences from the same origin sentence to go into different splits, we could be potentially leaking samples with nearly identical embedding representations across our different splits.\n",
    "\n",
    "2. **Augment the training split** - We want to apply data augmentation on only the training set because our validation and testing splits should be used to provide an accurate estimate on actual data points.\n",
    "\n",
    "3. **Inspect and validate** - It's useless to augment just for the sake of increasing our training samples if the augmented data samples are not probable inputs that our model could encounter in production.\n",
    "\n",
    "The exact method of data augmentation depends largely on the type of data and the application. Here are a few ways different modalities of data can be augmented:\n",
    "\n",
    "- **General**: normalization, smoothing, random noise, etc. can be used for audio, tabular and other forms of data.\n",
    "- **Natural language processing (NLP)**: substitutions (synonyms, tfidf, embeddings, masked models), random noise, spelling errors, etc.\n",
    "- **Computer Vision (CV)**: crop, flip, rotate, pad, saturate, increase brightness, etc."
   ]
  },
  {
   "cell_type": "markdown",
   "id": "f1b3ee01",
   "metadata": {},
   "source": [
    "## Libraries\n",
    "Depending on the feature types and tasks, there are many data augmentation libraries which allow us to extend our training data.\n",
    "\n",
    "### Natural language processing (NLP)\n",
    "- NLPAug: data augmentation for NLP.\n",
    "- TextAttack: a framework for adversial attacks, data augmentation, and model training in NLP.\n",
    "- TextAugment: text augmentation library.\n",
    "\n",
    "### Computer vision (CV)\n",
    "- Imgaug: image augmentation for machine learning experiments.\n",
    "- Albumentation: fast image augmentation library.\n",
    "- Augmentor: image augmentation library in Python for machine learning.\n",
    "- Kornia.augmentation: a module to perform data augmentation in the GPU.\n",
    "- SOLT: data augmentation library for Deep Learning, which supports images, segmentation masks, labels and key points.\n",
    "\n",
    "### Other\n",
    "- Snorkel: system for generating training data with weak supervision.\n",
    "- DeltaPy: tabular data augmentation and feature engineering.\n",
    "- Audiomentations: a Python library for audio data augmentation.\n",
    "- Tsaug: a Python package for time series augmentation."
   ]
  },
  {
   "cell_type": "markdown",
   "id": "7aee39e1",
   "metadata": {},
   "source": [
    "## Application\n",
    "Let's use the nlpaug library to augment our dataset and assess the quality of the generated samples."
   ]
  },
  {
   "cell_type": "code",
   "execution_count": 53,
   "id": "7265dd2d",
   "metadata": {},
   "outputs": [],
   "source": [
    "# !pip install cython\n",
    "# !pip install snorkel==0.9.6 -q"
   ]
  },
  {
   "cell_type": "code",
   "execution_count": 52,
   "id": "b16115e6",
   "metadata": {},
   "outputs": [
    {
     "ename": "AttributeError",
     "evalue": "'DistilBertTokenizerFast' object has no attribute '_convert_token_to_id'",
     "output_type": "error",
     "traceback": [
      "\u001b[0;31m---------------------------------------------------------------------------\u001b[0m",
      "\u001b[0;31mAttributeError\u001b[0m                            Traceback (most recent call last)",
      "\u001b[0;32m/tmp/ipykernel_115592/1067588808.py\u001b[0m in \u001b[0;36m<module>\u001b[0;34m\u001b[0m\n\u001b[1;32m      2\u001b[0m \u001b[0;34m\u001b[0m\u001b[0m\n\u001b[1;32m      3\u001b[0m \u001b[0;31m# Load tokenizers and transformers\u001b[0m\u001b[0;34m\u001b[0m\u001b[0;34m\u001b[0m\u001b[0m\n\u001b[0;32m----> 4\u001b[0;31m \u001b[0msubstitution\u001b[0m \u001b[0;34m=\u001b[0m \u001b[0mnaw\u001b[0m\u001b[0;34m.\u001b[0m\u001b[0mContextualWordEmbsAug\u001b[0m\u001b[0;34m(\u001b[0m\u001b[0mmodel_path\u001b[0m\u001b[0;34m=\u001b[0m\u001b[0;34m\"distilbert-base-uncased\"\u001b[0m\u001b[0;34m,\u001b[0m \u001b[0maction\u001b[0m\u001b[0;34m=\u001b[0m\u001b[0;34m\"substitute\"\u001b[0m\u001b[0;34m)\u001b[0m\u001b[0;34m\u001b[0m\u001b[0;34m\u001b[0m\u001b[0m\n\u001b[0m\u001b[1;32m      5\u001b[0m \u001b[0minsertion\u001b[0m \u001b[0;34m=\u001b[0m \u001b[0mnaw\u001b[0m\u001b[0;34m.\u001b[0m\u001b[0mContextualWordEmbsAug\u001b[0m\u001b[0;34m(\u001b[0m\u001b[0mmodel_path\u001b[0m\u001b[0;34m=\u001b[0m\u001b[0;34m\"distilbert-base-uncased\"\u001b[0m\u001b[0;34m,\u001b[0m \u001b[0maction\u001b[0m\u001b[0;34m=\u001b[0m\u001b[0;34m\"insert\"\u001b[0m\u001b[0;34m)\u001b[0m\u001b[0;34m\u001b[0m\u001b[0;34m\u001b[0m\u001b[0m\n\u001b[1;32m      6\u001b[0m \u001b[0mtext\u001b[0m \u001b[0;34m=\u001b[0m \u001b[0;34m\"Conditional image generation using Variational Autoencoders and GANs.\"\u001b[0m\u001b[0;34m\u001b[0m\u001b[0;34m\u001b[0m\u001b[0m\n",
      "\u001b[0;32m~/anaconda3/envs/nlp/lib/python3.9/site-packages/nlpaug/augmenter/word/context_word_embs.py\u001b[0m in \u001b[0;36m__init__\u001b[0;34m(self, model_path, action, temperature, top_k, top_p, name, aug_min, aug_max, aug_p, stopwords, device, force_reload, optimize, stopwords_regex, verbose, silence)\u001b[0m\n\u001b[1;32m     98\u001b[0m \u001b[0;34m\u001b[0m\u001b[0m\n\u001b[1;32m     99\u001b[0m         \u001b[0mself\u001b[0m\u001b[0;34m.\u001b[0m\u001b[0m_init\u001b[0m\u001b[0;34m(\u001b[0m\u001b[0;34m)\u001b[0m\u001b[0;34m\u001b[0m\u001b[0;34m\u001b[0m\u001b[0m\n\u001b[0;32m--> 100\u001b[0;31m         self.model = self.get_model(\n\u001b[0m\u001b[1;32m    101\u001b[0m             \u001b[0mmodel_path\u001b[0m\u001b[0;34m=\u001b[0m\u001b[0mmodel_path\u001b[0m\u001b[0;34m,\u001b[0m \u001b[0mdevice\u001b[0m\u001b[0;34m=\u001b[0m\u001b[0mdevice\u001b[0m\u001b[0;34m,\u001b[0m \u001b[0mforce_reload\u001b[0m\u001b[0;34m=\u001b[0m\u001b[0mforce_reload\u001b[0m\u001b[0;34m,\u001b[0m \u001b[0mtemperature\u001b[0m\u001b[0;34m=\u001b[0m\u001b[0mtemperature\u001b[0m\u001b[0;34m,\u001b[0m \u001b[0mtop_k\u001b[0m\u001b[0;34m=\u001b[0m\u001b[0mtop_k\u001b[0m\u001b[0;34m,\u001b[0m\u001b[0;34m\u001b[0m\u001b[0;34m\u001b[0m\u001b[0m\n\u001b[1;32m    102\u001b[0m             top_p=top_p, optimize=optimize, silence=silence)\n",
      "\u001b[0;32m~/anaconda3/envs/nlp/lib/python3.9/site-packages/nlpaug/augmenter/word/context_word_embs.py\u001b[0m in \u001b[0;36mget_model\u001b[0;34m(cls, model_path, device, force_reload, temperature, top_k, top_p, optimize, silence)\u001b[0m\n\u001b[1;32m    447\u001b[0m     def get_model(cls, model_path, device='cuda', force_reload=False, temperature=1.0, top_k=None, top_p=0.0,\n\u001b[1;32m    448\u001b[0m                   optimize=None, silence=True):\n\u001b[0;32m--> 449\u001b[0;31m         \u001b[0;32mreturn\u001b[0m \u001b[0minit_context_word_embs_model\u001b[0m\u001b[0;34m(\u001b[0m\u001b[0mmodel_path\u001b[0m\u001b[0;34m,\u001b[0m \u001b[0mdevice\u001b[0m\u001b[0;34m,\u001b[0m \u001b[0mforce_reload\u001b[0m\u001b[0;34m,\u001b[0m \u001b[0mtemperature\u001b[0m\u001b[0;34m,\u001b[0m \u001b[0mtop_k\u001b[0m\u001b[0;34m,\u001b[0m \u001b[0mtop_p\u001b[0m\u001b[0;34m,\u001b[0m \u001b[0moptimize\u001b[0m\u001b[0;34m,\u001b[0m \u001b[0msilence\u001b[0m\u001b[0;34m)\u001b[0m\u001b[0;34m\u001b[0m\u001b[0;34m\u001b[0m\u001b[0m\n\u001b[0m",
      "\u001b[0;32m~/anaconda3/envs/nlp/lib/python3.9/site-packages/nlpaug/augmenter/word/context_word_embs.py\u001b[0m in \u001b[0;36minit_context_word_embs_model\u001b[0;34m(model_path, device, force_reload, temperature, top_k, top_p, optimize, silence)\u001b[0m\n\u001b[1;32m     30\u001b[0m \u001b[0;34m\u001b[0m\u001b[0m\n\u001b[1;32m     31\u001b[0m     \u001b[0;32mif\u001b[0m \u001b[0;34m'distilbert'\u001b[0m \u001b[0;32min\u001b[0m \u001b[0mmodel_path\u001b[0m\u001b[0;34m.\u001b[0m\u001b[0mlower\u001b[0m\u001b[0;34m(\u001b[0m\u001b[0;34m)\u001b[0m\u001b[0;34m:\u001b[0m\u001b[0;34m\u001b[0m\u001b[0;34m\u001b[0m\u001b[0m\n\u001b[0;32m---> 32\u001b[0;31m         \u001b[0mmodel\u001b[0m \u001b[0;34m=\u001b[0m \u001b[0mnml\u001b[0m\u001b[0;34m.\u001b[0m\u001b[0mDistilBert\u001b[0m\u001b[0;34m(\u001b[0m\u001b[0mmodel_path\u001b[0m\u001b[0;34m,\u001b[0m \u001b[0mdevice\u001b[0m\u001b[0;34m=\u001b[0m\u001b[0mdevice\u001b[0m\u001b[0;34m,\u001b[0m \u001b[0mtemperature\u001b[0m\u001b[0;34m=\u001b[0m\u001b[0mtemperature\u001b[0m\u001b[0;34m,\u001b[0m \u001b[0mtop_k\u001b[0m\u001b[0;34m=\u001b[0m\u001b[0mtop_k\u001b[0m\u001b[0;34m,\u001b[0m \u001b[0mtop_p\u001b[0m\u001b[0;34m=\u001b[0m\u001b[0mtop_p\u001b[0m\u001b[0;34m,\u001b[0m \u001b[0msilence\u001b[0m\u001b[0;34m=\u001b[0m\u001b[0msilence\u001b[0m\u001b[0;34m)\u001b[0m\u001b[0;34m\u001b[0m\u001b[0;34m\u001b[0m\u001b[0m\n\u001b[0m\u001b[1;32m     33\u001b[0m     \u001b[0;32melif\u001b[0m \u001b[0;34m'roberta'\u001b[0m \u001b[0;32min\u001b[0m \u001b[0mmodel_path\u001b[0m\u001b[0;34m.\u001b[0m\u001b[0mlower\u001b[0m\u001b[0;34m(\u001b[0m\u001b[0;34m)\u001b[0m\u001b[0;34m:\u001b[0m\u001b[0;34m\u001b[0m\u001b[0;34m\u001b[0m\u001b[0m\n\u001b[1;32m     34\u001b[0m         \u001b[0mmodel\u001b[0m \u001b[0;34m=\u001b[0m \u001b[0mnml\u001b[0m\u001b[0;34m.\u001b[0m\u001b[0mRoberta\u001b[0m\u001b[0;34m(\u001b[0m\u001b[0mmodel_path\u001b[0m\u001b[0;34m,\u001b[0m \u001b[0mdevice\u001b[0m\u001b[0;34m=\u001b[0m\u001b[0mdevice\u001b[0m\u001b[0;34m,\u001b[0m \u001b[0mtemperature\u001b[0m\u001b[0;34m=\u001b[0m\u001b[0mtemperature\u001b[0m\u001b[0;34m,\u001b[0m \u001b[0mtop_k\u001b[0m\u001b[0;34m=\u001b[0m\u001b[0mtop_k\u001b[0m\u001b[0;34m,\u001b[0m \u001b[0mtop_p\u001b[0m\u001b[0;34m=\u001b[0m\u001b[0mtop_p\u001b[0m\u001b[0;34m,\u001b[0m \u001b[0msilence\u001b[0m\u001b[0;34m=\u001b[0m\u001b[0msilence\u001b[0m\u001b[0;34m)\u001b[0m\u001b[0;34m\u001b[0m\u001b[0;34m\u001b[0m\u001b[0m\n",
      "\u001b[0;32m~/anaconda3/envs/nlp/lib/python3.9/site-packages/nlpaug/model/lang_models/distilbert.py\u001b[0m in \u001b[0;36m__init__\u001b[0;34m(self, model_path, temperature, top_k, top_p, device, silence)\u001b[0m\n\u001b[1;32m     31\u001b[0m \u001b[0;34m\u001b[0m\u001b[0m\n\u001b[1;32m     32\u001b[0m         \u001b[0mself\u001b[0m\u001b[0;34m.\u001b[0m\u001b[0mtokenizer\u001b[0m \u001b[0;34m=\u001b[0m \u001b[0mAutoTokenizer\u001b[0m\u001b[0;34m.\u001b[0m\u001b[0mfrom_pretrained\u001b[0m\u001b[0;34m(\u001b[0m\u001b[0mmodel_path\u001b[0m\u001b[0;34m)\u001b[0m\u001b[0;34m\u001b[0m\u001b[0;34m\u001b[0m\u001b[0m\n\u001b[0;32m---> 33\u001b[0;31m         \u001b[0mself\u001b[0m\u001b[0;34m.\u001b[0m\u001b[0mmask_id\u001b[0m \u001b[0;34m=\u001b[0m \u001b[0mself\u001b[0m\u001b[0;34m.\u001b[0m\u001b[0mtoken2id\u001b[0m\u001b[0;34m(\u001b[0m\u001b[0mself\u001b[0m\u001b[0;34m.\u001b[0m\u001b[0mMASK_TOKEN\u001b[0m\u001b[0;34m)\u001b[0m\u001b[0;34m\u001b[0m\u001b[0;34m\u001b[0m\u001b[0m\n\u001b[0m\u001b[1;32m     34\u001b[0m         \u001b[0mself\u001b[0m\u001b[0;34m.\u001b[0m\u001b[0mpad_id\u001b[0m \u001b[0;34m=\u001b[0m \u001b[0mself\u001b[0m\u001b[0;34m.\u001b[0m\u001b[0mtoken2id\u001b[0m\u001b[0;34m(\u001b[0m\u001b[0mself\u001b[0m\u001b[0;34m.\u001b[0m\u001b[0mPAD_TOKEN\u001b[0m\u001b[0;34m)\u001b[0m\u001b[0;34m\u001b[0m\u001b[0;34m\u001b[0m\u001b[0m\n\u001b[1;32m     35\u001b[0m         \u001b[0;32mif\u001b[0m \u001b[0msilence\u001b[0m\u001b[0;34m:\u001b[0m\u001b[0;34m\u001b[0m\u001b[0;34m\u001b[0m\u001b[0m\n",
      "\u001b[0;32m~/anaconda3/envs/nlp/lib/python3.9/site-packages/nlpaug/model/lang_models/distilbert.py\u001b[0m in \u001b[0;36mtoken2id\u001b[0;34m(self, token)\u001b[0m\n\u001b[1;32m     52\u001b[0m \u001b[0;34m\u001b[0m\u001b[0m\n\u001b[1;32m     53\u001b[0m     \u001b[0;32mdef\u001b[0m \u001b[0mtoken2id\u001b[0m\u001b[0;34m(\u001b[0m\u001b[0mself\u001b[0m\u001b[0;34m,\u001b[0m \u001b[0mtoken\u001b[0m\u001b[0;34m)\u001b[0m\u001b[0;34m:\u001b[0m\u001b[0;34m\u001b[0m\u001b[0;34m\u001b[0m\u001b[0m\n\u001b[0;32m---> 54\u001b[0;31m         \u001b[0;32mreturn\u001b[0m \u001b[0mself\u001b[0m\u001b[0;34m.\u001b[0m\u001b[0mtokenizer\u001b[0m\u001b[0;34m.\u001b[0m\u001b[0m_convert_token_to_id\u001b[0m\u001b[0;34m(\u001b[0m\u001b[0mtoken\u001b[0m\u001b[0;34m)\u001b[0m\u001b[0;34m\u001b[0m\u001b[0;34m\u001b[0m\u001b[0m\n\u001b[0m\u001b[1;32m     55\u001b[0m \u001b[0;34m\u001b[0m\u001b[0m\n\u001b[1;32m     56\u001b[0m     \u001b[0;32mdef\u001b[0m \u001b[0mid2token\u001b[0m\u001b[0;34m(\u001b[0m\u001b[0mself\u001b[0m\u001b[0;34m,\u001b[0m \u001b[0m_id\u001b[0m\u001b[0;34m)\u001b[0m\u001b[0;34m:\u001b[0m\u001b[0;34m\u001b[0m\u001b[0;34m\u001b[0m\u001b[0m\n",
      "\u001b[0;31mAttributeError\u001b[0m: 'DistilBertTokenizerFast' object has no attribute '_convert_token_to_id'"
     ]
    }
   ],
   "source": [
    "import nlpaug.augmenter.word as naw\n",
    "\n",
    "# Load tokenizers and transformers\n",
    "substitution = naw.ContextualWordEmbsAug(model_path=\"distilbert-base-uncased\", action=\"substitute\")\n",
    "insertion = naw.ContextualWordEmbsAug(model_path=\"distilbert-base-uncased\", action=\"insert\")\n",
    "text = \"Conditional image generation using Variational Autoencoders and GANs.\""
   ]
  },
  {
   "cell_type": "code",
   "execution_count": null,
   "id": "9b0fa53b",
   "metadata": {},
   "outputs": [],
   "source": [
    "# Substitutions\n",
    "augmented_text = substitution.augment(text)\n",
    "print (augmented_text)"
   ]
  },
  {
   "cell_type": "markdown",
   "id": "58f2529e",
   "metadata": {},
   "source": [
    "Substitution doesn't seem like a great idea for us because there are certain keywords that provide strong signal for our tags so we don't want to alter those. Also, note that these augmentations are NOT deterministic and will vary every time we run them. Let's try insertion..."
   ]
  },
  {
   "cell_type": "code",
   "execution_count": null,
   "id": "dfb05a8c",
   "metadata": {},
   "outputs": [],
   "source": [
    "# Insertions\n",
    "augmented_text = insertion.augment(text)\n",
    "print (augmented_text)"
   ]
  },
  {
   "cell_type": "markdown",
   "id": "cec3a5f3",
   "metadata": {},
   "source": [
    "A little better but still quite fragile and now it can potentially insert key words that can influence false positive tags to appear. Maybe instead of substituting or inserting new tokens, let's try simply swapping machine learning related keywords with their aliases from our auxiliary data. We'll use Snorkel's transformation functions to easily achieve this."
   ]
  },
  {
   "cell_type": "code",
   "execution_count": null,
   "id": "f77d8816",
   "metadata": {},
   "outputs": [],
   "source": [
    "!pip install inflect\n",
    "import inflect\n",
    "from snorkel.augmentation import transformation_function\n",
    "inflect = inflect.engine()"
   ]
  },
  {
   "cell_type": "code",
   "execution_count": null,
   "id": "3f8ca7a2",
   "metadata": {},
   "outputs": [],
   "source": [
    "# Inflect\n",
    "print (inflect.singular_noun(\"graphs\"))\n",
    "print (inflect.singular_noun(\"graph\"))\n",
    "print (inflect.plural_noun(\"graph\"))\n",
    "print (inflect.plural_noun(\"graphs\"))"
   ]
  },
  {
   "cell_type": "code",
   "execution_count": null,
   "id": "1817e349",
   "metadata": {},
   "outputs": [],
   "source": [
    "def replace_dash(x):\n",
    "    return x.replace(\"-\", \" \")"
   ]
  },
  {
   "cell_type": "code",
   "execution_count": null,
   "id": "7eb960bd",
   "metadata": {},
   "outputs": [],
   "source": [
    "flat_tags_dict = {}\n",
    "for tag, info in tags_dict.items():\n",
    "    tag = tag.replace(\"-\", \" \")\n",
    "    aliases = list(map(replace_dash, info[\"aliases\"]))\n",
    "    if len(aliases):\n",
    "        flat_tags_dict[tag] = aliases\n",
    "    for alias in aliases:\n",
    "        _aliases = aliases + [tag]\n",
    "        _aliases.remove(alias)\n",
    "        flat_tags_dict[alias] = _aliases"
   ]
  },
  {
   "cell_type": "code",
   "execution_count": null,
   "id": "58b0c643",
   "metadata": {},
   "outputs": [],
   "source": [
    "# Tags that could be singular or plural\n",
    "can_be_singular = [\n",
    "    'animations',\n",
    "    'cartoons',\n",
    "    'autoencoders',\n",
    "    'data streams',\n",
    "    'support vector machines',\n",
    "    'variational autoencoders'\n",
    "]\n",
    "can_be_plural = [\n",
    "    'annotation',\n",
    "    'data annotation',\n",
    "    'continuous integration',\n",
    "    'vqa',\n",
    "    'visualization',\n",
    "    'data visualization'\n",
    "]"
   ]
  },
  {
   "cell_type": "code",
   "execution_count": null,
   "id": "b1bee391",
   "metadata": {},
   "outputs": [],
   "source": [
    "# Add to flattened dict\n",
    "for tag in can_be_singular:\n",
    "    flat_tags_dict[inflect.singular_noun(tag)] = flat_tags_dict[tag]\n",
    "for tag in can_be_plural:\n",
    "    flat_tags_dict[inflect.plural_noun(tag)] = flat_tags_dict[tag]"
   ]
  },
  {
   "cell_type": "code",
   "execution_count": null,
   "id": "82263edf",
   "metadata": {},
   "outputs": [],
   "source": [
    "# Doesn't perfectly match (ex. singlar tag to singlar alias)\n",
    "# But good enough for data augmentation for char-level tokenization\n",
    "# Could've also used stemming before swapping aliases\n",
    "print (flat_tags_dict[\"gan\"])\n",
    "print (flat_tags_dict[\"gans\"])\n",
    "print (flat_tags_dict[\"generative adversarial network\"])\n",
    "print (flat_tags_dict[\"generative adversarial networks\"])"
   ]
  },
  {
   "cell_type": "code",
   "execution_count": null,
   "id": "4ce844b7",
   "metadata": {},
   "outputs": [],
   "source": [
    "# We want to match with the whole word only\n",
    "print (\"gan\" in \"This is a gan.\")\n",
    "print (\"gan\" in \"This is gandalf.\")"
   ]
  },
  {
   "cell_type": "code",
   "execution_count": null,
   "id": "df308a86",
   "metadata": {},
   "outputs": [],
   "source": [
    "import re\n",
    "def find_word(word, text):\n",
    "    word = word.replace(\"+\", \"\\+\")\n",
    "    pattern = re.compile(fr\"\\b({word})\\b\", flags=re.IGNORECASE)\n",
    "    return pattern.search(text)"
   ]
  },
  {
   "cell_type": "code",
   "execution_count": null,
   "id": "d5837a00",
   "metadata": {},
   "outputs": [],
   "source": [
    "# Correct behavior (single instance)\n",
    "print (find_word(\"gan\", \"This is a gan.\"))\n",
    "print (find_word(\"gan\", \"This is gandalf.\"))"
   ]
  },
  {
   "cell_type": "code",
   "execution_count": null,
   "id": "4853021c",
   "metadata": {},
   "outputs": [],
   "source": [
    "@transformation_function()\n",
    "def swap_aliases(x):\n",
    "    \"\"\"Swap ML keywords with their aliases.\"\"\"\n",
    "\n",
    "    # Find all matches\n",
    "    matches = []\n",
    "    for i, tag in enumerate(flat_tags_dict):\n",
    "        match = find_word(tag, x.text)\n",
    "        if match:\n",
    "            matches.append(match)\n",
    "\n",
    "    # Swap a random match with a random alias\n",
    "    if len(matches):\n",
    "        match = random.choice(matches)\n",
    "        tag = x.text[match.start():match.end()]\n",
    "        x.text = f\"{x.text[:match.start()]}{random.choice(flat_tags_dict[tag])}{x.text[match.end():]}\"\n",
    "    return x"
   ]
  },
  {
   "cell_type": "code",
   "execution_count": null,
   "id": "55b982ae",
   "metadata": {},
   "outputs": [],
   "source": [
    "# Swap\n",
    "for i in range(3):\n",
    "    sample_df = pd.DataFrame([{\"text\": \"a survey of reinforcement learning for nlp tasks.\"}])\n",
    "    sample_df.text = sample_df.text.apply(preprocess, lower=True, stem=False)\n",
    "    print (swap_aliases(sample_df.iloc[0]).text)"
   ]
  },
  {
   "cell_type": "code",
   "execution_count": null,
   "id": "d10e10c5",
   "metadata": {},
   "outputs": [],
   "source": [
    "# Undesired behavior (needs contextual insight)\n",
    "for i in range(3):\n",
    "    sample_df = pd.DataFrame([{\"text\": \"Autogenerate your CV to apply for jobs using NLP.\"}])\n",
    "    sample_df.text = sample_df.text.apply(preprocess, lower=True, stem=False)\n",
    "    print (swap_aliases(sample_df.iloc[0]).text)"
   ]
  },
  {
   "cell_type": "markdown",
   "id": "0486f537",
   "metadata": {},
   "source": [
    "Now we'll define a augmentation policy to apply our transformation functions with certain rules (how many samples to generate, whether to keep the original data point, etc.)"
   ]
  },
  {
   "cell_type": "code",
   "execution_count": null,
   "id": "61442324",
   "metadata": {},
   "outputs": [],
   "source": [
    "from snorkel.augmentation import ApplyOnePolicy, PandasTFApplier"
   ]
  },
  {
   "cell_type": "code",
   "execution_count": null,
   "id": "8063a838",
   "metadata": {},
   "outputs": [],
   "source": [
    "# Transformation function (TF) policy\n",
    "policy = ApplyOnePolicy(n_per_original=5, keep_original=True)\n",
    "tf_applier = PandasTFApplier([swap_aliases], policy)\n",
    "train_df_augmented = tf_applier.apply(train_df)\n",
    "train_df_augmented.drop_duplicates(subset=[\"text\"], inplace=True)\n",
    "train_df_augmented.head()"
   ]
  },
  {
   "cell_type": "markdown",
   "id": "d263510b",
   "metadata": {},
   "source": [
    "For now, we'll skip the data augmentation because it's quite fickle and empirically it doesn't improvement performance much. But we can see how this can be very effective once we can control what type of vocabulary to augment on and what exactly to augment with."
   ]
  },
  {
   "cell_type": "markdown",
   "id": "f01e0a7f",
   "metadata": {},
   "source": [
    "## Baselines\n",
    "\n",
    "### Intuition\n",
    "Baselines are simple benchmarks which pave the way for iterative development:\n",
    "\n",
    "- Rapid experimentation via hyperparameter tuning thanks to low model complexity.\n",
    "- Discovery of data issues, false assumptions, bugs in code, etc. since model itself is not complex.\n",
    "- Pareto's principle: we can achieve decent performance with minimal initial effort.\n",
    "\n",
    "### Process\n",
    "Here is the high level approach to establishing baselines:\n",
    "1. Start with the simplest possible baseline to compare subsequent development with. This is often a random (chance) model.\n",
    "2. Develop a rule-based approach (when possible) using IFTTT, auxiliary data, etc.\n",
    "3. Slowly add complexity by *addressing* limitations and *motivating* representations and model architectures.\n",
    "4. Weigh *tradeoffs* (performances, latency, size, etc.) between performant baselines.\n",
    "5. Revisit and iterate on baselines as your dataset grows.\n",
    "\n",
    "We can also baseline on your dataset. Instead of using a fixed dataset and iterating on the models, choose a good baseline and iterate on the dataset:\n",
    "\n",
    "- remove or fix data samples (FP, FN)\n",
    "- prepare and transform features\n",
    "- expand or consolidate classes\n",
    "- incorporate auxiliary datasets\n",
    "- identify unique slices to boost\n",
    "\n",
    "Tradeoffs to consider for model architecture(s):\n",
    "- `performance`: consider coarse-grained and fine-grained (ex. per-class) performance.\n",
    "- `latency`: how quickly does your model respond for inference.\n",
    "- `size`: how large is your model and can you support it's storage\n",
    "- `compute`: how much will it cost (dollars, carbon footprint, etc)?\n",
    "- `interpretability`: does your model need to explain its predictions?\n",
    "- `bias checks`: does your model pass key bias checks?\n",
    "- `time to develop`: how long do you have to develop the first version?\n",
    "- `time to retrain`: how long does it take to retrain your model? This is very important to consider if you need to retrain often.\n",
    "- `maintenance overhead`: who and what will be required to maintain your model versions because the real work with ML begins after deploying v1. You can't just hand it off to your site reliability team to maintain it like many teams do with traditional software."
   ]
  },
  {
   "cell_type": "markdown",
   "id": "ec639186",
   "metadata": {},
   "source": [
    "### Application\n",
    "Each application's baseline trajectory varies based on the task and motivations. For our application, we're going to follow this path:\n",
    "1. Random\n",
    "2. Rule-based\n",
    "3. Simple ML\n",
    "4. CNN w/ embeddings\n",
    "\n",
    "We'll motivate the need for slowly adding complexity from both the **representation** (ex. embeddings) and **architecture** (ex. CNNs) views, as well as address the limitation at each step of the way."
   ]
  },
  {
   "cell_type": "code",
   "execution_count": 78,
   "id": "7e7a0c36",
   "metadata": {},
   "outputs": [],
   "source": [
    "from sklearn.metrics import precision_recall_fscore_support\n",
    "import torch"
   ]
  },
  {
   "cell_type": "code",
   "execution_count": 79,
   "id": "0d96085e",
   "metadata": {},
   "outputs": [],
   "source": [
    "def set_seeds(seed=42):\n",
    "    np.random.seed(seed)\n",
    "    random.seed(seed)\n",
    "    torch.manual_seed(seed)\n",
    "    torch.cuda.manual_seed(seed)\n",
    "    torch.cuda.manual_seed_all(seed)"
   ]
  },
  {
   "cell_type": "code",
   "execution_count": 80,
   "id": "a6517fd7",
   "metadata": {},
   "outputs": [],
   "source": [
    "def get_data_splits(df, train_size=0.7):\n",
    "    \"\"\"\"\"\"\n",
    "    # Get data\n",
    "    X = df.text.to_numpy()\n",
    "    y = df.tags\n",
    "\n",
    "    # Binarize y\n",
    "    label_encoder = LabelEncoder()\n",
    "    label_encoder.fit(y)\n",
    "    y = label_encoder.encode(y)\n",
    "\n",
    "    # Split\n",
    "    X_train, X_, y_train, y_ = iterative_train_test_split(\n",
    "        X, y, train_size=train_size)\n",
    "    X_val, X_test, y_val, y_test = iterative_train_test_split(\n",
    "        X_, y_, train_size=0.5)\n",
    "\n",
    "    return X_train, X_val, X_test, y_train, y_val, y_test, label_encoder"
   ]
  },
  {
   "cell_type": "markdown",
   "id": "3d5a911a",
   "metadata": {},
   "source": [
    "We'll define a Trainer object which we will use for training, validation and inference. "
   ]
  },
  {
   "cell_type": "code",
   "execution_count": 81,
   "id": "0dd4472b",
   "metadata": {},
   "outputs": [],
   "source": [
    "class Trainer(object):\n",
    "    def __init__(self, model, device, loss_fn=None, optimizer=None, scheduler=None):\n",
    "        self.model = model\n",
    "        self.device = device\n",
    "        self.loss_fn = loss_fn\n",
    "        self.optimizer = optimizer\n",
    "        self.scheduler = scheduler\n",
    "        \n",
    "    def train_step(self, dataloader):\n",
    "        self.model.train()\n",
    "        loss = 0.0\n",
    "        \n",
    "        for i, batch in enumerate(dataloader):\n",
    "            batch = [item.to(self.device) for item in batch]\n",
    "            inputs, targets = batch[:-1], batch[-1]\n",
    "            self.optimizer.zero_grad()\n",
    "            z = self.model(inputs)\n",
    "            J = self.loss_fn(z, targets)\n",
    "            J.backward()\n",
    "            self.optimizer.step()\n",
    "            \n",
    "            loss += (J.detach().item() - loss) / (i+1)\n",
    "        \n",
    "        return loss\n",
    "\n",
    "    def eval_step(self, dataloader):\n",
    "        self.model.eval()\n",
    "        loss = 0.0\n",
    "        y_trues, y_probs = [], []\n",
    "\n",
    "        # Iterate over val batches\n",
    "        with torch.inference_mode():\n",
    "            for i, batch in enumerate(dataloader):\n",
    "\n",
    "                # Step\n",
    "                batch = [item.to(self.device) for item in batch]  # Set device\n",
    "                inputs, y_true = batch[:-1], batch[-1]\n",
    "                z = self.model(inputs)  # Forward pass\n",
    "                J = self.loss_fn(z, y_true).item()\n",
    "\n",
    "                # Cumulative Metrics\n",
    "                loss += (J - loss) / (i + 1)\n",
    "\n",
    "                # Store outputs\n",
    "                y_prob = torch.sigmoid(z).cpu().numpy()\n",
    "                y_probs.extend(y_prob)\n",
    "                y_trues.extend(y_true.cpu().numpy())\n",
    "\n",
    "        return loss, np.vstack(y_trues), np.vstack(y_probs)\n",
    "    \n",
    "    def predict_step(self, dataloader):\n",
    "        \"\"\"Prediction step.\"\"\"\n",
    "        # Set model to eval mode\n",
    "        self.model.eval()\n",
    "        y_probs = []\n",
    "\n",
    "        # Iterate over val batches\n",
    "        with torch.inference_mode():\n",
    "            for i, batch in enumerate(dataloader):\n",
    "\n",
    "                # Forward pass w/ inputs\n",
    "                inputs, targets = batch[:-1], batch[-1]\n",
    "                z = self.model(inputs)\n",
    "\n",
    "                # Store outputs\n",
    "                y_prob = torch.sigmoid(z).cpu().numpy()\n",
    "                y_probs.extend(y_prob)\n",
    "\n",
    "        return np.vstack(y_probs)\n",
    "    \n",
    "    def train(self, num_epochs, patience, train_dataloader, val_dataloader):\n",
    "        best_val_loss = np.inf\n",
    "        for epoch in range(num_epochs):\n",
    "            # Steps\n",
    "            train_loss = self.train_step(dataloader=train_dataloader)\n",
    "            val_loss, _, _ = self.eval_step(dataloader=val_dataloader)\n",
    "            self.scheduler.step(val_loss)\n",
    "\n",
    "            # Early stopping\n",
    "            if val_loss < best_val_loss:\n",
    "                best_val_loss = val_loss\n",
    "                best_model = self.model\n",
    "                _patience = patience  # reset _patience\n",
    "            else:\n",
    "                _patience -= 1\n",
    "            if not _patience:  # 0\n",
    "                print(\"Stopping early!\")\n",
    "                break\n",
    "\n",
    "            # Logging\n",
    "            print(\n",
    "                f\"Epoch: {epoch+1} | \"\n",
    "                f\"train_loss: {train_loss:.5f}, \"\n",
    "                f\"val_loss: {val_loss:.5f}, \"\n",
    "                f\"lr: {self.optimizer.param_groups[0]['lr']:.2E}, \"\n",
    "                f\"_patience: {_patience}\"\n",
    "            )\n",
    "        return best_model"
   ]
  },
  {
   "cell_type": "markdown",
   "id": "3bfc0e46",
   "metadata": {},
   "source": [
    "Our dataset is small so we'll train using the whole dataset but for larger datasets, we should always test on a small subset (after shuffling when necessary) so we aren't wasting time on compute. Here's how we can easily do this:"
   ]
  },
  {
   "cell_type": "code",
   "execution_count": 56,
   "id": "b1865073",
   "metadata": {},
   "outputs": [
    {
     "ename": "NameError",
     "evalue": "name 'shuffle' is not defined",
     "output_type": "error",
     "traceback": [
      "\u001b[0;31m---------------------------------------------------------------------------\u001b[0m",
      "\u001b[0;31mNameError\u001b[0m                                 Traceback (most recent call last)",
      "\u001b[0;32m/tmp/ipykernel_173775/3965894546.py\u001b[0m in \u001b[0;36m<module>\u001b[0;34m\u001b[0m\n\u001b[1;32m      1\u001b[0m \u001b[0;31m# Shuffling since projects are chronologically organized\u001b[0m\u001b[0;34m\u001b[0m\u001b[0;34m\u001b[0m\u001b[0m\n\u001b[0;32m----> 2\u001b[0;31m \u001b[0;32mif\u001b[0m \u001b[0mshuffle\u001b[0m\u001b[0;34m:\u001b[0m\u001b[0;34m\u001b[0m\u001b[0;34m\u001b[0m\u001b[0m\n\u001b[0m\u001b[1;32m      3\u001b[0m     \u001b[0mdf\u001b[0m \u001b[0;34m=\u001b[0m \u001b[0mdf\u001b[0m\u001b[0;34m.\u001b[0m\u001b[0msample\u001b[0m\u001b[0;34m(\u001b[0m\u001b[0mfrac\u001b[0m\u001b[0;34m=\u001b[0m\u001b[0;36m1\u001b[0m\u001b[0;34m)\u001b[0m\u001b[0;34m.\u001b[0m\u001b[0mreset_index\u001b[0m\u001b[0;34m(\u001b[0m\u001b[0mdrop\u001b[0m\u001b[0;34m=\u001b[0m\u001b[0;32mTrue\u001b[0m\u001b[0;34m)\u001b[0m\u001b[0;34m\u001b[0m\u001b[0;34m\u001b[0m\u001b[0m\n\u001b[1;32m      4\u001b[0m \u001b[0;34m\u001b[0m\u001b[0m\n\u001b[1;32m      5\u001b[0m \u001b[0;31m# Subset\u001b[0m\u001b[0;34m\u001b[0m\u001b[0;34m\u001b[0m\u001b[0m\n",
      "\u001b[0;31mNameError\u001b[0m: name 'shuffle' is not defined"
     ]
    }
   ],
   "source": [
    "# Shuffling since projects are chronologically organized\n",
    "if shuffle:\n",
    "    df = df.sample(frac=1).reset_index(drop=True)\n",
    "\n",
    "# Subset\n",
    "if num_samples:\n",
    "    df = df[:num_samples]"
   ]
  },
  {
   "cell_type": "markdown",
   "id": "8c6fab6c",
   "metadata": {},
   "source": [
    "### Random\n",
    "<u>Motivation</u>: We want to know what random (chance) performance looks like. All of our subsequent baselines should perform better than this."
   ]
  },
  {
   "cell_type": "code",
   "execution_count": 82,
   "id": "563933b1",
   "metadata": {},
   "outputs": [],
   "source": [
    "# Set seeds\n",
    "set_seeds()"
   ]
  },
  {
   "cell_type": "code",
   "execution_count": 83,
   "id": "a73b003f",
   "metadata": {},
   "outputs": [],
   "source": [
    "import nltk\n",
    "from nltk.corpus import stopwords\n",
    "from nltk.stem import PorterStemmer\n",
    "from nltk import word_tokenize\n",
    "import re"
   ]
  },
  {
   "cell_type": "code",
   "execution_count": 84,
   "id": "d2a4ea26",
   "metadata": {},
   "outputs": [
    {
     "name": "stderr",
     "output_type": "stream",
     "text": [
      "[nltk_data] Downloading package stopwords to\n",
      "[nltk_data]     /home/anantvaid/nltk_data...\n",
      "[nltk_data]   Package stopwords is already up-to-date!\n"
     ]
    }
   ],
   "source": [
    "nltk.download(\"stopwords\")\n",
    "STOPWORDS = stopwords.words(\"english\")\n",
    "porter = PorterStemmer()"
   ]
  },
  {
   "cell_type": "code",
   "execution_count": 85,
   "id": "9655bbcc",
   "metadata": {},
   "outputs": [],
   "source": [
    "def preprocess(text, stopwords=STOPWORDS, lower=True, stem=False):\n",
    "    \"\"\"Conditional preprocessing on our text unique to our task.\"\"\"\n",
    "    # Lower\n",
    "    \n",
    "    if lower:\n",
    "        text = text.lower()\n",
    "\n",
    "    # Remove stopwords\n",
    "    pattern = re.compile(r\"\\b(\" + r\"|\".join(stopwords) + r\")\\b\\s*\")\n",
    "    text = pattern.sub(\"\", text)\n",
    "\n",
    "    # Remove words in parenthesis\n",
    "    text = re.sub(r\"\\([^)]*\\)\", \"\", text)\n",
    "\n",
    "    # Spacing and filters\n",
    "    text = re.sub(r\"([-;;.,!?<=>])\", r\" \\1 \", text)  # separate punctuation tied to words\n",
    "    text = re.sub(\"[^A-Za-z0-9]+\", \" \", text)  # remove non alphanumeric chars\n",
    "    text = re.sub(\" +\", \" \", text)  # remove multiple spaces\n",
    "    text = text.strip()\n",
    "    \n",
    "    if stem:\n",
    "        text = ' '.join([porter.stem(word) for word in word_tokenize(text)])\n",
    "\n",
    "    return text"
   ]
  },
  {
   "cell_type": "code",
   "execution_count": 86,
   "id": "4922b409",
   "metadata": {},
   "outputs": [
    {
     "name": "stdout",
     "output_type": "stream",
     "text": [
      "X_train: (1023,), y_train: (1023, 35)\n",
      "X_val: (215,), y_val: (215, 35)\n",
      "X_test: (206,), y_test: (206, 35)\n"
     ]
    }
   ],
   "source": [
    "# Get data splits\n",
    "preprocessed_df = df.copy()\n",
    "preprocessed_df.text = preprocessed_df.text.apply(preprocess, lower=True, stem=True)\n",
    "X_train, X_val, X_test, y_train, y_val, y_test, label_encoder = get_data_splits(preprocessed_df)\n",
    "print (f\"X_train: {X_train.shape}, y_train: {y_train.shape}\")\n",
    "print (f\"X_val: {X_val.shape}, y_val: {y_val.shape}\")\n",
    "print (f\"X_test: {X_test.shape}, y_test: {y_test.shape}\")"
   ]
  },
  {
   "cell_type": "code",
   "execution_count": 87,
   "id": "86664f48",
   "metadata": {},
   "outputs": [
    {
     "name": "stdout",
     "output_type": "stream",
     "text": [
      "<LabelEncoder(num_classes=35)>\n",
      "['attention', 'autoencoders', 'computer-vision', 'convolutional-neural-networks', 'data-augmentation', 'embeddings', 'flask', 'generative-adversarial-networks', 'graph-neural-networks', 'graphs', 'huggingface', 'image-classification', 'interpretability', 'keras', 'language-modeling', 'natural-language-processing', 'node-classification', 'object-detection', 'pretraining', 'production', 'pytorch', 'question-answering', 'regression', 'reinforcement-learning', 'representation-learning', 'scikit-learn', 'segmentation', 'self-supervised-learning', 'tensorflow', 'tensorflow-js', 'time-series', 'transfer-learning', 'transformers', 'unsupervised-learning', 'wandb']\n"
     ]
    }
   ],
   "source": [
    "# Label encoder\n",
    "print (label_encoder)\n",
    "print (label_encoder.classes)"
   ]
  },
  {
   "cell_type": "code",
   "execution_count": 88,
   "id": "ced18036",
   "metadata": {},
   "outputs": [
    {
     "name": "stdout",
     "output_type": "stream",
     "text": [
      "(206, 35)\n",
      "[[0 0 1 1 1 0 0 0 1 0 0 1 0 1 1 1 0 0 0 0 0 0 0 1 0 1 0 0 0 1 1 1 1 0 1]\n",
      " [0 0 1 1 1 1 1 1 1 1 0 1 1 0 1 0 0 1 0 0 0 0 1 0 1 0 0 0 0 1 1 0 0 1 0]\n",
      " [0 0 1 1 1 0 0 1 1 1 1 0 1 0 1 0 1 1 1 1 0 1 0 0 0 0 1 0 0 0 1 1 1 1 0]\n",
      " [0 1 0 0 0 1 1 0 1 1 1 1 1 0 1 0 0 1 0 0 0 1 1 0 1 1 1 1 0 0 1 1 0 0 1]\n",
      " [0 1 1 0 0 1 1 0 1 0 1 0 0 0 1 1 0 1 0 0 1 1 0 1 1 0 0 1 0 0 1 0 0 1 1]]\n"
     ]
    }
   ],
   "source": [
    "# Generate random predictions\n",
    "y_pred = np.random.randint(low=0, high=2, size=(len(y_test), len(label_encoder.classes)))\n",
    "print (y_pred.shape)\n",
    "print (y_pred[0:5])"
   ]
  },
  {
   "cell_type": "code",
   "execution_count": 89,
   "id": "78b60258",
   "metadata": {},
   "outputs": [
    {
     "name": "stdout",
     "output_type": "stream",
     "text": [
      "{\n",
      "  \"precision\": 0.1413012833862053,\n",
      "  \"recall\": 0.48590021691973967,\n",
      "  \"f1\": 0.19899614568152524\n",
      "}\n"
     ]
    }
   ],
   "source": [
    "# Evaluate\n",
    "metrics = precision_recall_fscore_support(y_test, y_pred, average=\"weighted\")\n",
    "performance = {\"precision\": metrics[0], \"recall\": metrics[1], \"f1\": metrics[2]}\n",
    "print (json.dumps(performance, indent=2))"
   ]
  },
  {
   "cell_type": "markdown",
   "id": "2570afb1",
   "metadata": {},
   "source": [
    "We made the assumption that there is an equal probability for whether an input has a tag or not but this isn't true. Let's use the train split to figure out what the true probability is."
   ]
  },
  {
   "cell_type": "code",
   "execution_count": 90,
   "id": "cb2d99de",
   "metadata": {},
   "outputs": [
    {
     "name": "stdout",
     "output_type": "stream",
     "text": [
      "0.062253875157100964\n"
     ]
    }
   ],
   "source": [
    "# Percentage of 1s (tag presence)\n",
    "tag_p = np.sum(np.sum(y_train)) / (len(y_train) * len(label_encoder.classes))\n",
    "print (tag_p)"
   ]
  },
  {
   "cell_type": "code",
   "execution_count": 91,
   "id": "4ce27f58",
   "metadata": {},
   "outputs": [],
   "source": [
    "# Generate weighted random predictions\n",
    "y_pred = np.random.choice(\n",
    "    np.arange(0, 2), size=(len(y_test), len(label_encoder.classes)),\n",
    "    p=[1-tag_p, tag_p])"
   ]
  },
  {
   "cell_type": "code",
   "execution_count": 92,
   "id": "b0353b06",
   "metadata": {},
   "outputs": [
    {
     "data": {
      "text/plain": [
       "0.05728155339805825"
      ]
     },
     "execution_count": 92,
     "metadata": {},
     "output_type": "execute_result"
    }
   ],
   "source": [
    "# Validate percentage\n",
    "np.sum(np.sum(y_pred)) / (len(y_pred) * len(label_encoder.classes))"
   ]
  },
  {
   "cell_type": "code",
   "execution_count": 93,
   "id": "9eda8dc7",
   "metadata": {},
   "outputs": [
    {
     "name": "stdout",
     "output_type": "stream",
     "text": [
      "{\n",
      "  \"precision\": 0.158003268051756,\n",
      "  \"recall\": 0.05639913232104121,\n",
      "  \"f1\": 0.0711867972030073\n",
      "}\n"
     ]
    }
   ],
   "source": [
    "# Evaluate\n",
    "metrics = precision_recall_fscore_support(y_test, y_pred, average=\"weighted\")\n",
    "performance = {\"precision\": metrics[0], \"recall\": metrics[1], \"f1\": metrics[2]}\n",
    "print (json.dumps(performance, indent=2))"
   ]
  },
  {
   "cell_type": "markdown",
   "id": "0e130676",
   "metadata": {},
   "source": [
    "<u><i>Limitations</i></u>: we didn't use any of the signals from our inputs to affect our predictions, so nothing was learned."
   ]
  },
  {
   "cell_type": "markdown",
   "id": "adee3dfe",
   "metadata": {},
   "source": [
    "## Rule-based\n",
    "*motivation*: we want to use signals in our inputs (along with domain expertise and auxiliary data) to determine the labels.\n",
    "\n",
    "What we do here is... We take the text and find if any of the tag is present in the text, if yes, we add the tag and also the parent tag along with it. Clearly, this is rule-based as we're performing searching and just appending it to our final answer."
   ]
  },
  {
   "cell_type": "code",
   "execution_count": 94,
   "id": "344f4da4",
   "metadata": {},
   "outputs": [],
   "source": [
    "# Set seeds\n",
    "set_seeds()"
   ]
  },
  {
   "cell_type": "markdown",
   "id": "fe7ae888",
   "metadata": {},
   "source": [
    "### Unstemmed"
   ]
  },
  {
   "cell_type": "code",
   "execution_count": 95,
   "id": "372dacf7",
   "metadata": {},
   "outputs": [],
   "source": [
    "# Get data splits\n",
    "preprocessed_df = df.copy()\n",
    "preprocessed_df.text = preprocessed_df.text.apply(preprocess, lower=True)\n",
    "X_train, X_val, X_test, y_train, y_val, y_test, label_encoder = get_data_splits(preprocessed_df)"
   ]
  },
  {
   "cell_type": "code",
   "execution_count": 96,
   "id": "1f521553",
   "metadata": {},
   "outputs": [
    {
     "name": "stdout",
     "output_type": "stream",
     "text": [
      "400\n",
      "35\n"
     ]
    }
   ],
   "source": [
    "# Restrict to relevant tags\n",
    "print (len(tags_dict))\n",
    "tags_dict = {tag: tags_dict[tag] for tag in label_encoder.classes}\n",
    "print (len(tags_dict))"
   ]
  },
  {
   "cell_type": "code",
   "execution_count": 97,
   "id": "6dcc937b",
   "metadata": {},
   "outputs": [
    {
     "data": {
      "text/plain": [
       "{'attention': 'attention',\n",
       " 'autoencoders': 'autoencoders',\n",
       " 'ae': 'autoencoders',\n",
       " 'computer vision': 'computer-vision',\n",
       " 'cv': 'computer-vision',\n",
       " 'vision': 'computer-vision',\n",
       " 'convolutional neural networks': 'convolutional-neural-networks',\n",
       " 'cnn': 'convolutional-neural-networks',\n",
       " 'data augmentation': 'data-augmentation',\n",
       " 'embeddings': 'embeddings',\n",
       " 'flask': 'flask',\n",
       " 'generative adversarial networks': 'generative-adversarial-networks',\n",
       " 'gan': 'generative-adversarial-networks',\n",
       " 'graph neural networks': 'graph-neural-networks',\n",
       " 'gnn': 'graph-neural-networks',\n",
       " 'graphs': 'graphs',\n",
       " 'huggingface': 'huggingface',\n",
       " 'image classification': 'image-classification',\n",
       " 'interpretability': 'interpretability',\n",
       " 'keras': 'keras',\n",
       " 'language modeling': 'language-modeling',\n",
       " 'lm': 'language-modeling',\n",
       " 'natural language processing': 'natural-language-processing',\n",
       " 'nlp': 'natural-language-processing',\n",
       " 'nlproc': 'natural-language-processing',\n",
       " 'node classification': 'node-classification',\n",
       " 'object detection': 'object-detection',\n",
       " 'pretraining': 'pretraining',\n",
       " 'pre training': 'pretraining',\n",
       " 'production': 'production',\n",
       " 'pytorch': 'pytorch',\n",
       " 'question answering': 'question-answering',\n",
       " 'qa': 'question-answering',\n",
       " 'regression': 'regression',\n",
       " 'reinforcement learning': 'reinforcement-learning',\n",
       " 'rl': 'reinforcement-learning',\n",
       " 'representation learning': 'representation-learning',\n",
       " 'scikit learn': 'scikit-learn',\n",
       " 'sklearn': 'scikit-learn',\n",
       " 'segmentation': 'segmentation',\n",
       " 'image segmentation': 'segmentation',\n",
       " 'self supervised learning': 'self-supervised-learning',\n",
       " 'tensorflow': 'tensorflow',\n",
       " 'tf': 'tensorflow',\n",
       " 'tensorflow js': 'tensorflow-js',\n",
       " 'tf js': 'tensorflow-js',\n",
       " 'time series': 'time-series',\n",
       " 'time series analysis': 'time-series',\n",
       " 'transfer learning': 'transfer-learning',\n",
       " 'transformers': 'transformers',\n",
       " 'unsupervised learning': 'unsupervised-learning',\n",
       " 'wandb': 'wandb',\n",
       " 'weights biases': 'wandb'}"
      ]
     },
     "execution_count": 97,
     "metadata": {},
     "output_type": "execute_result"
    }
   ],
   "source": [
    "# Map aliases\n",
    "aliases = {}\n",
    "for tag, values in tags_dict.items():\n",
    "    aliases[preprocess(tag)] = tag\n",
    "    for alias in values[\"aliases\"]:\n",
    "        aliases[preprocess(alias)] = tag\n",
    "aliases"
   ]
  },
  {
   "cell_type": "code",
   "execution_count": 98,
   "id": "b6300317",
   "metadata": {},
   "outputs": [],
   "source": [
    "def get_classes(text, aliases, tags_dict):\n",
    "    \"\"\"If a token matches an alias,\n",
    "    then add the corresponding tag\n",
    "    class (and parent tags if any).\"\"\"\n",
    "    classes = []\n",
    "    for alias, tag in aliases.items():\n",
    "        if alias in text:\n",
    "\n",
    "            # Add tag\n",
    "            classes.append(tag)\n",
    "\n",
    "            # Add parent tags\n",
    "            for parent in tags_dict[tag][\"parents\"]:\n",
    "                classes.append(parent)\n",
    "\n",
    "    return list(set(classes))"
   ]
  },
  {
   "cell_type": "code",
   "execution_count": 99,
   "id": "8d53f9a4",
   "metadata": {},
   "outputs": [
    {
     "data": {
      "text/plain": [
       "['data-augmentation',\n",
       " 'generative-adversarial-networks',\n",
       " 'computer-vision',\n",
       " 'object-detection']"
      ]
     },
     "execution_count": 99,
     "metadata": {},
     "output_type": "execute_result"
    }
   ],
   "source": [
    "# Sample\n",
    "text = \"This project extends gans for data augmentation specifically for object detection tasks.\"\n",
    "get_classes(text=preprocess(text), aliases=aliases, tags_dict=tags_dict)"
   ]
  },
  {
   "cell_type": "code",
   "execution_count": 100,
   "id": "294597e6",
   "metadata": {},
   "outputs": [],
   "source": [
    "# Prediction\n",
    "y_pred = []\n",
    "for text in X_test:\n",
    "    classes = get_classes(text, aliases, tags_dict)\n",
    "    y_pred.append(classes)"
   ]
  },
  {
   "cell_type": "code",
   "execution_count": 101,
   "id": "f2a7512b",
   "metadata": {},
   "outputs": [],
   "source": [
    "# Encode labels\n",
    "y_pred = label_encoder.encode(y_pred)"
   ]
  },
  {
   "cell_type": "code",
   "execution_count": 102,
   "id": "2f5c8807",
   "metadata": {},
   "outputs": [
    {
     "name": "stdout",
     "output_type": "stream",
     "text": [
      "{\n",
      "  \"precision\": 0.9057038767450915,\n",
      "  \"recall\": 0.41865509761388287,\n",
      "  \"f1\": 0.5536268766844119\n",
      "}\n"
     ]
    }
   ],
   "source": [
    "# Evaluate\n",
    "metrics = precision_recall_fscore_support(y_test, y_pred, average=\"weighted\")\n",
    "performance = {\"precision\": metrics[0], \"recall\": metrics[1], \"f1\": metrics[2]}\n",
    "print (json.dumps(performance, indent=2))"
   ]
  },
  {
   "cell_type": "markdown",
   "id": "edf7a7d7",
   "metadata": {},
   "source": [
    "### Stemmed\n",
    "\n",
    "We're looking for exact matches with the aliases which isn't always perfect, for example: "
   ]
  },
  {
   "cell_type": "code",
   "execution_count": 103,
   "id": "fef1fb78",
   "metadata": {},
   "outputs": [
    {
     "name": "stdout",
     "output_type": "stream",
     "text": [
      "generative-adversarial-networks\n",
      "generative-adversarial-networks\n"
     ]
    }
   ],
   "source": [
    "print (aliases[preprocess(\"gan\")])\n",
    "# print (aliases[preprocess('gans')]) # this won't find any match\n",
    "print (aliases[preprocess(\"generative adversarial networks\")])\n",
    "# print (aliases[preprocess('generative adversarial network')]) # this won't find any match"
   ]
  },
  {
   "cell_type": "markdown",
   "id": "6f991d15",
   "metadata": {},
   "source": [
    "We don't want to keep adding explicit rules but we can use stemming to represent different forms of a word uniformly, for example: "
   ]
  },
  {
   "cell_type": "code",
   "execution_count": 104,
   "id": "25027eb1",
   "metadata": {},
   "outputs": [
    {
     "name": "stdout",
     "output_type": "stream",
     "text": [
      "democraci\n",
      "democraci\n"
     ]
    }
   ],
   "source": [
    "print (porter.stem(\"democracy\"))\n",
    "print (porter.stem(\"democracies\"))"
   ]
  },
  {
   "cell_type": "markdown",
   "id": "88b9060f",
   "metadata": {},
   "source": [
    "So let's now stem our aliases as well as the tokens in our input text and then look for matches. "
   ]
  },
  {
   "cell_type": "code",
   "execution_count": 105,
   "id": "0e2cdb80",
   "metadata": {},
   "outputs": [],
   "source": [
    "# Get data splits\n",
    "preprocessed_df = df.copy()\n",
    "preprocessed_df.text = preprocessed_df.text.apply(preprocess, lower=True, stem=True)\n",
    "X_train, X_val, X_test, y_train, y_val, y_test, label_encoder = get_data_splits(preprocessed_df)"
   ]
  },
  {
   "cell_type": "code",
   "execution_count": 106,
   "id": "d2a30957",
   "metadata": {},
   "outputs": [
    {
     "data": {
      "text/plain": [
       "{'attent': 'attention',\n",
       " 'autoencod': 'autoencoders',\n",
       " 'ae': 'autoencoders',\n",
       " 'comput vision': 'computer-vision',\n",
       " 'cv': 'computer-vision',\n",
       " 'vision': 'computer-vision',\n",
       " 'convolut neural network': 'convolutional-neural-networks',\n",
       " 'cnn': 'convolutional-neural-networks',\n",
       " 'data augment': 'data-augmentation',\n",
       " 'embed': 'embeddings',\n",
       " 'flask': 'flask',\n",
       " 'gener adversari network': 'generative-adversarial-networks',\n",
       " 'gan': 'generative-adversarial-networks',\n",
       " 'graph neural network': 'graph-neural-networks',\n",
       " 'gnn': 'graph-neural-networks',\n",
       " 'graph': 'graphs',\n",
       " 'huggingfac': 'huggingface',\n",
       " 'imag classif': 'image-classification',\n",
       " 'interpret': 'interpretability',\n",
       " 'kera': 'keras',\n",
       " 'languag model': 'language-modeling',\n",
       " 'lm': 'language-modeling',\n",
       " 'natur languag process': 'natural-language-processing',\n",
       " 'nlp': 'natural-language-processing',\n",
       " 'nlproc': 'natural-language-processing',\n",
       " 'node classif': 'node-classification',\n",
       " 'object detect': 'object-detection',\n",
       " 'pretrain': 'pretraining',\n",
       " 'pre train': 'pretraining',\n",
       " 'product': 'production',\n",
       " 'pytorch': 'pytorch',\n",
       " 'question answer': 'question-answering',\n",
       " 'qa': 'question-answering',\n",
       " 'regress': 'regression',\n",
       " 'reinforc learn': 'reinforcement-learning',\n",
       " 'rl': 'reinforcement-learning',\n",
       " 'represent learn': 'representation-learning',\n",
       " 'scikit learn': 'scikit-learn',\n",
       " 'sklearn': 'scikit-learn',\n",
       " 'segment': 'segmentation',\n",
       " 'imag segment': 'segmentation',\n",
       " 'self supervis learn': 'self-supervised-learning',\n",
       " 'tensorflow': 'tensorflow',\n",
       " 'tf': 'tensorflow',\n",
       " 'tensorflow js': 'tensorflow-js',\n",
       " 'tf js': 'tensorflow-js',\n",
       " 'time seri': 'time-series',\n",
       " 'time seri analysi': 'time-series',\n",
       " 'transfer learn': 'transfer-learning',\n",
       " 'transform': 'transformers',\n",
       " 'unsupervis learn': 'unsupervised-learning',\n",
       " 'wandb': 'wandb',\n",
       " 'weight bias': 'wandb'}"
      ]
     },
     "execution_count": 106,
     "metadata": {},
     "output_type": "execute_result"
    }
   ],
   "source": [
    "# Map aliases\n",
    "aliases = {}\n",
    "for tag, values in tags_dict.items():\n",
    "    aliases[preprocess(tag, stem=True)] = tag\n",
    "    for alias in values[\"aliases\"]:\n",
    "        aliases[preprocess(alias, stem=True)] = tag\n",
    "aliases"
   ]
  },
  {
   "cell_type": "code",
   "execution_count": 107,
   "id": "a85ac08d",
   "metadata": {},
   "outputs": [
    {
     "name": "stdout",
     "output_type": "stream",
     "text": [
      "generative-adversarial-networks\n",
      "generative-adversarial-networks\n",
      "generative-adversarial-networks\n",
      "generative-adversarial-networks\n"
     ]
    }
   ],
   "source": [
    "# Checks (we will write proper tests soon)\n",
    "print (aliases[preprocess(\"gan\", stem=True)])\n",
    "print (aliases[preprocess(\"gans\", stem=True)])\n",
    "print (aliases[preprocess(\"generative adversarial network\", stem=True)])\n",
    "print (aliases[preprocess(\"generative adversarial networks\", stem=True)])"
   ]
  },
  {
   "cell_type": "code",
   "execution_count": 108,
   "id": "ceac034e",
   "metadata": {},
   "outputs": [],
   "source": [
    "# Prediction\n",
    "y_pred = []\n",
    "for text in X_test:\n",
    "    classes = get_classes(text, aliases, tags_dict)\n",
    "    y_pred.append(classes)"
   ]
  },
  {
   "cell_type": "code",
   "execution_count": 109,
   "id": "6e3563a2",
   "metadata": {},
   "outputs": [],
   "source": [
    "# Encode labels\n",
    "y_pred = label_encoder.encode(y_pred)"
   ]
  },
  {
   "cell_type": "markdown",
   "id": "3e1b7c2d",
   "metadata": {},
   "source": [
    "### Evaluation\n",
    "\n",
    "We can look at overall and per-class performance on our test set."
   ]
  },
  {
   "cell_type": "code",
   "execution_count": 110,
   "id": "95775e8f",
   "metadata": {},
   "outputs": [
    {
     "name": "stdout",
     "output_type": "stream",
     "text": [
      "{\n",
      "  \"precision\": 0.8887025506203589,\n",
      "  \"recall\": 0.4474885844748858,\n",
      "  \"f1\": 0.5732419896803458\n",
      "}\n"
     ]
    }
   ],
   "source": [
    "# Evaluate\n",
    "metrics = precision_recall_fscore_support(y_test, y_pred, average=\"weighted\")\n",
    "performance = {\"precision\": metrics[0], \"recall\": metrics[1], \"f1\": metrics[2]}\n",
    "print (json.dumps(performance, indent=2))"
   ]
  },
  {
   "cell_type": "markdown",
   "id": "26033fa5",
   "metadata": {},
   "source": [
    "We achieved very high precision at the expense of low recall. Why?\n",
    "Rule-based approaches can yield labels with high certainty when there is an absolute condition match (high precision) but it fails to generalize or learn implicit patterns to capture the rest of the cases (low recall)."
   ]
  },
  {
   "cell_type": "markdown",
   "id": "f19c9256",
   "metadata": {},
   "source": [
    "### Inference"
   ]
  },
  {
   "cell_type": "code",
   "execution_count": 111,
   "id": "6e9f16d8",
   "metadata": {},
   "outputs": [
    {
     "name": "stdout",
     "output_type": "stream",
     "text": [
      "transfer learn transform self supervis learn\n"
     ]
    },
    {
     "data": {
      "text/plain": [
       "['self-supervised-learning', 'transfer-learning', 'transformers']"
      ]
     },
     "execution_count": 111,
     "metadata": {},
     "output_type": "execute_result"
    }
   ],
   "source": [
    "# Infer\n",
    "text = \"Transfer learning with transformers for self-supervised learning\"\n",
    "print (preprocess(text, stem=True))\n",
    "get_classes(text=preprocess(text, stem=True), aliases=aliases, tags_dict=tags_dict)"
   ]
  },
  {
   "cell_type": "markdown",
   "id": "7f38532e",
   "metadata": {},
   "source": [
    "Now let's see what happens when we replace the word transformers with BERT. Sure we can add this as an alias but doing these kinds of ad-hoc updates can quickly add overhead. This is where it makes sense to learn from the data as opposed to creating explicit rules. "
   ]
  },
  {
   "cell_type": "code",
   "execution_count": 112,
   "id": "6b588d3e",
   "metadata": {},
   "outputs": [
    {
     "name": "stdout",
     "output_type": "stream",
     "text": [
      "transfer learn bert self supervis learn\n"
     ]
    },
    {
     "data": {
      "text/plain": [
       "['self-supervised-learning', 'transfer-learning']"
      ]
     },
     "execution_count": 112,
     "metadata": {},
     "output_type": "execute_result"
    }
   ],
   "source": [
    "# Infer\n",
    "text = \"Transfer learning with BERT for self-supervised learning\"\n",
    "print (preprocess(text, stem=True))\n",
    "get_classes(text=preprocess(text, stem=True), aliases=aliases, tags_dict=tags_dict)"
   ]
  },
  {
   "cell_type": "markdown",
   "id": "555095a2",
   "metadata": {},
   "source": [
    "<u>limitations: we failed to generalize or learn any implicit patterns to predict the labels because we treat the tokens in our input as isolated entities."
   ]
  },
  {
   "cell_type": "markdown",
   "id": "d7920137",
   "metadata": {},
   "source": [
    "### Simple ML\n",
    "<i><u>motivation</u></i>:\n",
    "- **representation**: use term frequency-inverse document frequency (TF-IDF) to capture the significance of a token to a particular input with respect to all the inputs, as opposed to treating the words in our input text as isolated tokens.\n",
    "- **architecture**: we want our model to meaningfully extract the encoded signal to predict the output labels.\n",
    "\n",
    "So far we've treated the words in our input text as isolated tokens and we haven't really captured any meaning between tokens. Let's use term frequency–inverse document frequency (TF-IDF) to capture the significance of a token to a particular input with respect to all the inputs."
   ]
  },
  {
   "cell_type": "code",
   "execution_count": 113,
   "id": "31c151c7",
   "metadata": {},
   "outputs": [],
   "source": [
    "from sklearn.ensemble import RandomForestClassifier\n",
    "from sklearn.ensemble import GradientBoostingClassifier\n",
    "from sklearn.linear_model import LogisticRegression\n",
    "from sklearn.multiclass import OneVsRestClassifier\n",
    "from sklearn.neighbors import KNeighborsClassifier\n",
    "from sklearn.svm import LinearSVC"
   ]
  },
  {
   "cell_type": "code",
   "execution_count": 114,
   "id": "841abcb4",
   "metadata": {},
   "outputs": [],
   "source": [
    "from sklearn import metrics\n",
    "from sklearn.feature_extraction.text import TfidfVectorizer\n",
    "from sklearn.metrics import accuracy_score, precision_score, recall_score\n",
    "from sklearn.metrics import precision_recall_curve\n",
    "from sklearn.preprocessing import MultiLabelBinarizer"
   ]
  },
  {
   "cell_type": "code",
   "execution_count": 115,
   "id": "0380f429",
   "metadata": {},
   "outputs": [],
   "source": [
    "# Set seeds\n",
    "set_seeds()"
   ]
  },
  {
   "cell_type": "code",
   "execution_count": 116,
   "id": "25aacca1",
   "metadata": {},
   "outputs": [],
   "source": [
    "# Get data splits\n",
    "preprocessed_df = df.copy()\n",
    "preprocessed_df.text = preprocessed_df.text.apply(preprocess, lower=True, stem=True)\n",
    "X_train, X_val, X_test, y_train, y_val, y_test, label_encoder = get_data_splits(preprocessed_df)"
   ]
  },
  {
   "cell_type": "code",
   "execution_count": 117,
   "id": "5263208b",
   "metadata": {},
   "outputs": [
    {
     "name": "stdout",
     "output_type": "stream",
     "text": [
      "medaci medic text mine inform extract spaci\n",
      "(1023, 2555)\n",
      "  (0, 2107)\t0.39627427052314795\n",
      "  (0, 835)\t0.3204607555050495\n",
      "  (0, 1168)\t0.3267707685234761\n",
      "  (0, 1440)\t0.41855042400200904\n",
      "  (0, 2285)\t0.25186626128992357\n",
      "  (0, 1412)\t0.4064798204287959\n",
      "  (0, 1409)\t0.4792134765600868\n"
     ]
    }
   ],
   "source": [
    "# Tf-idf\n",
    "vectorizer = TfidfVectorizer()\n",
    "print (X_train[0])\n",
    "X_train = vectorizer.fit_transform(X_train)\n",
    "X_val = vectorizer.transform(X_val)\n",
    "X_test = vectorizer.transform(X_test)\n",
    "print (X_train.shape)\n",
    "print (X_train[0]) # scipy.sparse.csr_matrix"
   ]
  },
  {
   "cell_type": "code",
   "execution_count": 118,
   "id": "a825d7d7",
   "metadata": {},
   "outputs": [],
   "source": [
    "def fit_and_evaluate(model):\n",
    "    \"\"\"Fit and evaluate each model.\"\"\"\n",
    "    model.fit(X_train, y_train)\n",
    "    y_pred = model.predict(X_test)\n",
    "    metrics = precision_recall_fscore_support(y_test, y_pred, average=\"weighted\")\n",
    "    return {\"precision\": metrics[0], \"recall\": metrics[1], \"f1\": metrics[2]}"
   ]
  },
  {
   "cell_type": "code",
   "execution_count": 119,
   "id": "58066af1",
   "metadata": {},
   "outputs": [
    {
     "name": "stdout",
     "output_type": "stream",
     "text": [
      "{\n",
      "  \"logistic-regression\": {\n",
      "    \"precision\": 0.652999872400153,\n",
      "    \"recall\": 0.20824295010845986,\n",
      "    \"f1\": 0.30274575760405037\n",
      "  },\n",
      "  \"k-nearest-neighbors\": {\n",
      "    \"precision\": 0.744043608940891,\n",
      "    \"recall\": 0.4164859002169197,\n",
      "    \"f1\": 0.5110370346848946\n",
      "  },\n",
      "  \"random-forest\": {\n",
      "    \"precision\": 0.8096921261940099,\n",
      "    \"recall\": 0.3600867678958785,\n",
      "    \"f1\": 0.47912949187414633\n",
      "  },\n",
      "  \"gradient-boosting-machine\": {\n",
      "    \"precision\": 0.8529361636194608,\n",
      "    \"recall\": 0.5921908893709328,\n",
      "    \"f1\": 0.6861105624740579\n",
      "  },\n",
      "  \"support-vector-machine\": {\n",
      "    \"precision\": 0.8702207090684824,\n",
      "    \"recall\": 0.5054229934924078,\n",
      "    \"f1\": 0.622936904757726\n",
      "  }\n",
      "}\n"
     ]
    }
   ],
   "source": [
    "# Models\n",
    "performance = {}\n",
    "performance[\"logistic-regression\"] = fit_and_evaluate(OneVsRestClassifier(\n",
    "    LogisticRegression(), n_jobs=1))\n",
    "performance[\"k-nearest-neighbors\"] = fit_and_evaluate(\n",
    "    KNeighborsClassifier())\n",
    "performance[\"random-forest\"] = fit_and_evaluate(\n",
    "    RandomForestClassifier(n_jobs=-1))\n",
    "performance[\"gradient-boosting-machine\"] = fit_and_evaluate(OneVsRestClassifier(\n",
    "    GradientBoostingClassifier()))\n",
    "performance[\"support-vector-machine\"] = fit_and_evaluate(OneVsRestClassifier(\n",
    "    LinearSVC(), n_jobs=-1))\n",
    "print (json.dumps(performance, indent=2))"
   ]
  },
  {
   "cell_type": "markdown",
   "id": "6dce9f2c",
   "metadata": {},
   "source": [
    "<u><i>limitations</i></u>:\n",
    "\n",
    "- **representation**: TF-IDF representations don't encapsulate much signal beyond frequency but we require more fine-grained token representations.\n",
    "- **architecture**: we want to develop models that can use better represented encodings in a more contextual manner.\n"
   ]
  },
  {
   "cell_type": "markdown",
   "id": "e934cf15",
   "metadata": {},
   "source": [
    "### Distributed training\n",
    "\n",
    "All the training we need to do for our application happens on one worker with one accelerator (GPU), however, we'll want to consider distributed training for very large models or when dealing with large datasets. Distributed training can involve:\n",
    "\n",
    "- **data parallelism**: workers received different slices of the larger dataset.\n",
    "    - synchronous training uses AllReduce to aggregate gradients and update all the workers weights at the end of each batch (synchronous).\n",
    "    - asynchronous training uses a universal parameter server to update weights as each worker trains on its slice of data (asynchronous).\n",
    "- **model parallelism**: all workers use the same dataset but the model is split amongst them (more difficult to implement compared to data parallelism because it's difficult to isolate and combine signal from backpropagation).\n",
    "\n",
    "There are lots of options for applying distributed training such as with PyTorch's distributed package, Ray, Horovd, etc."
   ]
  },
  {
   "cell_type": "markdown",
   "id": "09b91e70",
   "metadata": {},
   "source": [
    "## CNN w/ Embeddings\n",
    "<u><i>motivaion</i></u>:\n",
    "- **representation**: we want to have more robust (split tokens to characters) and meaningful embedding-based representations for our input tokens.\n",
    "- **architecture**: we want to process our encoded inputs using convolution (CNN) filters that can learn to analyse windows of embedded tokens to extract meaningful signal."
   ]
  },
  {
   "cell_type": "markdown",
   "id": "1b94f24d",
   "metadata": {},
   "source": [
    "### Setup"
   ]
  },
  {
   "cell_type": "code",
   "execution_count": 120,
   "id": "49185f05",
   "metadata": {},
   "outputs": [],
   "source": [
    "import math\n",
    "import torch\n",
    "import torch.nn as nn\n",
    "import torch.nn.functional as F"
   ]
  },
  {
   "cell_type": "code",
   "execution_count": 121,
   "id": "58bc91dd",
   "metadata": {},
   "outputs": [],
   "source": [
    "# Set seeds\n",
    "set_seeds()"
   ]
  },
  {
   "cell_type": "code",
   "execution_count": 122,
   "id": "a1debd7a",
   "metadata": {},
   "outputs": [],
   "source": [
    "# Get data splits\n",
    "preprocessed_df = df.copy()\n",
    "preprocessed_df.text = preprocessed_df.text.apply(preprocess, lower=True)\n",
    "X_train, X_val, X_test, y_train, y_val, y_test, label_encoder = get_data_splits(preprocessed_df)\n",
    "X_test_raw = X_test  # use for later"
   ]
  },
  {
   "cell_type": "code",
   "execution_count": 123,
   "id": "9c6be740",
   "metadata": {},
   "outputs": [],
   "source": [
    "# Split DataFrames\n",
    "train_df = pd.DataFrame({\"text\": X_train, \"tags\": label_encoder.decode(y_train)})\n",
    "val_df = pd.DataFrame({\"text\": X_val, \"tags\": label_encoder.decode(y_val)})\n",
    "test_df = pd.DataFrame({\"text\": X_test, \"tags\": label_encoder.decode(y_test)})"
   ]
  },
  {
   "cell_type": "code",
   "execution_count": 124,
   "id": "3ac734eb",
   "metadata": {},
   "outputs": [
    {
     "data": {
      "text/html": [
       "<div>\n",
       "<style scoped>\n",
       "    .dataframe tbody tr th:only-of-type {\n",
       "        vertical-align: middle;\n",
       "    }\n",
       "\n",
       "    .dataframe tbody tr th {\n",
       "        vertical-align: top;\n",
       "    }\n",
       "\n",
       "    .dataframe thead th {\n",
       "        text-align: right;\n",
       "    }\n",
       "</style>\n",
       "<table border=\"1\" class=\"dataframe\">\n",
       "  <thead>\n",
       "    <tr style=\"text-align: right;\">\n",
       "      <th></th>\n",
       "      <th>text</th>\n",
       "      <th>tags</th>\n",
       "    </tr>\n",
       "  </thead>\n",
       "  <tbody>\n",
       "    <tr>\n",
       "      <th>0</th>\n",
       "      <td>medacy medical text mining information extract...</td>\n",
       "      <td>[natural-language-processing]</td>\n",
       "    </tr>\n",
       "    <tr>\n",
       "      <th>1</th>\n",
       "      <td>pytorch tutorial deep learning researchers rep...</td>\n",
       "      <td>[autoencoders, computer-vision, generative-adv...</td>\n",
       "    </tr>\n",
       "    <tr>\n",
       "      <th>2</th>\n",
       "      <td>deltapy tabular data augmentation feature engi...</td>\n",
       "      <td>[data-augmentation]</td>\n",
       "    </tr>\n",
       "    <tr>\n",
       "      <th>3</th>\n",
       "      <td>graph convolution structured documents convert...</td>\n",
       "      <td>[computer-vision, graph-neural-networks, graphs]</td>\n",
       "    </tr>\n",
       "    <tr>\n",
       "      <th>4</th>\n",
       "      <td>illustrated bert elmo co nlp cracked transfer ...</td>\n",
       "      <td>[attention, embeddings, language-modeling, nat...</td>\n",
       "    </tr>\n",
       "  </tbody>\n",
       "</table>\n",
       "</div>"
      ],
      "text/plain": [
       "                                                text  \\\n",
       "0  medacy medical text mining information extract...   \n",
       "1  pytorch tutorial deep learning researchers rep...   \n",
       "2  deltapy tabular data augmentation feature engi...   \n",
       "3  graph convolution structured documents convert...   \n",
       "4  illustrated bert elmo co nlp cracked transfer ...   \n",
       "\n",
       "                                                tags  \n",
       "0                      [natural-language-processing]  \n",
       "1  [autoencoders, computer-vision, generative-adv...  \n",
       "2                                [data-augmentation]  \n",
       "3   [computer-vision, graph-neural-networks, graphs]  \n",
       "4  [attention, embeddings, language-modeling, nat...  "
      ]
     },
     "execution_count": 124,
     "metadata": {},
     "output_type": "execute_result"
    }
   ],
   "source": [
    "train_df.head()"
   ]
  },
  {
   "cell_type": "code",
   "execution_count": 125,
   "id": "fc605cdd",
   "metadata": {},
   "outputs": [
    {
     "name": "stdout",
     "output_type": "stream",
     "text": [
      "cpu\n"
     ]
    }
   ],
   "source": [
    "# Set device\n",
    "cuda = True\n",
    "device = torch.device(\"cuda\" if (\n",
    "    torch.cuda.is_available() and cuda) else \"cpu\")\n",
    "torch.set_default_tensor_type(\"torch.FloatTensor\")\n",
    "if device.type == \"cuda\":\n",
    "    torch.set_default_tensor_type(\"torch.cuda.FloatTensor\")\n",
    "print (device)"
   ]
  },
  {
   "cell_type": "markdown",
   "id": "0a94a77c",
   "metadata": {},
   "source": [
    "### Tokenizer"
   ]
  },
  {
   "cell_type": "markdown",
   "id": "547425af",
   "metadata": {},
   "source": [
    "We're going to tokenize our input text as character tokens so we can be robust to spelling errors and learn to generalize across tags. (ex. learning that RoBERTa, or any other future BERT based archiecture, warrants same tag as BERT)."
   ]
  },
  {
   "cell_type": "code",
   "execution_count": 126,
   "id": "c35e28fa",
   "metadata": {},
   "outputs": [],
   "source": [
    "class Tokenizer(object):\n",
    "    def __init__(self, char_level, num_tokens=None,\n",
    "                 pad_token=\"<PAD>\", oov_token=\"<UNK>\",\n",
    "                 token_to_index=None):\n",
    "        self.char_level = char_level\n",
    "        self.separator = \"\" if self.char_level else \" \"\n",
    "        if num_tokens: num_tokens -= 2 # pad + unk tokens\n",
    "        self.num_tokens = num_tokens\n",
    "        self.pad_token = pad_token\n",
    "        self.oov_token = oov_token\n",
    "        if not token_to_index:\n",
    "            token_to_index = {pad_token: 0, oov_token: 1}\n",
    "        self.token_to_index = token_to_index\n",
    "        self.index_to_token = {v: k for k, v in self.token_to_index.items()}\n",
    "\n",
    "    def __len__(self):\n",
    "        return len(self.token_to_index)\n",
    "\n",
    "    def __str__(self):\n",
    "        return f\"<Tokenizer(num_tokens={len(self)})>\"\n",
    "\n",
    "    def fit_on_texts(self, texts):\n",
    "        if not self.char_level:\n",
    "            texts = [text.split(\" \") for text in texts]\n",
    "        all_tokens = [token for text in texts for token in text]\n",
    "        counts = Counter(all_tokens).most_common(self.num_tokens)\n",
    "        self.min_token_freq = counts[-1][1]\n",
    "        for token, count in counts:\n",
    "            index = len(self)\n",
    "            self.token_to_index[token] = index\n",
    "            self.index_to_token[index] = token\n",
    "        return self\n",
    "\n",
    "    def texts_to_sequences(self, texts):\n",
    "        sequences = []\n",
    "        for text in texts:\n",
    "            if not self.char_level:\n",
    "                text = text.split(\" \")\n",
    "            sequence = []\n",
    "            for token in text:\n",
    "                sequence.append(self.token_to_index.get(\n",
    "                    token, self.token_to_index[self.oov_token]))\n",
    "            sequences.append(np.asarray(sequence))\n",
    "        return sequences\n",
    "\n",
    "    def sequences_to_texts(self, sequences):\n",
    "        texts = []\n",
    "        for sequence in sequences:\n",
    "            text = []\n",
    "            for index in sequence:\n",
    "                text.append(self.index_to_token.get(index, self.oov_token))\n",
    "            texts.append(self.separator.join([token for token in text]))\n",
    "        return texts\n",
    "\n",
    "    def save(self, fp):\n",
    "        with open(fp, \"w\") as fp:\n",
    "            contents = {\n",
    "                \"char_level\": self.char_level,\n",
    "                \"oov_token\": self.oov_token,\n",
    "                \"token_to_index\": self.token_to_index\n",
    "            }\n",
    "            json.dump(contents, fp, indent=4, sort_keys=False)\n",
    "\n",
    "    @classmethod\n",
    "    def load(cls, fp):\n",
    "        with open(fp, \"r\") as fp:\n",
    "            kwargs = json.load(fp=fp)\n",
    "        return cls(**kwargs)"
   ]
  },
  {
   "cell_type": "code",
   "execution_count": 127,
   "id": "a00bbbac",
   "metadata": {},
   "outputs": [
    {
     "name": "stdout",
     "output_type": "stream",
     "text": [
      "<Tokenizer(num_tokens=39)>\n"
     ]
    }
   ],
   "source": [
    "# Tokenize\n",
    "char_level = True\n",
    "tokenizer = Tokenizer(char_level=char_level)\n",
    "tokenizer.fit_on_texts(texts=X_train)\n",
    "vocab_size = len(tokenizer)\n",
    "print (tokenizer)"
   ]
  },
  {
   "cell_type": "code",
   "execution_count": 128,
   "id": "aa7b8366",
   "metadata": {},
   "outputs": [
    {
     "data": {
      "text/plain": [
       "{'<PAD>': 0,\n",
       " '<UNK>': 1,\n",
       " ' ': 2,\n",
       " 'e': 3,\n",
       " 'i': 4,\n",
       " 'n': 5,\n",
       " 't': 6,\n",
       " 'a': 7,\n",
       " 'r': 8,\n",
       " 's': 9,\n",
       " 'o': 10,\n",
       " 'l': 11,\n",
       " 'c': 12,\n",
       " 'p': 13,\n",
       " 'd': 14,\n",
       " 'g': 15,\n",
       " 'm': 16,\n",
       " 'u': 17,\n",
       " 'h': 18,\n",
       " 'f': 19,\n",
       " 'b': 20,\n",
       " 'y': 21,\n",
       " 'v': 22,\n",
       " 'w': 23,\n",
       " 'k': 24,\n",
       " 'x': 25,\n",
       " 'j': 26,\n",
       " 'z': 27,\n",
       " '2': 28,\n",
       " 'q': 29,\n",
       " '0': 30,\n",
       " '1': 31,\n",
       " '3': 32,\n",
       " '5': 33,\n",
       " '9': 34,\n",
       " '4': 35,\n",
       " '6': 36,\n",
       " '8': 37,\n",
       " '7': 38}"
      ]
     },
     "execution_count": 128,
     "metadata": {},
     "output_type": "execute_result"
    }
   ],
   "source": [
    "tokenizer.token_to_index"
   ]
  },
  {
   "cell_type": "code",
   "execution_count": 129,
   "id": "1628bf30",
   "metadata": {},
   "outputs": [
    {
     "name": "stdout",
     "output_type": "stream",
     "text": [
      "Text to indices:\n",
      "  (preprocessed) → medacy medical text mining information extraction spacy\n",
      "  (tokenized) → [16  3 14  7 12 21  2 16  3 14  4 12  7 11  2  6  3 25  6  2 16  4  5  4\n",
      "  5 15  2  4  5 19 10  8 16  7  6  4 10  5  2  3 25  6  8  7 12  6  4 10\n",
      "  5  2  9 13  7 12 21]\n"
     ]
    }
   ],
   "source": [
    "# Convert texts to sequences of indices\n",
    "X_train = np.array(tokenizer.texts_to_sequences(X_train))\n",
    "X_val = np.array(tokenizer.texts_to_sequences(X_val))\n",
    "X_test = np.array(tokenizer.texts_to_sequences(X_test))\n",
    "preprocessed_text = tokenizer.sequences_to_texts([X_train[0]])[0]\n",
    "print (\"Text to indices:\\n\"\n",
    "    f\"  (preprocessed) → {preprocessed_text}\\n\"\n",
    "    f\"  (tokenized) → {X_train[0]}\")"
   ]
  },
  {
   "cell_type": "markdown",
   "id": "638a401e",
   "metadata": {},
   "source": [
    "### Data Imbalance\n",
    "We'll factor class weights in our objective function (binary cross entropy with logits) to help with class imbalance. There are many other techniques such as over sampling from underrepresented classes, undersampling, etc. but we'll cover these in a separate unit lesson on data imbalance."
   ]
  },
  {
   "cell_type": "code",
   "execution_count": 139,
   "id": "aa713948",
   "metadata": {},
   "outputs": [
    {
     "name": "stdout",
     "output_type": "stream",
     "text": [
      "class counts: [120  41 388 106  41  75  34  73  51  78  64  51  55  93  51 424  33  69\n",
      "  30  51 258  32  49  59  57  60  48  40 213  40  34  46 196  39  39],\n",
      "class weights: {0: 0.008333333333333333, 1: 0.024390243902439025, 2: 0.002577319587628866, 3: 0.009433962264150943, 4: 0.024390243902439025, 5: 0.013333333333333334, 6: 0.029411764705882353, 7: 0.0136986301369863, 8: 0.0196078431372549, 9: 0.01282051282051282, 10: 0.015625, 11: 0.0196078431372549, 12: 0.01818181818181818, 13: 0.010752688172043012, 14: 0.0196078431372549, 15: 0.0023584905660377358, 16: 0.030303030303030304, 17: 0.014492753623188406, 18: 0.03333333333333333, 19: 0.0196078431372549, 20: 0.003875968992248062, 21: 0.03125, 22: 0.02040816326530612, 23: 0.01694915254237288, 24: 0.017543859649122806, 25: 0.016666666666666666, 26: 0.020833333333333332, 27: 0.025, 28: 0.004694835680751174, 29: 0.025, 30: 0.029411764705882353, 31: 0.021739130434782608, 32: 0.00510204081632653, 33: 0.02564102564102564, 34: 0.02564102564102564}\n"
     ]
    }
   ],
   "source": [
    "# Class weights\n",
    "counts = np.bincount([label_encoder.class_to_index[class_] for class_ in all_tags])\n",
    "class_weights = {i: 1.0/count for i, count in enumerate(counts)}\n",
    "print (f\"class counts: {counts},\\nclass weights: {class_weights}\")"
   ]
  },
  {
   "cell_type": "markdown",
   "id": "74db78e7",
   "metadata": {},
   "source": [
    "### Datasets\n",
    "\n",
    "We're going to place our data into a `Dataset` and use a `DataLoader`\n",
    "to efficiently create batches for training and evaluation."
   ]
  },
  {
   "cell_type": "code",
   "execution_count": 130,
   "id": "b763444f",
   "metadata": {},
   "outputs": [],
   "source": [
    "def pad_sequences(sequences, max_seq_len=0):\n",
    "    \"\"\"Pad sequences to max length in sequence.\"\"\"\n",
    "    max_seq_len = max(max_seq_len, max(len(sequence) for sequence in sequences))\n",
    "    padded_sequences = np.zeros((len(sequences), max_seq_len))\n",
    "    for i, sequence in enumerate(sequences):\n",
    "        padded_sequences[i][:len(sequence)] = sequence\n",
    "    return padded_sequences"
   ]
  },
  {
   "cell_type": "code",
   "execution_count": 131,
   "id": "df86f73e",
   "metadata": {},
   "outputs": [],
   "source": [
    "class CNNTextDataset(torch.utils.data.Dataset):\n",
    "    def __init__(self, X, y, max_filter_size):\n",
    "        self.X = X\n",
    "        self.y = y\n",
    "        self.max_filter_size = max_filter_size\n",
    "\n",
    "    def __len__(self):\n",
    "        return len(self.y)\n",
    "\n",
    "    def __str__(self):\n",
    "        return f\"<Dataset(N={len(self)})>\"\n",
    "\n",
    "    def __getitem__(self, index):\n",
    "        X = self.X[index]\n",
    "        y = self.y[index]\n",
    "        return [X, y]\n",
    "\n",
    "    def collate_fn(self, batch):\n",
    "        \"\"\"Processing on a batch.\"\"\"\n",
    "        # Get inputs\n",
    "        batch = np.array(batch, dtype=object)\n",
    "        X = batch[:, 0]\n",
    "        y = np.stack(batch[:, 1], axis=0)\n",
    "\n",
    "        # Pad inputs\n",
    "        X = pad_sequences(sequences=X, max_seq_len=self.max_filter_size)\n",
    "\n",
    "        # Cast\n",
    "        X = torch.LongTensor(X.astype(np.int32))\n",
    "        y = torch.FloatTensor(y.astype(np.int32))\n",
    "\n",
    "        return X, y\n",
    "\n",
    "    def create_dataloader(self, batch_size, shuffle=False, drop_last=False):\n",
    "        return torch.utils.data.DataLoader(\n",
    "            dataset=self,\n",
    "            batch_size=batch_size,\n",
    "            collate_fn=self.collate_fn,\n",
    "            shuffle=shuffle,\n",
    "            drop_last=drop_last,\n",
    "            pin_memory=True)"
   ]
  },
  {
   "cell_type": "code",
   "execution_count": 132,
   "id": "12117195",
   "metadata": {},
   "outputs": [
    {
     "name": "stdout",
     "output_type": "stream",
     "text": [
      "Data splits:\n",
      "  Train dataset:<Dataset(N=1023)>\n",
      "  Val dataset: <Dataset(N=215)>\n",
      "  Test dataset: <Dataset(N=206)>\n",
      "Sample point:\n",
      "  X: [16  3 14  7 12 21  2 16  3 14  4 12  7 11  2  6  3 25  6  2 16  4  5  4\n",
      "  5 15  2  4  5 19 10  8 16  7  6  4 10  5  2  3 25  6  8  7 12  6  4 10\n",
      "  5  2  9 13  7 12 21]\n",
      "  y: [0 0 0 0 0 0 0 0 0 0 0 0 0 0 0 1 0 0 0 0 0 0 0 0 0 0 0 0 0 0 0 0 0 0 0]\n"
     ]
    }
   ],
   "source": [
    "# Create datasets\n",
    "filter_sizes = list(range(1, 11))\n",
    "train_dataset = CNNTextDataset(\n",
    "    X=X_train, y=y_train, max_filter_size=max(filter_sizes))\n",
    "val_dataset = CNNTextDataset(\n",
    "    X=X_val, y=y_val, max_filter_size=max(filter_sizes))\n",
    "test_dataset = CNNTextDataset(\n",
    "    X=X_test, y=y_test, max_filter_size=max(filter_sizes))\n",
    "print (\"Data splits:\\n\"\n",
    "    f\"  Train dataset:{train_dataset.__str__()}\\n\"\n",
    "    f\"  Val dataset: {val_dataset.__str__()}\\n\"\n",
    "    f\"  Test dataset: {test_dataset.__str__()}\\n\"\n",
    "    \"Sample point:\\n\"\n",
    "    f\"  X: {train_dataset[0][0]}\\n\"\n",
    "    f\"  y: {train_dataset[0][1]}\")"
   ]
  },
  {
   "cell_type": "code",
   "execution_count": 133,
   "id": "b636f426",
   "metadata": {},
   "outputs": [
    {
     "name": "stdout",
     "output_type": "stream",
     "text": [
      "Sample batch:\n",
      "  X: [64, 185]\n",
      "  y: [64, 35]\n"
     ]
    }
   ],
   "source": [
    "# Create dataloaders\n",
    "batch_size = 64\n",
    "train_dataloader = train_dataset.create_dataloader(\n",
    "    batch_size=batch_size)\n",
    "val_dataloader = val_dataset.create_dataloader(\n",
    "    batch_size=batch_size)\n",
    "test_dataloader = test_dataset.create_dataloader(\n",
    "    batch_size=batch_size)\n",
    "batch_X, batch_y = next(iter(train_dataloader))\n",
    "print (\"Sample batch:\\n\"\n",
    "    f\"  X: {list(batch_X.size())}\\n\"\n",
    "    f\"  y: {list(batch_y.size())}\")"
   ]
  },
  {
   "cell_type": "markdown",
   "id": "02f291f0",
   "metadata": {},
   "source": [
    "### Model\n",
    "\n",
    "We'll be using a convolutional neural network on top of our embedded tokens to extract meaningful spatial signal. This time, we'll be using many filter widths to act as n-gram feature extractors. If you're not familiar with CNNs be sure to check out the CNN lesson where we walkthrough every component of the architecture.\n",
    "\n",
    "Let's visualize the model's forward pass.\n",
    "1. We'll first tokenize our inputs (`batch_size`, `max_seq_len`).\n",
    "2. Then we'll embed our tokenized inputs (`batch_size`, `max_seq_len`, `embedding_dim`).\n",
    "3. We'll apply convolution via filters (`filter_size`, `vocab_size`, `num_filters`) followed by batch normalization. Our filters act as character level n-gram detecors. We have three different filter sizes (2, 3 and 4) and they will act as bi-gram, tri-gram and 4-gram feature extractors, respectivelyy.\n",
    "4. We'll apply 1D global max pooling which will extract the most relevant information from the feature maps for making the decision.\n",
    "5. We feed the pool outputs to a fully-connected (FC) layer (with dropout).\n",
    "6. We use one more FC layer with softmax to derive class probabilities.\n"
   ]
  },
  {
   "cell_type": "code",
   "execution_count": 134,
   "id": "d8315174",
   "metadata": {},
   "outputs": [],
   "source": [
    "# Arguments\n",
    "embedding_dim = 128\n",
    "num_filters = 128\n",
    "hidden_dim = 128\n",
    "dropout_p = 0.5"
   ]
  },
  {
   "cell_type": "code",
   "execution_count": 135,
   "id": "83994227",
   "metadata": {},
   "outputs": [],
   "source": [
    "class CNN(nn.Module):\n",
    "    def __init__(self, embedding_dim, vocab_size, num_filters, filter_sizes,\n",
    "                 hidden_dim, dropout_p, num_classes, padding_idx=0):\n",
    "        super(CNN, self).__init__()\n",
    "\n",
    "        # Initialize embeddings\n",
    "        self.embeddings = nn.Embedding(\n",
    "                embedding_dim=embedding_dim, num_embeddings=vocab_size,\n",
    "                padding_idx=padding_idx)\n",
    "\n",
    "        # Conv weights\n",
    "        self.filter_sizes = filter_sizes\n",
    "        self.conv = nn.ModuleList(\n",
    "            [nn.Conv1d(in_channels=embedding_dim,\n",
    "                       out_channels=num_filters,\n",
    "                       kernel_size=f) for f in filter_sizes])\n",
    "\n",
    "        # FC weights\n",
    "        self.dropout = nn.Dropout(dropout_p)\n",
    "        self.fc1 = nn.Linear(num_filters*len(filter_sizes), hidden_dim)\n",
    "        self.fc2 = nn.Linear(hidden_dim, num_classes)\n",
    "\n",
    "    def forward(self, inputs, channel_first=False):\n",
    "\n",
    "        # Embed\n",
    "        x_in, = inputs\n",
    "        x_in = self.embeddings(x_in)\n",
    "        if not channel_first:\n",
    "            x_in = x_in.transpose(1, 2)  # (N, channels, sequence length)\n",
    "\n",
    "        z = []\n",
    "        max_seq_len = x_in.shape[2]\n",
    "        for i, f in enumerate(self.filter_sizes):\n",
    "\n",
    "            # `SAME` padding\n",
    "            padding_left = int(\n",
    "                (self.conv[i].stride[0]*(max_seq_len-1) - max_seq_len + self.filter_sizes[i])/2)\n",
    "            padding_right = int(math.ceil(\n",
    "                (self.conv[i].stride[0]*(max_seq_len-1) - max_seq_len + self.filter_sizes[i])/2))\n",
    "\n",
    "            # Conv\n",
    "            _z = self.conv[i](F.pad(x_in, (padding_left, padding_right)))\n",
    "\n",
    "            # Pool\n",
    "            _z = F.max_pool1d(_z, _z.size(2)).squeeze(2)\n",
    "            z.append(_z)\n",
    "\n",
    "        # Concat outputs\n",
    "        z = torch.cat(z, 1)\n",
    "\n",
    "        # FC\n",
    "        z = self.fc1(z)\n",
    "        z = self.dropout(z)\n",
    "        z = self.fc2(z)\n",
    "\n",
    "        return z"
   ]
  },
  {
   "cell_type": "markdown",
   "id": "99366b6e",
   "metadata": {},
   "source": [
    "**VALID**: no padding, the filters only use the \"valid\" values in the input. If the filter cannot reach all the input values (filters go left to right), the extra values on the right are dropped.\n",
    "**SAME**: adds padding evenly to the right (preferred) and left sides of the input so that all values in the input are processed.\n",
    "\n",
    "We're adding `SAME` padding so that the convolutional outputs are the same shape as our inputs. The amount of padding for the SAME padding can be determined using the same equation. We want out output to have the same width as our input, so we solve for P.\n",
    "\n",
    "If is not a whole number, we round up (using `math.ceil`) and place the extra padding on the right side."
   ]
  },
  {
   "cell_type": "code",
   "execution_count": 136,
   "id": "6811cdf0",
   "metadata": {},
   "outputs": [
    {
     "name": "stdout",
     "output_type": "stream",
     "text": [
      "<bound method Module.named_parameters of CNN(\n",
      "  (embeddings): Embedding(39, 128, padding_idx=0)\n",
      "  (conv): ModuleList(\n",
      "    (0): Conv1d(128, 128, kernel_size=(1,), stride=(1,))\n",
      "    (1): Conv1d(128, 128, kernel_size=(2,), stride=(1,))\n",
      "    (2): Conv1d(128, 128, kernel_size=(3,), stride=(1,))\n",
      "    (3): Conv1d(128, 128, kernel_size=(4,), stride=(1,))\n",
      "    (4): Conv1d(128, 128, kernel_size=(5,), stride=(1,))\n",
      "    (5): Conv1d(128, 128, kernel_size=(6,), stride=(1,))\n",
      "    (6): Conv1d(128, 128, kernel_size=(7,), stride=(1,))\n",
      "    (7): Conv1d(128, 128, kernel_size=(8,), stride=(1,))\n",
      "    (8): Conv1d(128, 128, kernel_size=(9,), stride=(1,))\n",
      "    (9): Conv1d(128, 128, kernel_size=(10,), stride=(1,))\n",
      "  )\n",
      "  (dropout): Dropout(p=0.5, inplace=False)\n",
      "  (fc1): Linear(in_features=1280, out_features=128, bias=True)\n",
      "  (fc2): Linear(in_features=128, out_features=35, bias=True)\n",
      ")>\n"
     ]
    }
   ],
   "source": [
    "# Initialize model\n",
    "model = CNN(\n",
    "    embedding_dim=embedding_dim, vocab_size=vocab_size,\n",
    "    num_filters=num_filters, filter_sizes=filter_sizes,\n",
    "    hidden_dim=hidden_dim, dropout_p=dropout_p,\n",
    "    num_classes=num_classes)\n",
    "model = model.to(device)\n",
    "print (model.named_parameters)"
   ]
  },
  {
   "cell_type": "markdown",
   "id": "7139dc66",
   "metadata": {},
   "source": [
    "### Training"
   ]
  },
  {
   "cell_type": "code",
   "execution_count": 140,
   "id": "1d73f21c",
   "metadata": {},
   "outputs": [],
   "source": [
    "# Arguments\n",
    "lr = 2e-4\n",
    "num_epochs = 100\n",
    "patience = 10"
   ]
  },
  {
   "cell_type": "code",
   "execution_count": 141,
   "id": "fd6edce3",
   "metadata": {},
   "outputs": [],
   "source": [
    "# Define loss\n",
    "class_weights_tensor = torch.Tensor(np.array(list(class_weights.values())))\n",
    "loss_fn = nn.BCEWithLogitsLoss(weight=class_weights_tensor)"
   ]
  },
  {
   "cell_type": "code",
   "execution_count": 142,
   "id": "792cbc9c",
   "metadata": {},
   "outputs": [],
   "source": [
    "# Define optimizer & scheduler\n",
    "optimizer = torch.optim.Adam(model.parameters(), lr=lr)\n",
    "scheduler = torch.optim.lr_scheduler.ReduceLROnPlateau(\n",
    "    optimizer, mode=\"min\", factor=0.1, patience=5)"
   ]
  },
  {
   "cell_type": "code",
   "execution_count": 143,
   "id": "54cf2034",
   "metadata": {},
   "outputs": [],
   "source": [
    "# Trainer module\n",
    "trainer = Trainer(\n",
    "    model=model, device=device, loss_fn=loss_fn,\n",
    "    optimizer=optimizer, scheduler=scheduler)"
   ]
  },
  {
   "cell_type": "code",
   "execution_count": 144,
   "id": "f4fe4270",
   "metadata": {},
   "outputs": [
    {
     "name": "stdout",
     "output_type": "stream",
     "text": [
      "Epoch: 1 | train_loss: 0.00513, val_loss: 0.00318, lr: 2.00E-04, _patience: 10\n",
      "Epoch: 2 | train_loss: 0.00381, val_loss: 0.00290, lr: 2.00E-04, _patience: 10\n",
      "Epoch: 3 | train_loss: 0.00339, val_loss: 0.00276, lr: 2.00E-04, _patience: 10\n",
      "Epoch: 4 | train_loss: 0.00319, val_loss: 0.00270, lr: 2.00E-04, _patience: 10\n",
      "Epoch: 5 | train_loss: 0.00308, val_loss: 0.00265, lr: 2.00E-04, _patience: 10\n",
      "Epoch: 6 | train_loss: 0.00295, val_loss: 0.00259, lr: 2.00E-04, _patience: 10\n",
      "Epoch: 7 | train_loss: 0.00283, val_loss: 0.00252, lr: 2.00E-04, _patience: 10\n",
      "Epoch: 8 | train_loss: 0.00271, val_loss: 0.00246, lr: 2.00E-04, _patience: 10\n",
      "Epoch: 9 | train_loss: 0.00264, val_loss: 0.00238, lr: 2.00E-04, _patience: 10\n",
      "Epoch: 10 | train_loss: 0.00250, val_loss: 0.00231, lr: 2.00E-04, _patience: 10\n",
      "Epoch: 11 | train_loss: 0.00239, val_loss: 0.00224, lr: 2.00E-04, _patience: 10\n",
      "Epoch: 12 | train_loss: 0.00230, val_loss: 0.00217, lr: 2.00E-04, _patience: 10\n",
      "Epoch: 13 | train_loss: 0.00216, val_loss: 0.00210, lr: 2.00E-04, _patience: 10\n",
      "Epoch: 14 | train_loss: 0.00210, val_loss: 0.00204, lr: 2.00E-04, _patience: 10\n",
      "Epoch: 15 | train_loss: 0.00200, val_loss: 0.00199, lr: 2.00E-04, _patience: 10\n",
      "Epoch: 16 | train_loss: 0.00192, val_loss: 0.00193, lr: 2.00E-04, _patience: 10\n",
      "Epoch: 17 | train_loss: 0.00187, val_loss: 0.00189, lr: 2.00E-04, _patience: 10\n",
      "Epoch: 18 | train_loss: 0.00176, val_loss: 0.00185, lr: 2.00E-04, _patience: 10\n",
      "Epoch: 19 | train_loss: 0.00169, val_loss: 0.00182, lr: 2.00E-04, _patience: 10\n",
      "Epoch: 20 | train_loss: 0.00164, val_loss: 0.00179, lr: 2.00E-04, _patience: 10\n",
      "Epoch: 21 | train_loss: 0.00157, val_loss: 0.00176, lr: 2.00E-04, _patience: 10\n",
      "Epoch: 22 | train_loss: 0.00151, val_loss: 0.00173, lr: 2.00E-04, _patience: 10\n",
      "Epoch: 23 | train_loss: 0.00144, val_loss: 0.00170, lr: 2.00E-04, _patience: 10\n",
      "Epoch: 24 | train_loss: 0.00140, val_loss: 0.00168, lr: 2.00E-04, _patience: 10\n",
      "Epoch: 25 | train_loss: 0.00132, val_loss: 0.00166, lr: 2.00E-04, _patience: 10\n",
      "Epoch: 26 | train_loss: 0.00128, val_loss: 0.00165, lr: 2.00E-04, _patience: 10\n",
      "Epoch: 27 | train_loss: 0.00125, val_loss: 0.00163, lr: 2.00E-04, _patience: 10\n",
      "Epoch: 28 | train_loss: 0.00120, val_loss: 0.00161, lr: 2.00E-04, _patience: 10\n",
      "Epoch: 29 | train_loss: 0.00114, val_loss: 0.00160, lr: 2.00E-04, _patience: 10\n",
      "Epoch: 30 | train_loss: 0.00112, val_loss: 0.00158, lr: 2.00E-04, _patience: 10\n",
      "Epoch: 31 | train_loss: 0.00107, val_loss: 0.00158, lr: 2.00E-04, _patience: 9\n",
      "Epoch: 32 | train_loss: 0.00102, val_loss: 0.00156, lr: 2.00E-04, _patience: 10\n",
      "Epoch: 33 | train_loss: 0.00102, val_loss: 0.00156, lr: 2.00E-04, _patience: 9\n",
      "Epoch: 34 | train_loss: 0.00097, val_loss: 0.00155, lr: 2.00E-04, _patience: 10\n",
      "Epoch: 35 | train_loss: 0.00093, val_loss: 0.00154, lr: 2.00E-04, _patience: 10\n",
      "Epoch: 36 | train_loss: 0.00091, val_loss: 0.00152, lr: 2.00E-04, _patience: 10\n",
      "Epoch: 37 | train_loss: 0.00089, val_loss: 0.00156, lr: 2.00E-04, _patience: 9\n",
      "Epoch: 38 | train_loss: 0.00086, val_loss: 0.00151, lr: 2.00E-04, _patience: 10\n",
      "Epoch: 39 | train_loss: 0.00081, val_loss: 0.00151, lr: 2.00E-04, _patience: 10\n",
      "Epoch: 40 | train_loss: 0.00078, val_loss: 0.00154, lr: 2.00E-04, _patience: 9\n",
      "Epoch: 41 | train_loss: 0.00076, val_loss: 0.00154, lr: 2.00E-04, _patience: 8\n",
      "Epoch: 42 | train_loss: 0.00073, val_loss: 0.00150, lr: 2.00E-04, _patience: 10\n",
      "Epoch: 43 | train_loss: 0.00071, val_loss: 0.00148, lr: 2.00E-04, _patience: 10\n",
      "Epoch: 44 | train_loss: 0.00070, val_loss: 0.00157, lr: 2.00E-04, _patience: 9\n",
      "Epoch: 45 | train_loss: 0.00070, val_loss: 0.00170, lr: 2.00E-04, _patience: 8\n",
      "Epoch: 46 | train_loss: 0.00070, val_loss: 0.00151, lr: 2.00E-04, _patience: 7\n",
      "Epoch: 47 | train_loss: 0.00065, val_loss: 0.00148, lr: 2.00E-04, _patience: 10\n",
      "Epoch: 48 | train_loss: 0.00063, val_loss: 0.00151, lr: 2.00E-04, _patience: 9\n",
      "Epoch: 49 | train_loss: 0.00061, val_loss: 0.00147, lr: 2.00E-04, _patience: 10\n",
      "Epoch: 50 | train_loss: 0.00060, val_loss: 0.00154, lr: 2.00E-04, _patience: 9\n",
      "Epoch: 51 | train_loss: 0.00057, val_loss: 0.00155, lr: 2.00E-04, _patience: 8\n",
      "Epoch: 52 | train_loss: 0.00056, val_loss: 0.00150, lr: 2.00E-04, _patience: 7\n",
      "Epoch: 53 | train_loss: 0.00054, val_loss: 0.00155, lr: 2.00E-04, _patience: 6\n",
      "Epoch: 54 | train_loss: 0.00052, val_loss: 0.00153, lr: 2.00E-04, _patience: 5\n",
      "Epoch: 55 | train_loss: 0.00052, val_loss: 0.00155, lr: 2.00E-05, _patience: 4\n",
      "Epoch: 56 | train_loss: 0.00050, val_loss: 0.00180, lr: 2.00E-05, _patience: 3\n",
      "Epoch: 57 | train_loss: 0.00050, val_loss: 0.00161, lr: 2.00E-05, _patience: 2\n",
      "Epoch: 58 | train_loss: 0.00047, val_loss: 0.00168, lr: 2.00E-05, _patience: 1\n",
      "Stopping early!\n"
     ]
    }
   ],
   "source": [
    "# Train\n",
    "best_model = trainer.train(\n",
    "    num_epochs, patience, train_dataloader, val_dataloader)"
   ]
  },
  {
   "cell_type": "markdown",
   "id": "d399498a",
   "metadata": {},
   "source": [
    "### Evaluation"
   ]
  },
  {
   "cell_type": "code",
   "execution_count": 145,
   "id": "9c2f8632",
   "metadata": {},
   "outputs": [],
   "source": [
    "from pathlib import Path\n",
    "from sklearn.metrics import precision_recall_curve"
   ]
  },
  {
   "cell_type": "code",
   "execution_count": 146,
   "id": "b20820c5",
   "metadata": {},
   "outputs": [
    {
     "data": {
      "text/plain": [
       "<matplotlib.legend.Legend at 0x7f776e05abe0>"
      ]
     },
     "execution_count": 146,
     "metadata": {},
     "output_type": "execute_result"
    },
    {
     "data": {
      "image/png": "[encoded data removed]",
      "text/plain": [
       "<Figure size 432x288 with 1 Axes>"
      ]
     },
     "metadata": {
      "needs_background": "light"
     },
     "output_type": "display_data"
    }
   ],
   "source": [
    "# Threshold-PR curve\n",
    "train_loss, y_true, y_prob = trainer.eval_step(dataloader=train_dataloader)\n",
    "precisions, recalls, thresholds = precision_recall_curve(y_true.ravel(), y_prob.ravel())\n",
    "plt.plot(thresholds, precisions[:-1], \"r--\", label=\"Precision\")\n",
    "plt.plot(thresholds, recalls[:-1], \"b-\", label=\"Recall\")\n",
    "plt.ylabel(\"Performance\")\n",
    "plt.xlabel(\"Threshold\")\n",
    "plt.legend(loc=\"best\")"
   ]
  },
  {
   "cell_type": "code",
   "execution_count": 147,
   "id": "b1481b9d",
   "metadata": {},
   "outputs": [],
   "source": [
    "# Determining the best threshold\n",
    "def find_best_threshold(y_true, y_prob):\n",
    "    \"\"\"Find the best threshold for maximum F1.\"\"\"\n",
    "    precisions, recalls, thresholds = precision_recall_curve(y_true, y_prob)\n",
    "    f1s = (2 * precisions * recalls) / (precisions + recalls)\n",
    "    return thresholds[np.argmax(f1s)]"
   ]
  },
  {
   "cell_type": "code",
   "execution_count": 148,
   "id": "6826502c",
   "metadata": {},
   "outputs": [
    {
     "data": {
      "text/plain": [
       "0.29068902"
      ]
     },
     "execution_count": 148,
     "metadata": {},
     "output_type": "execute_result"
    }
   ],
   "source": [
    "# Best threshold for f1\n",
    "threshold = find_best_threshold(y_true.ravel(), y_prob.ravel())\n",
    "threshold"
   ]
  },
  {
   "cell_type": "markdown",
   "id": "9209730d",
   "metadata": {},
   "source": [
    "**Question**: How can we improve on our process of identifying and using the appropriate threshold?\n",
    "\n",
    "-  Plot PR curves for all classes (not just overall) to ensure a certain global threshold doesn't deliver very poor performance for any particular class\n",
    "- Determine different thresholds for different classes and use them during inference"
   ]
  },
  {
   "cell_type": "code",
   "execution_count": 149,
   "id": "1060e850",
   "metadata": {},
   "outputs": [],
   "source": [
    "# Determine predictions using threshold\n",
    "test_loss, y_true, y_prob = trainer.eval_step(dataloader=test_dataloader)\n",
    "y_pred = np.array([np.where(prob >= threshold, 1, 0) for prob in y_prob])"
   ]
  },
  {
   "cell_type": "code",
   "execution_count": 150,
   "id": "a4f9c4c4",
   "metadata": {},
   "outputs": [
    {
     "name": "stdout",
     "output_type": "stream",
     "text": [
      "{\n",
      "  \"precision\": 0.827096585206665,\n",
      "  \"recall\": 0.559652928416486,\n",
      "  \"f1\": 0.6495474716680674\n",
      "}\n"
     ]
    }
   ],
   "source": [
    "# Evaluate\n",
    "metrics = precision_recall_fscore_support(y_test, y_pred, average=\"weighted\")\n",
    "performance = {\"precision\": metrics[0], \"recall\": metrics[1], \"f1\": metrics[2]}\n",
    "print (json.dumps(performance, indent=2))"
   ]
  },
  {
   "cell_type": "code",
   "execution_count": 151,
   "id": "33fc49a9",
   "metadata": {},
   "outputs": [],
   "source": [
    "# Save artifacts\n",
    "dir = Path(\"cnn\")\n",
    "dir.mkdir(parents=True, exist_ok=True)\n",
    "tokenizer.save(fp=Path(dir, \"tokenzier.json\"))\n",
    "label_encoder.save(fp=Path(dir, \"label_encoder.json\"))\n",
    "torch.save(best_model.state_dict(), Path(dir, \"model.pt\"))\n",
    "with open(Path(dir, \"performance.json\"), \"w\") as fp:\n",
    "    json.dump(performance, indent=2, sort_keys=False, fp=fp)"
   ]
  },
  {
   "cell_type": "markdown",
   "id": "ae723596",
   "metadata": {},
   "source": [
    "### Inference"
   ]
  },
  {
   "cell_type": "code",
   "execution_count": 152,
   "id": "9bdbadba",
   "metadata": {},
   "outputs": [
    {
     "data": {
      "text/plain": [
       "CNN(\n",
       "  (embeddings): Embedding(39, 128, padding_idx=0)\n",
       "  (conv): ModuleList(\n",
       "    (0): Conv1d(128, 128, kernel_size=(1,), stride=(1,))\n",
       "    (1): Conv1d(128, 128, kernel_size=(2,), stride=(1,))\n",
       "    (2): Conv1d(128, 128, kernel_size=(3,), stride=(1,))\n",
       "    (3): Conv1d(128, 128, kernel_size=(4,), stride=(1,))\n",
       "    (4): Conv1d(128, 128, kernel_size=(5,), stride=(1,))\n",
       "    (5): Conv1d(128, 128, kernel_size=(6,), stride=(1,))\n",
       "    (6): Conv1d(128, 128, kernel_size=(7,), stride=(1,))\n",
       "    (7): Conv1d(128, 128, kernel_size=(8,), stride=(1,))\n",
       "    (8): Conv1d(128, 128, kernel_size=(9,), stride=(1,))\n",
       "    (9): Conv1d(128, 128, kernel_size=(10,), stride=(1,))\n",
       "  )\n",
       "  (dropout): Dropout(p=0.5, inplace=False)\n",
       "  (fc1): Linear(in_features=1280, out_features=128, bias=True)\n",
       "  (fc2): Linear(in_features=128, out_features=35, bias=True)\n",
       ")"
      ]
     },
     "execution_count": 152,
     "metadata": {},
     "output_type": "execute_result"
    }
   ],
   "source": [
    "# Load artifacts\n",
    "device = torch.device(\"cpu\")\n",
    "tokenizer = Tokenizer.load(fp=Path(dir, \"tokenzier.json\"))\n",
    "label_encoder = LabelEncoder.load(fp=Path(dir, \"label_encoder.json\"))\n",
    "model = CNN(\n",
    "    embedding_dim=embedding_dim, vocab_size=vocab_size,\n",
    "    num_filters=num_filters, filter_sizes=filter_sizes,\n",
    "    hidden_dim=hidden_dim, dropout_p=dropout_p,\n",
    "    num_classes=num_classes)\n",
    "model.load_state_dict(torch.load(Path(dir, \"model.pt\"), map_location=device))\n",
    "model.to(device)"
   ]
  },
  {
   "cell_type": "code",
   "execution_count": 153,
   "id": "ccdba9d1",
   "metadata": {},
   "outputs": [],
   "source": [
    "# Initialize trainer\n",
    "trainer = Trainer(model=model, device=device)"
   ]
  },
  {
   "cell_type": "code",
   "execution_count": 154,
   "id": "74713a5c",
   "metadata": {},
   "outputs": [],
   "source": [
    "# Dataloader\n",
    "text = \"Transfer learning with BERT for self-supervised learning\"\n",
    "X = np.array(tokenizer.texts_to_sequences([preprocess(text)]))\n",
    "y_filler = label_encoder.encode([np.array([label_encoder.classes[0]]*len(X))])\n",
    "dataset = CNNTextDataset(\n",
    "    X=X, y=y_filler, max_filter_size=max(filter_sizes))\n",
    "dataloader = dataset.create_dataloader(\n",
    "    batch_size=batch_size)"
   ]
  },
  {
   "cell_type": "code",
   "execution_count": 155,
   "id": "f3d62671",
   "metadata": {},
   "outputs": [
    {
     "data": {
      "text/plain": [
       "[['attention',\n",
       "  'natural-language-processing',\n",
       "  'self-supervised-learning',\n",
       "  'transfer-learning',\n",
       "  'transformers']]"
      ]
     },
     "execution_count": 155,
     "metadata": {},
     "output_type": "execute_result"
    }
   ],
   "source": [
    "# Inference\n",
    "y_prob = trainer.predict_step(dataloader)\n",
    "y_pred = np.array([np.where(prob >= threshold, 1, 0) for prob in y_prob])\n",
    "label_encoder.decode(y_pred)"
   ]
  },
  {
   "cell_type": "markdown",
   "id": "2f334b0f",
   "metadata": {},
   "source": [
    "*limitations*:\n",
    "\n",
    "- **representation**: embeddings are not contextual.\n",
    "- **architecture**: extracting signal from encoded inputs is limited by filter widths.\n",
    "\n",
    "> Since we're dealing with simple architectures and fast training times, it's a good opportunity to explore tuning and experiment with k-fold cross validation to properly reach any conclusions about performance."
   ]
  },
  {
   "cell_type": "markdown",
   "id": "c247f455",
   "metadata": {},
   "source": [
    "### Tradeoffs\n",
    "\n",
    "We're going to go with the embeddings via CNN approach and optimize it because performance is quite similar to the contextualized embeddings via transformers approach but at much lower cost."
   ]
  },
  {
   "cell_type": "code",
   "execution_count": 156,
   "id": "da66b9af",
   "metadata": {},
   "outputs": [
    {
     "name": "stdout",
     "output_type": "stream",
     "text": [
      "CNN: f1 = 0.6495474716680674\n"
     ]
    }
   ],
   "source": [
    "# Performance\n",
    "with open(Path(\"cnn\", \"performance.json\"), \"r\") as fp:\n",
    "    cnn_performance = json.load(fp)\n",
    "print (f'CNN: f1 = {cnn_performance[\"f1\"]}')"
   ]
  },
  {
   "cell_type": "markdown",
   "id": "a8eb8f6b",
   "metadata": {},
   "source": [
    "This was just one run on one split so you'll want to experiment with k-fold cross validation to properly reach any conclusions about performance. Also make sure you take the time to tune these baselines since their training periods are quite fast (we can achieve f1 of 0.7 with just a bit of tuning for both CNN / Transformers). We'll cover optimization in a few lessons so you can replicate the process here on your own time. We should also benchmark on other important metrics as we iterate, not just precision and recall."
   ]
  },
  {
   "cell_type": "code",
   "execution_count": 157,
   "id": "7a1a32c1",
   "metadata": {},
   "outputs": [
    {
     "name": "stdout",
     "output_type": "stream",
     "text": [
      "CNN: 4.3 MB\n"
     ]
    }
   ],
   "source": [
    "# Size\n",
    "print (f'CNN: {Path(\"cnn\", \"model.pt\").stat().st_size/1000000:.1f} MB')"
   ]
  },
  {
   "cell_type": "markdown",
   "id": "fd5169d4",
   "metadata": {},
   "source": [
    "We'll consider other tradeoffs such as maintenance overhead, behavioral test performances, etc. as we develop.\n",
    "\n",
    "> Interpretability was not one of requirements but note that we could've tweaked model outputs to deliver it. For example, since we used SAME padding for our CNN, we can use the activation scores to extract influential n-grams."
   ]
  },
  {
   "cell_type": "code",
   "execution_count": null,
   "id": "1f43f73d",
   "metadata": {},
   "outputs": [],
   "source": []
  }
 ],
 "metadata": {
  "kernelspec": {
   "display_name": "Python 3 (ipykernel)",
   "language": "python",
   "name": "python3"
  },
  "language_info": {
   "codemirror_mode": {
    "name": "ipython",
    "version": 3
   },
   "file_extension": ".py",
   "mimetype": "text/x-python",
   "name": "python",
   "nbconvert_exporter": "python",
   "pygments_lexer": "ipython3",
   "version": "3.9.7"
  }
 },
 "nbformat": 4,
 "nbformat_minor": 5
}
